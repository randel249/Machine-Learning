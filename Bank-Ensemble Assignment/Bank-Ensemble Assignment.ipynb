{
 "cells": [
  {
   "cell_type": "markdown",
   "metadata": {},
   "source": [
    "## Data Description:\n",
    "\n",
    "\n",
    "\n",
    "The data is related with direct marketing campaigns of a Portuguese banking institution.\n",
    "The marketing campaigns were based on phone calls. Often, more than one contact to\n",
    "the same client was required, in order to access if the product (bank term deposit) would\n",
    "be ('yes') or not ('no') subscribed. \n",
    "\n",
    "\n",
    "Domain:\n",
    "\n",
    "Banking\n",
    "\n",
    "\n",
    "Context:\n",
    "Leveraging customer information is paramount for most businesses. In the case of a bank,\n",
    "attributes of customers like the ones mentioned below can be crucial in strategizing a\n",
    "marketing campaign when launching a new product.\n",
    "\n",
    "Attribute Information:\n",
    "1. age (numeric)\n",
    "\n",
    "2. job : type of job (categorical: 'admin.','bluecollar','entrepreneur','housemaid','management','retired','selfemployed','services','student','technician','unemployed','unknown')\n",
    "\n",
    "3. marital : marital status (categorical: 'divorced','married','single','unknown';\n",
    "note: 'divorced' means divorced or widowed)\n",
    "\n",
    "4. education (categorical:\n",
    "'basic.4y','basic.6y','basic.9y','high.school','illiterate','professional.course','univers\n",
    "ity.degree','unknown')\n",
    "\n",
    "5. default: has credit in default? (categorical: 'no','yes','unknown')\n",
    "\n",
    "6. balance: average yearly balance, in euros (numeric)\n",
    "\n",
    "7. housing: has housing loan? (categorical: 'no','yes','unknown')\n",
    "\n",
    "8. loan: has personal loan? (categorical: 'no','yes','unknown')\n",
    "\n",
    "9. contact: contact communication type (categorical: 'cellular','telephone')\n",
    "\n",
    "10.day: last contact day of the month (numeric 1 -31)\n",
    "\n",
    "11.month: last contact month of year (categorical: 'jan', 'feb', 'mar', ..., 'nov', 'dec')\n",
    "\n",
    "12.duration: last contact duration, in seconds (numeric). Important note: this\n",
    "attribute highly affects the output target (e.g., if duration=0 then y='no'). Yet,\n",
    "the duration is not known before a call is performed. Also, after the end of the\n",
    "call y is obviously known. Thus, this input should only be included for benchmark\n",
    "purposes and should be discarded if the intention is to have a realistic predictive\n",
    "model.\n",
    "\n",
    "13.campaign: number of contacts performed during this campaign and for this\n",
    "client (numeric, includes last contact)\n",
    "\n",
    "14.pdays: number of days that passed by after the client was last contacted from a\n",
    "previous campaign (numeric; 999 means client was not previously contacted)\n",
    "\n",
    "15.previous: number of contacts performed before this campaign and for this client\n",
    "(numeric)\n",
    "\n",
    "16.poutcome: outcome of the previous marketing campaign (categorical:\n",
    "'failure','nonexistent','success')\n",
    "\n",
    "17.target: has the client subscribed a term deposit? (binary: \"yes\",\"no\")"
   ]
  },
  {
   "cell_type": "markdown",
   "metadata": {},
   "source": [
    "# Learning Outcomes:"
   ]
  },
  {
   "cell_type": "markdown",
   "metadata": {},
   "source": [
    " Exploratory Data Analysis\n",
    "\n",
    " Preparing the data to train a model\n",
    "\n",
    " Training and making predictions using an Ensemble Model\n",
    "\n",
    " Tuning an Ensemble model"
   ]
  },
  {
   "cell_type": "markdown",
   "metadata": {},
   "source": [
    "# Objective:"
   ]
  },
  {
   "cell_type": "markdown",
   "metadata": {},
   "source": [
    "The classification goal is to predict if the client will subscribe (yes/no) a term deposit\n",
    "(variable y)."
   ]
  },
  {
   "cell_type": "markdown",
   "metadata": {},
   "source": [
    "# Steps and tasks:"
   ]
  },
  {
   "cell_type": "markdown",
   "metadata": {},
   "source": [
    "# 1. Import the necessary libraries"
   ]
  },
  {
   "cell_type": "code",
   "execution_count": 151,
   "metadata": {},
   "outputs": [],
   "source": [
    "import pandas as pd\n",
    "import numpy as np\n",
    "from sklearn import metrics\n",
    "import matplotlib.pyplot as plt\n",
    "%matplotlib inline\n",
    "import seaborn as sns\n",
    "from sklearn.model_selection import train_test_split\n",
    "from sklearn.tree import DecisionTreeClassifier\n",
    "\n",
    "from IPython.display import Image\n",
    "from sklearn import tree\n",
    "from os import system"
   ]
  },
  {
   "cell_type": "markdown",
   "metadata": {},
   "source": [
    "# 2. Read the data as a data frame"
   ]
  },
  {
   "cell_type": "code",
   "execution_count": 152,
   "metadata": {},
   "outputs": [
    {
     "data": {
      "text/html": [
       "<div>\n",
       "<style scoped>\n",
       "    .dataframe tbody tr th:only-of-type {\n",
       "        vertical-align: middle;\n",
       "    }\n",
       "\n",
       "    .dataframe tbody tr th {\n",
       "        vertical-align: top;\n",
       "    }\n",
       "\n",
       "    .dataframe thead th {\n",
       "        text-align: right;\n",
       "    }\n",
       "</style>\n",
       "<table border=\"1\" class=\"dataframe\">\n",
       "  <thead>\n",
       "    <tr style=\"text-align: right;\">\n",
       "      <th></th>\n",
       "      <th>age</th>\n",
       "      <th>job</th>\n",
       "      <th>marital</th>\n",
       "      <th>education</th>\n",
       "      <th>default</th>\n",
       "      <th>balance</th>\n",
       "      <th>housing</th>\n",
       "      <th>loan</th>\n",
       "      <th>contact</th>\n",
       "      <th>day</th>\n",
       "      <th>month</th>\n",
       "      <th>duration</th>\n",
       "      <th>campaign</th>\n",
       "      <th>pdays</th>\n",
       "      <th>previous</th>\n",
       "      <th>poutcome</th>\n",
       "      <th>Target</th>\n",
       "    </tr>\n",
       "  </thead>\n",
       "  <tbody>\n",
       "    <tr>\n",
       "      <td>0</td>\n",
       "      <td>58</td>\n",
       "      <td>management</td>\n",
       "      <td>married</td>\n",
       "      <td>tertiary</td>\n",
       "      <td>no</td>\n",
       "      <td>2143</td>\n",
       "      <td>yes</td>\n",
       "      <td>no</td>\n",
       "      <td>unknown</td>\n",
       "      <td>5</td>\n",
       "      <td>may</td>\n",
       "      <td>261</td>\n",
       "      <td>1</td>\n",
       "      <td>-1</td>\n",
       "      <td>0</td>\n",
       "      <td>unknown</td>\n",
       "      <td>no</td>\n",
       "    </tr>\n",
       "    <tr>\n",
       "      <td>1</td>\n",
       "      <td>44</td>\n",
       "      <td>technician</td>\n",
       "      <td>single</td>\n",
       "      <td>secondary</td>\n",
       "      <td>no</td>\n",
       "      <td>29</td>\n",
       "      <td>yes</td>\n",
       "      <td>no</td>\n",
       "      <td>unknown</td>\n",
       "      <td>5</td>\n",
       "      <td>may</td>\n",
       "      <td>151</td>\n",
       "      <td>1</td>\n",
       "      <td>-1</td>\n",
       "      <td>0</td>\n",
       "      <td>unknown</td>\n",
       "      <td>no</td>\n",
       "    </tr>\n",
       "    <tr>\n",
       "      <td>2</td>\n",
       "      <td>33</td>\n",
       "      <td>entrepreneur</td>\n",
       "      <td>married</td>\n",
       "      <td>secondary</td>\n",
       "      <td>no</td>\n",
       "      <td>2</td>\n",
       "      <td>yes</td>\n",
       "      <td>yes</td>\n",
       "      <td>unknown</td>\n",
       "      <td>5</td>\n",
       "      <td>may</td>\n",
       "      <td>76</td>\n",
       "      <td>1</td>\n",
       "      <td>-1</td>\n",
       "      <td>0</td>\n",
       "      <td>unknown</td>\n",
       "      <td>no</td>\n",
       "    </tr>\n",
       "    <tr>\n",
       "      <td>3</td>\n",
       "      <td>47</td>\n",
       "      <td>blue-collar</td>\n",
       "      <td>married</td>\n",
       "      <td>unknown</td>\n",
       "      <td>no</td>\n",
       "      <td>1506</td>\n",
       "      <td>yes</td>\n",
       "      <td>no</td>\n",
       "      <td>unknown</td>\n",
       "      <td>5</td>\n",
       "      <td>may</td>\n",
       "      <td>92</td>\n",
       "      <td>1</td>\n",
       "      <td>-1</td>\n",
       "      <td>0</td>\n",
       "      <td>unknown</td>\n",
       "      <td>no</td>\n",
       "    </tr>\n",
       "    <tr>\n",
       "      <td>4</td>\n",
       "      <td>33</td>\n",
       "      <td>unknown</td>\n",
       "      <td>single</td>\n",
       "      <td>unknown</td>\n",
       "      <td>no</td>\n",
       "      <td>1</td>\n",
       "      <td>no</td>\n",
       "      <td>no</td>\n",
       "      <td>unknown</td>\n",
       "      <td>5</td>\n",
       "      <td>may</td>\n",
       "      <td>198</td>\n",
       "      <td>1</td>\n",
       "      <td>-1</td>\n",
       "      <td>0</td>\n",
       "      <td>unknown</td>\n",
       "      <td>no</td>\n",
       "    </tr>\n",
       "    <tr>\n",
       "      <td>5</td>\n",
       "      <td>35</td>\n",
       "      <td>management</td>\n",
       "      <td>married</td>\n",
       "      <td>tertiary</td>\n",
       "      <td>no</td>\n",
       "      <td>231</td>\n",
       "      <td>yes</td>\n",
       "      <td>no</td>\n",
       "      <td>unknown</td>\n",
       "      <td>5</td>\n",
       "      <td>may</td>\n",
       "      <td>139</td>\n",
       "      <td>1</td>\n",
       "      <td>-1</td>\n",
       "      <td>0</td>\n",
       "      <td>unknown</td>\n",
       "      <td>no</td>\n",
       "    </tr>\n",
       "    <tr>\n",
       "      <td>6</td>\n",
       "      <td>28</td>\n",
       "      <td>management</td>\n",
       "      <td>single</td>\n",
       "      <td>tertiary</td>\n",
       "      <td>no</td>\n",
       "      <td>447</td>\n",
       "      <td>yes</td>\n",
       "      <td>yes</td>\n",
       "      <td>unknown</td>\n",
       "      <td>5</td>\n",
       "      <td>may</td>\n",
       "      <td>217</td>\n",
       "      <td>1</td>\n",
       "      <td>-1</td>\n",
       "      <td>0</td>\n",
       "      <td>unknown</td>\n",
       "      <td>no</td>\n",
       "    </tr>\n",
       "    <tr>\n",
       "      <td>7</td>\n",
       "      <td>42</td>\n",
       "      <td>entrepreneur</td>\n",
       "      <td>divorced</td>\n",
       "      <td>tertiary</td>\n",
       "      <td>yes</td>\n",
       "      <td>2</td>\n",
       "      <td>yes</td>\n",
       "      <td>no</td>\n",
       "      <td>unknown</td>\n",
       "      <td>5</td>\n",
       "      <td>may</td>\n",
       "      <td>380</td>\n",
       "      <td>1</td>\n",
       "      <td>-1</td>\n",
       "      <td>0</td>\n",
       "      <td>unknown</td>\n",
       "      <td>no</td>\n",
       "    </tr>\n",
       "    <tr>\n",
       "      <td>8</td>\n",
       "      <td>58</td>\n",
       "      <td>retired</td>\n",
       "      <td>married</td>\n",
       "      <td>primary</td>\n",
       "      <td>no</td>\n",
       "      <td>121</td>\n",
       "      <td>yes</td>\n",
       "      <td>no</td>\n",
       "      <td>unknown</td>\n",
       "      <td>5</td>\n",
       "      <td>may</td>\n",
       "      <td>50</td>\n",
       "      <td>1</td>\n",
       "      <td>-1</td>\n",
       "      <td>0</td>\n",
       "      <td>unknown</td>\n",
       "      <td>no</td>\n",
       "    </tr>\n",
       "    <tr>\n",
       "      <td>9</td>\n",
       "      <td>43</td>\n",
       "      <td>technician</td>\n",
       "      <td>single</td>\n",
       "      <td>secondary</td>\n",
       "      <td>no</td>\n",
       "      <td>593</td>\n",
       "      <td>yes</td>\n",
       "      <td>no</td>\n",
       "      <td>unknown</td>\n",
       "      <td>5</td>\n",
       "      <td>may</td>\n",
       "      <td>55</td>\n",
       "      <td>1</td>\n",
       "      <td>-1</td>\n",
       "      <td>0</td>\n",
       "      <td>unknown</td>\n",
       "      <td>no</td>\n",
       "    </tr>\n",
       "  </tbody>\n",
       "</table>\n",
       "</div>"
      ],
      "text/plain": [
       "   age           job   marital  education default  balance housing loan  \\\n",
       "0   58    management   married   tertiary      no     2143     yes   no   \n",
       "1   44    technician    single  secondary      no       29     yes   no   \n",
       "2   33  entrepreneur   married  secondary      no        2     yes  yes   \n",
       "3   47   blue-collar   married    unknown      no     1506     yes   no   \n",
       "4   33       unknown    single    unknown      no        1      no   no   \n",
       "5   35    management   married   tertiary      no      231     yes   no   \n",
       "6   28    management    single   tertiary      no      447     yes  yes   \n",
       "7   42  entrepreneur  divorced   tertiary     yes        2     yes   no   \n",
       "8   58       retired   married    primary      no      121     yes   no   \n",
       "9   43    technician    single  secondary      no      593     yes   no   \n",
       "\n",
       "   contact  day month  duration  campaign  pdays  previous poutcome Target  \n",
       "0  unknown    5   may       261         1     -1         0  unknown     no  \n",
       "1  unknown    5   may       151         1     -1         0  unknown     no  \n",
       "2  unknown    5   may        76         1     -1         0  unknown     no  \n",
       "3  unknown    5   may        92         1     -1         0  unknown     no  \n",
       "4  unknown    5   may       198         1     -1         0  unknown     no  \n",
       "5  unknown    5   may       139         1     -1         0  unknown     no  \n",
       "6  unknown    5   may       217         1     -1         0  unknown     no  \n",
       "7  unknown    5   may       380         1     -1         0  unknown     no  \n",
       "8  unknown    5   may        50         1     -1         0  unknown     no  \n",
       "9  unknown    5   may        55         1     -1         0  unknown     no  "
      ]
     },
     "execution_count": 152,
     "metadata": {},
     "output_type": "execute_result"
    }
   ],
   "source": [
    "creditData = pd.read_csv('bank-full.csv')\n",
    "creditData.head(10)"
   ]
  },
  {
   "cell_type": "markdown",
   "metadata": {},
   "source": [
    "# 3. Perform basic EDA which should include the following and print out your insights at every step. "
   ]
  },
  {
   "cell_type": "markdown",
   "metadata": {},
   "source": [
    "# a. Shape of the data"
   ]
  },
  {
   "cell_type": "code",
   "execution_count": 153,
   "metadata": {},
   "outputs": [
    {
     "data": {
      "text/plain": [
       "(45211, 17)"
      ]
     },
     "execution_count": 153,
     "metadata": {},
     "output_type": "execute_result"
    }
   ],
   "source": [
    "creditData.shape"
   ]
  },
  {
   "cell_type": "markdown",
   "metadata": {},
   "source": [
    "The dataframe is a 45211 x 17 matrix with 17 attributes and 45211 rows"
   ]
  },
  {
   "cell_type": "markdown",
   "metadata": {},
   "source": [
    "# b. Data type of each attribute"
   ]
  },
  {
   "cell_type": "code",
   "execution_count": 154,
   "metadata": {},
   "outputs": [
    {
     "name": "stdout",
     "output_type": "stream",
     "text": [
      "<class 'pandas.core.frame.DataFrame'>\n",
      "RangeIndex: 45211 entries, 0 to 45210\n",
      "Data columns (total 17 columns):\n",
      "age          45211 non-null int64\n",
      "job          45211 non-null object\n",
      "marital      45211 non-null object\n",
      "education    45211 non-null object\n",
      "default      45211 non-null object\n",
      "balance      45211 non-null int64\n",
      "housing      45211 non-null object\n",
      "loan         45211 non-null object\n",
      "contact      45211 non-null object\n",
      "day          45211 non-null int64\n",
      "month        45211 non-null object\n",
      "duration     45211 non-null int64\n",
      "campaign     45211 non-null int64\n",
      "pdays        45211 non-null int64\n",
      "previous     45211 non-null int64\n",
      "poutcome     45211 non-null object\n",
      "Target       45211 non-null object\n",
      "dtypes: int64(7), object(10)\n",
      "memory usage: 4.1+ MB\n"
     ]
    }
   ],
   "source": [
    "creditData.info()"
   ]
  },
  {
   "cell_type": "markdown",
   "metadata": {},
   "source": [
    "There is 45211 entries in each columns and there is no missing values."
   ]
  },
  {
   "cell_type": "markdown",
   "metadata": {},
   "source": [
    "# c. Checking the presence of missing values"
   ]
  },
  {
   "cell_type": "code",
   "execution_count": 155,
   "metadata": {},
   "outputs": [
    {
     "data": {
      "text/plain": [
       "age          0\n",
       "job          0\n",
       "marital      0\n",
       "education    0\n",
       "default      0\n",
       "balance      0\n",
       "housing      0\n",
       "loan         0\n",
       "contact      0\n",
       "day          0\n",
       "month        0\n",
       "duration     0\n",
       "campaign     0\n",
       "pdays        0\n",
       "previous     0\n",
       "poutcome     0\n",
       "Target       0\n",
       "dtype: int64"
      ]
     },
     "execution_count": 155,
     "metadata": {},
     "output_type": "execute_result"
    }
   ],
   "source": [
    "pd.isnull(creditData).sum()"
   ]
  },
  {
   "cell_type": "markdown",
   "metadata": {},
   "source": [
    "There are no missing values within the dataset.Although there are no missing values.There is the label 'unknown' as seen in the head of the dataset within the dataset that corresponds to a missing value.We may have to deal with the same at a later stage."
   ]
  },
  {
   "cell_type": "markdown",
   "metadata": {},
   "source": [
    "# d. 5 Point summary of numerical attributes"
   ]
  },
  {
   "cell_type": "code",
   "execution_count": 156,
   "metadata": {},
   "outputs": [
    {
     "data": {
      "text/html": [
       "<div>\n",
       "<style scoped>\n",
       "    .dataframe tbody tr th:only-of-type {\n",
       "        vertical-align: middle;\n",
       "    }\n",
       "\n",
       "    .dataframe tbody tr th {\n",
       "        vertical-align: top;\n",
       "    }\n",
       "\n",
       "    .dataframe thead th {\n",
       "        text-align: right;\n",
       "    }\n",
       "</style>\n",
       "<table border=\"1\" class=\"dataframe\">\n",
       "  <thead>\n",
       "    <tr style=\"text-align: right;\">\n",
       "      <th></th>\n",
       "      <th>age</th>\n",
       "      <th>job</th>\n",
       "      <th>marital</th>\n",
       "      <th>education</th>\n",
       "      <th>default</th>\n",
       "      <th>balance</th>\n",
       "      <th>housing</th>\n",
       "      <th>loan</th>\n",
       "      <th>contact</th>\n",
       "      <th>day</th>\n",
       "      <th>month</th>\n",
       "      <th>duration</th>\n",
       "      <th>campaign</th>\n",
       "      <th>pdays</th>\n",
       "      <th>previous</th>\n",
       "      <th>poutcome</th>\n",
       "      <th>Target</th>\n",
       "    </tr>\n",
       "  </thead>\n",
       "  <tbody>\n",
       "    <tr>\n",
       "      <td>count</td>\n",
       "      <td>45211.000000</td>\n",
       "      <td>45211</td>\n",
       "      <td>45211</td>\n",
       "      <td>45211</td>\n",
       "      <td>45211</td>\n",
       "      <td>45211.000000</td>\n",
       "      <td>45211</td>\n",
       "      <td>45211</td>\n",
       "      <td>45211</td>\n",
       "      <td>45211.000000</td>\n",
       "      <td>45211</td>\n",
       "      <td>45211.000000</td>\n",
       "      <td>45211.000000</td>\n",
       "      <td>45211.000000</td>\n",
       "      <td>45211.000000</td>\n",
       "      <td>45211</td>\n",
       "      <td>45211</td>\n",
       "    </tr>\n",
       "    <tr>\n",
       "      <td>unique</td>\n",
       "      <td>NaN</td>\n",
       "      <td>12</td>\n",
       "      <td>3</td>\n",
       "      <td>4</td>\n",
       "      <td>2</td>\n",
       "      <td>NaN</td>\n",
       "      <td>2</td>\n",
       "      <td>2</td>\n",
       "      <td>3</td>\n",
       "      <td>NaN</td>\n",
       "      <td>12</td>\n",
       "      <td>NaN</td>\n",
       "      <td>NaN</td>\n",
       "      <td>NaN</td>\n",
       "      <td>NaN</td>\n",
       "      <td>4</td>\n",
       "      <td>2</td>\n",
       "    </tr>\n",
       "    <tr>\n",
       "      <td>top</td>\n",
       "      <td>NaN</td>\n",
       "      <td>blue-collar</td>\n",
       "      <td>married</td>\n",
       "      <td>secondary</td>\n",
       "      <td>no</td>\n",
       "      <td>NaN</td>\n",
       "      <td>yes</td>\n",
       "      <td>no</td>\n",
       "      <td>cellular</td>\n",
       "      <td>NaN</td>\n",
       "      <td>may</td>\n",
       "      <td>NaN</td>\n",
       "      <td>NaN</td>\n",
       "      <td>NaN</td>\n",
       "      <td>NaN</td>\n",
       "      <td>unknown</td>\n",
       "      <td>no</td>\n",
       "    </tr>\n",
       "    <tr>\n",
       "      <td>freq</td>\n",
       "      <td>NaN</td>\n",
       "      <td>9732</td>\n",
       "      <td>27214</td>\n",
       "      <td>23202</td>\n",
       "      <td>44396</td>\n",
       "      <td>NaN</td>\n",
       "      <td>25130</td>\n",
       "      <td>37967</td>\n",
       "      <td>29285</td>\n",
       "      <td>NaN</td>\n",
       "      <td>13766</td>\n",
       "      <td>NaN</td>\n",
       "      <td>NaN</td>\n",
       "      <td>NaN</td>\n",
       "      <td>NaN</td>\n",
       "      <td>36959</td>\n",
       "      <td>39922</td>\n",
       "    </tr>\n",
       "    <tr>\n",
       "      <td>mean</td>\n",
       "      <td>40.936210</td>\n",
       "      <td>NaN</td>\n",
       "      <td>NaN</td>\n",
       "      <td>NaN</td>\n",
       "      <td>NaN</td>\n",
       "      <td>1362.272058</td>\n",
       "      <td>NaN</td>\n",
       "      <td>NaN</td>\n",
       "      <td>NaN</td>\n",
       "      <td>15.806419</td>\n",
       "      <td>NaN</td>\n",
       "      <td>258.163080</td>\n",
       "      <td>2.763841</td>\n",
       "      <td>40.197828</td>\n",
       "      <td>0.580323</td>\n",
       "      <td>NaN</td>\n",
       "      <td>NaN</td>\n",
       "    </tr>\n",
       "    <tr>\n",
       "      <td>std</td>\n",
       "      <td>10.618762</td>\n",
       "      <td>NaN</td>\n",
       "      <td>NaN</td>\n",
       "      <td>NaN</td>\n",
       "      <td>NaN</td>\n",
       "      <td>3044.765829</td>\n",
       "      <td>NaN</td>\n",
       "      <td>NaN</td>\n",
       "      <td>NaN</td>\n",
       "      <td>8.322476</td>\n",
       "      <td>NaN</td>\n",
       "      <td>257.527812</td>\n",
       "      <td>3.098021</td>\n",
       "      <td>100.128746</td>\n",
       "      <td>2.303441</td>\n",
       "      <td>NaN</td>\n",
       "      <td>NaN</td>\n",
       "    </tr>\n",
       "    <tr>\n",
       "      <td>min</td>\n",
       "      <td>18.000000</td>\n",
       "      <td>NaN</td>\n",
       "      <td>NaN</td>\n",
       "      <td>NaN</td>\n",
       "      <td>NaN</td>\n",
       "      <td>-8019.000000</td>\n",
       "      <td>NaN</td>\n",
       "      <td>NaN</td>\n",
       "      <td>NaN</td>\n",
       "      <td>1.000000</td>\n",
       "      <td>NaN</td>\n",
       "      <td>0.000000</td>\n",
       "      <td>1.000000</td>\n",
       "      <td>-1.000000</td>\n",
       "      <td>0.000000</td>\n",
       "      <td>NaN</td>\n",
       "      <td>NaN</td>\n",
       "    </tr>\n",
       "    <tr>\n",
       "      <td>25%</td>\n",
       "      <td>33.000000</td>\n",
       "      <td>NaN</td>\n",
       "      <td>NaN</td>\n",
       "      <td>NaN</td>\n",
       "      <td>NaN</td>\n",
       "      <td>72.000000</td>\n",
       "      <td>NaN</td>\n",
       "      <td>NaN</td>\n",
       "      <td>NaN</td>\n",
       "      <td>8.000000</td>\n",
       "      <td>NaN</td>\n",
       "      <td>103.000000</td>\n",
       "      <td>1.000000</td>\n",
       "      <td>-1.000000</td>\n",
       "      <td>0.000000</td>\n",
       "      <td>NaN</td>\n",
       "      <td>NaN</td>\n",
       "    </tr>\n",
       "    <tr>\n",
       "      <td>50%</td>\n",
       "      <td>39.000000</td>\n",
       "      <td>NaN</td>\n",
       "      <td>NaN</td>\n",
       "      <td>NaN</td>\n",
       "      <td>NaN</td>\n",
       "      <td>448.000000</td>\n",
       "      <td>NaN</td>\n",
       "      <td>NaN</td>\n",
       "      <td>NaN</td>\n",
       "      <td>16.000000</td>\n",
       "      <td>NaN</td>\n",
       "      <td>180.000000</td>\n",
       "      <td>2.000000</td>\n",
       "      <td>-1.000000</td>\n",
       "      <td>0.000000</td>\n",
       "      <td>NaN</td>\n",
       "      <td>NaN</td>\n",
       "    </tr>\n",
       "    <tr>\n",
       "      <td>75%</td>\n",
       "      <td>48.000000</td>\n",
       "      <td>NaN</td>\n",
       "      <td>NaN</td>\n",
       "      <td>NaN</td>\n",
       "      <td>NaN</td>\n",
       "      <td>1428.000000</td>\n",
       "      <td>NaN</td>\n",
       "      <td>NaN</td>\n",
       "      <td>NaN</td>\n",
       "      <td>21.000000</td>\n",
       "      <td>NaN</td>\n",
       "      <td>319.000000</td>\n",
       "      <td>3.000000</td>\n",
       "      <td>-1.000000</td>\n",
       "      <td>0.000000</td>\n",
       "      <td>NaN</td>\n",
       "      <td>NaN</td>\n",
       "    </tr>\n",
       "    <tr>\n",
       "      <td>max</td>\n",
       "      <td>95.000000</td>\n",
       "      <td>NaN</td>\n",
       "      <td>NaN</td>\n",
       "      <td>NaN</td>\n",
       "      <td>NaN</td>\n",
       "      <td>102127.000000</td>\n",
       "      <td>NaN</td>\n",
       "      <td>NaN</td>\n",
       "      <td>NaN</td>\n",
       "      <td>31.000000</td>\n",
       "      <td>NaN</td>\n",
       "      <td>4918.000000</td>\n",
       "      <td>63.000000</td>\n",
       "      <td>871.000000</td>\n",
       "      <td>275.000000</td>\n",
       "      <td>NaN</td>\n",
       "      <td>NaN</td>\n",
       "    </tr>\n",
       "  </tbody>\n",
       "</table>\n",
       "</div>"
      ],
      "text/plain": [
       "                 age          job  marital  education default        balance  \\\n",
       "count   45211.000000        45211    45211      45211   45211   45211.000000   \n",
       "unique           NaN           12        3          4       2            NaN   \n",
       "top              NaN  blue-collar  married  secondary      no            NaN   \n",
       "freq             NaN         9732    27214      23202   44396            NaN   \n",
       "mean       40.936210          NaN      NaN        NaN     NaN    1362.272058   \n",
       "std        10.618762          NaN      NaN        NaN     NaN    3044.765829   \n",
       "min        18.000000          NaN      NaN        NaN     NaN   -8019.000000   \n",
       "25%        33.000000          NaN      NaN        NaN     NaN      72.000000   \n",
       "50%        39.000000          NaN      NaN        NaN     NaN     448.000000   \n",
       "75%        48.000000          NaN      NaN        NaN     NaN    1428.000000   \n",
       "max        95.000000          NaN      NaN        NaN     NaN  102127.000000   \n",
       "\n",
       "       housing   loan   contact           day  month      duration  \\\n",
       "count    45211  45211     45211  45211.000000  45211  45211.000000   \n",
       "unique       2      2         3           NaN     12           NaN   \n",
       "top        yes     no  cellular           NaN    may           NaN   \n",
       "freq     25130  37967     29285           NaN  13766           NaN   \n",
       "mean       NaN    NaN       NaN     15.806419    NaN    258.163080   \n",
       "std        NaN    NaN       NaN      8.322476    NaN    257.527812   \n",
       "min        NaN    NaN       NaN      1.000000    NaN      0.000000   \n",
       "25%        NaN    NaN       NaN      8.000000    NaN    103.000000   \n",
       "50%        NaN    NaN       NaN     16.000000    NaN    180.000000   \n",
       "75%        NaN    NaN       NaN     21.000000    NaN    319.000000   \n",
       "max        NaN    NaN       NaN     31.000000    NaN   4918.000000   \n",
       "\n",
       "            campaign         pdays      previous poutcome Target  \n",
       "count   45211.000000  45211.000000  45211.000000    45211  45211  \n",
       "unique           NaN           NaN           NaN        4      2  \n",
       "top              NaN           NaN           NaN  unknown     no  \n",
       "freq             NaN           NaN           NaN    36959  39922  \n",
       "mean        2.763841     40.197828      0.580323      NaN    NaN  \n",
       "std         3.098021    100.128746      2.303441      NaN    NaN  \n",
       "min         1.000000     -1.000000      0.000000      NaN    NaN  \n",
       "25%         1.000000     -1.000000      0.000000      NaN    NaN  \n",
       "50%         2.000000     -1.000000      0.000000      NaN    NaN  \n",
       "75%         3.000000     -1.000000      0.000000      NaN    NaN  \n",
       "max        63.000000    871.000000    275.000000      NaN    NaN  "
      ]
     },
     "execution_count": 156,
     "metadata": {},
     "output_type": "execute_result"
    }
   ],
   "source": [
    "creditData.describe(include = 'all')"
   ]
  },
  {
   "cell_type": "markdown",
   "metadata": {},
   "source": [
    "From a preliminary analysis,we have attributes job,marital,education,default,housing,loan,contact,month,poutcome and target which are objects which are probably categotical variables and age,balance,day,pdays and previous which have integers probably denoting that they are continous variables.\n",
    "\n",
    "We can also see the five point summary of all the numerical attributes in the above table in the last five rows below."
   ]
  },
  {
   "cell_type": "code",
   "execution_count": 157,
   "metadata": {},
   "outputs": [
    {
     "data": {
      "text/html": [
       "<div>\n",
       "<style scoped>\n",
       "    .dataframe tbody tr th:only-of-type {\n",
       "        vertical-align: middle;\n",
       "    }\n",
       "\n",
       "    .dataframe tbody tr th {\n",
       "        vertical-align: top;\n",
       "    }\n",
       "\n",
       "    .dataframe thead th {\n",
       "        text-align: right;\n",
       "    }\n",
       "</style>\n",
       "<table border=\"1\" class=\"dataframe\">\n",
       "  <thead>\n",
       "    <tr style=\"text-align: right;\">\n",
       "      <th></th>\n",
       "      <th>age</th>\n",
       "      <th>balance</th>\n",
       "      <th>day</th>\n",
       "      <th>duration</th>\n",
       "      <th>campaign</th>\n",
       "      <th>pdays</th>\n",
       "      <th>previous</th>\n",
       "    </tr>\n",
       "  </thead>\n",
       "  <tbody>\n",
       "    <tr>\n",
       "      <td>age</td>\n",
       "      <td>1.000000</td>\n",
       "      <td>0.097783</td>\n",
       "      <td>-0.009120</td>\n",
       "      <td>-0.004648</td>\n",
       "      <td>0.004760</td>\n",
       "      <td>-0.023758</td>\n",
       "      <td>0.001288</td>\n",
       "    </tr>\n",
       "    <tr>\n",
       "      <td>balance</td>\n",
       "      <td>0.097783</td>\n",
       "      <td>1.000000</td>\n",
       "      <td>0.004503</td>\n",
       "      <td>0.021560</td>\n",
       "      <td>-0.014578</td>\n",
       "      <td>0.003435</td>\n",
       "      <td>0.016674</td>\n",
       "    </tr>\n",
       "    <tr>\n",
       "      <td>day</td>\n",
       "      <td>-0.009120</td>\n",
       "      <td>0.004503</td>\n",
       "      <td>1.000000</td>\n",
       "      <td>-0.030206</td>\n",
       "      <td>0.162490</td>\n",
       "      <td>-0.093044</td>\n",
       "      <td>-0.051710</td>\n",
       "    </tr>\n",
       "    <tr>\n",
       "      <td>duration</td>\n",
       "      <td>-0.004648</td>\n",
       "      <td>0.021560</td>\n",
       "      <td>-0.030206</td>\n",
       "      <td>1.000000</td>\n",
       "      <td>-0.084570</td>\n",
       "      <td>-0.001565</td>\n",
       "      <td>0.001203</td>\n",
       "    </tr>\n",
       "    <tr>\n",
       "      <td>campaign</td>\n",
       "      <td>0.004760</td>\n",
       "      <td>-0.014578</td>\n",
       "      <td>0.162490</td>\n",
       "      <td>-0.084570</td>\n",
       "      <td>1.000000</td>\n",
       "      <td>-0.088628</td>\n",
       "      <td>-0.032855</td>\n",
       "    </tr>\n",
       "    <tr>\n",
       "      <td>pdays</td>\n",
       "      <td>-0.023758</td>\n",
       "      <td>0.003435</td>\n",
       "      <td>-0.093044</td>\n",
       "      <td>-0.001565</td>\n",
       "      <td>-0.088628</td>\n",
       "      <td>1.000000</td>\n",
       "      <td>0.454820</td>\n",
       "    </tr>\n",
       "    <tr>\n",
       "      <td>previous</td>\n",
       "      <td>0.001288</td>\n",
       "      <td>0.016674</td>\n",
       "      <td>-0.051710</td>\n",
       "      <td>0.001203</td>\n",
       "      <td>-0.032855</td>\n",
       "      <td>0.454820</td>\n",
       "      <td>1.000000</td>\n",
       "    </tr>\n",
       "  </tbody>\n",
       "</table>\n",
       "</div>"
      ],
      "text/plain": [
       "               age   balance       day  duration  campaign     pdays  previous\n",
       "age       1.000000  0.097783 -0.009120 -0.004648  0.004760 -0.023758  0.001288\n",
       "balance   0.097783  1.000000  0.004503  0.021560 -0.014578  0.003435  0.016674\n",
       "day      -0.009120  0.004503  1.000000 -0.030206  0.162490 -0.093044 -0.051710\n",
       "duration -0.004648  0.021560 -0.030206  1.000000 -0.084570 -0.001565  0.001203\n",
       "campaign  0.004760 -0.014578  0.162490 -0.084570  1.000000 -0.088628 -0.032855\n",
       "pdays    -0.023758  0.003435 -0.093044 -0.001565 -0.088628  1.000000  0.454820\n",
       "previous  0.001288  0.016674 -0.051710  0.001203 -0.032855  0.454820  1.000000"
      ]
     },
     "execution_count": 157,
     "metadata": {},
     "output_type": "execute_result"
    }
   ],
   "source": [
    "creditData.corr()"
   ]
  },
  {
   "cell_type": "markdown",
   "metadata": {},
   "source": [
    "A significant amount of correlation can be seen in between the columns pdays and previous.We have to have further investigation into the attributes for confirmation of suitable correlation"
   ]
  },
  {
   "cell_type": "code",
   "execution_count": 158,
   "metadata": {},
   "outputs": [],
   "source": [
    "prevcontact = creditData[creditData['pdays']!=-1]"
   ]
  },
  {
   "cell_type": "markdown",
   "metadata": {},
   "source": [
    "Removing the default value set when the client is not contacted previously"
   ]
  },
  {
   "cell_type": "code",
   "execution_count": 159,
   "metadata": {},
   "outputs": [
    {
     "data": {
      "text/html": [
       "<div>\n",
       "<style scoped>\n",
       "    .dataframe tbody tr th:only-of-type {\n",
       "        vertical-align: middle;\n",
       "    }\n",
       "\n",
       "    .dataframe tbody tr th {\n",
       "        vertical-align: top;\n",
       "    }\n",
       "\n",
       "    .dataframe thead th {\n",
       "        text-align: right;\n",
       "    }\n",
       "</style>\n",
       "<table border=\"1\" class=\"dataframe\">\n",
       "  <thead>\n",
       "    <tr style=\"text-align: right;\">\n",
       "      <th></th>\n",
       "      <th>age</th>\n",
       "      <th>balance</th>\n",
       "      <th>day</th>\n",
       "      <th>duration</th>\n",
       "      <th>campaign</th>\n",
       "      <th>pdays</th>\n",
       "      <th>previous</th>\n",
       "    </tr>\n",
       "  </thead>\n",
       "  <tbody>\n",
       "    <tr>\n",
       "      <td>age</td>\n",
       "      <td>1.000000</td>\n",
       "      <td>0.115480</td>\n",
       "      <td>0.018399</td>\n",
       "      <td>0.060519</td>\n",
       "      <td>0.003842</td>\n",
       "      <td>-0.107863</td>\n",
       "      <td>0.002280</td>\n",
       "    </tr>\n",
       "    <tr>\n",
       "      <td>balance</td>\n",
       "      <td>0.115480</td>\n",
       "      <td>1.000000</td>\n",
       "      <td>0.051732</td>\n",
       "      <td>0.040998</td>\n",
       "      <td>-0.008150</td>\n",
       "      <td>-0.108122</td>\n",
       "      <td>0.001570</td>\n",
       "    </tr>\n",
       "    <tr>\n",
       "      <td>day</td>\n",
       "      <td>0.018399</td>\n",
       "      <td>0.051732</td>\n",
       "      <td>1.000000</td>\n",
       "      <td>-0.012687</td>\n",
       "      <td>-0.029295</td>\n",
       "      <td>-0.090095</td>\n",
       "      <td>-0.016801</td>\n",
       "    </tr>\n",
       "    <tr>\n",
       "      <td>duration</td>\n",
       "      <td>0.060519</td>\n",
       "      <td>0.040998</td>\n",
       "      <td>-0.012687</td>\n",
       "      <td>1.000000</td>\n",
       "      <td>-0.088394</td>\n",
       "      <td>-0.024407</td>\n",
       "      <td>-0.002150</td>\n",
       "    </tr>\n",
       "    <tr>\n",
       "      <td>campaign</td>\n",
       "      <td>0.003842</td>\n",
       "      <td>-0.008150</td>\n",
       "      <td>-0.029295</td>\n",
       "      <td>-0.088394</td>\n",
       "      <td>1.000000</td>\n",
       "      <td>0.050534</td>\n",
       "      <td>0.135523</td>\n",
       "    </tr>\n",
       "    <tr>\n",
       "      <td>pdays</td>\n",
       "      <td>-0.107863</td>\n",
       "      <td>-0.108122</td>\n",
       "      <td>-0.090095</td>\n",
       "      <td>-0.024407</td>\n",
       "      <td>0.050534</td>\n",
       "      <td>1.000000</td>\n",
       "      <td>-0.021885</td>\n",
       "    </tr>\n",
       "    <tr>\n",
       "      <td>previous</td>\n",
       "      <td>0.002280</td>\n",
       "      <td>0.001570</td>\n",
       "      <td>-0.016801</td>\n",
       "      <td>-0.002150</td>\n",
       "      <td>0.135523</td>\n",
       "      <td>-0.021885</td>\n",
       "      <td>1.000000</td>\n",
       "    </tr>\n",
       "  </tbody>\n",
       "</table>\n",
       "</div>"
      ],
      "text/plain": [
       "               age   balance       day  duration  campaign     pdays  previous\n",
       "age       1.000000  0.115480  0.018399  0.060519  0.003842 -0.107863  0.002280\n",
       "balance   0.115480  1.000000  0.051732  0.040998 -0.008150 -0.108122  0.001570\n",
       "day       0.018399  0.051732  1.000000 -0.012687 -0.029295 -0.090095 -0.016801\n",
       "duration  0.060519  0.040998 -0.012687  1.000000 -0.088394 -0.024407 -0.002150\n",
       "campaign  0.003842 -0.008150 -0.029295 -0.088394  1.000000  0.050534  0.135523\n",
       "pdays    -0.107863 -0.108122 -0.090095 -0.024407  0.050534  1.000000 -0.021885\n",
       "previous  0.002280  0.001570 -0.016801 -0.002150  0.135523 -0.021885  1.000000"
      ]
     },
     "execution_count": 159,
     "metadata": {},
     "output_type": "execute_result"
    }
   ],
   "source": [
    "prevcontact.corr()"
   ]
  },
  {
   "cell_type": "markdown",
   "metadata": {},
   "source": [
    "We can notice that the correlation suddenly vanish as we know for all the values for pdays = -1 where the client was not previously contacted the previous would be 0 as the no. of days the client has been contacted is 0.The correlation has arose due to this similarity in values"
   ]
  },
  {
   "cell_type": "markdown",
   "metadata": {},
   "source": [
    "# e. Checking the presence of outliers"
   ]
  },
  {
   "cell_type": "code",
   "execution_count": 160,
   "metadata": {},
   "outputs": [
    {
     "data": {
      "text/plain": [
       "<matplotlib.axes._subplots.AxesSubplot at 0xfea58f0>"
      ]
     },
     "execution_count": 160,
     "metadata": {},
     "output_type": "execute_result"
    },
    {
     "data": {
      "image/png": "[encoded data removed]",
      "text/plain": [
       "<Figure size 432x288 with 1 Axes>"
      ]
     },
     "metadata": {
      "needs_background": "light"
     },
     "output_type": "display_data"
    }
   ],
   "source": [
    "sns.boxplot(x= 'age',data = creditData)"
   ]
  },
  {
   "cell_type": "code",
   "execution_count": 161,
   "metadata": {},
   "outputs": [
    {
     "data": {
      "text/plain": [
       "<matplotlib.axes._subplots.AxesSubplot at 0x103a1e50>"
      ]
     },
     "execution_count": 161,
     "metadata": {},
     "output_type": "execute_result"
    },
    {
     "data": {
      "image/png": "[encoded data removed]",
      "text/plain": [
       "<Figure size 432x288 with 1 Axes>"
      ]
     },
     "metadata": {
      "needs_background": "light"
     },
     "output_type": "display_data"
    }
   ],
   "source": [
    "sns.boxplot(x='duration',data =creditData)"
   ]
  },
  {
   "cell_type": "code",
   "execution_count": 162,
   "metadata": {},
   "outputs": [
    {
     "data": {
      "text/plain": [
       "<matplotlib.axes._subplots.AxesSubplot at 0x10255770>"
      ]
     },
     "execution_count": 162,
     "metadata": {},
     "output_type": "execute_result"
    },
    {
     "data": {
      "image/png": "[encoded data removed]",
      "text/plain": [
       "<Figure size 432x288 with 1 Axes>"
      ]
     },
     "metadata": {
      "needs_background": "light"
     },
     "output_type": "display_data"
    }
   ],
   "source": [
    "sns.boxplot(x='balance',data =creditData)"
   ]
  },
  {
   "cell_type": "code",
   "execution_count": 163,
   "metadata": {},
   "outputs": [
    {
     "data": {
      "text/plain": [
       "<matplotlib.axes._subplots.AxesSubplot at 0x102f76b0>"
      ]
     },
     "execution_count": 163,
     "metadata": {},
     "output_type": "execute_result"
    },
    {
     "data": {
      "image/png": "[encoded data removed]",
      "text/plain": [
       "<Figure size 432x288 with 1 Axes>"
      ]
     },
     "metadata": {
      "needs_background": "light"
     },
     "output_type": "display_data"
    }
   ],
   "source": [
    "sns.boxplot(x='previous',data =creditData)"
   ]
  },
  {
   "cell_type": "code",
   "execution_count": 164,
   "metadata": {},
   "outputs": [
    {
     "data": {
      "text/plain": [
       "<matplotlib.axes._subplots.AxesSubplot at 0x10333f90>"
      ]
     },
     "execution_count": 164,
     "metadata": {},
     "output_type": "execute_result"
    },
    {
     "data": {
      "image/png": "[encoded data removed]",
      "text/plain": [
       "<Figure size 432x288 with 1 Axes>"
      ]
     },
     "metadata": {
      "needs_background": "light"
     },
     "output_type": "display_data"
    }
   ],
   "source": [
    "sns.boxplot(x='pdays',data =creditData)"
   ]
  },
  {
   "cell_type": "code",
   "execution_count": 165,
   "metadata": {},
   "outputs": [
    {
     "data": {
      "text/plain": [
       "<matplotlib.axes._subplots.AxesSubplot at 0x10664db0>"
      ]
     },
     "execution_count": 165,
     "metadata": {},
     "output_type": "execute_result"
    },
    {
     "data": {
      "image/png": "[encoded data removed]",
      "text/plain": [
       "<Figure size 432x288 with 1 Axes>"
      ]
     },
     "metadata": {
      "needs_background": "light"
     },
     "output_type": "display_data"
    }
   ],
   "source": [
    "sns.boxplot(x='pdays',data = prevcontact)"
   ]
  },
  {
   "cell_type": "markdown",
   "metadata": {},
   "source": [
    "There are significant amount of outliers in each of the numerical attributes."
   ]
  },
  {
   "cell_type": "markdown",
   "metadata": {},
   "source": [
    "# EDA for the other categorical attributes"
   ]
  },
  {
   "cell_type": "code",
   "execution_count": 166,
   "metadata": {},
   "outputs": [
    {
     "data": {
      "image/png": "[encoded data removed]",
      "text/plain": [
       "<Figure size 432x288 with 1 Axes>"
      ]
     },
     "metadata": {
      "needs_background": "light"
     },
     "output_type": "display_data"
    }
   ],
   "source": [
    "ax = sns.countplot(x='job',data =creditData)\n",
    "ax.set_xticklabels(ax.get_xticklabels(), rotation=40, ha=\"right\")\n",
    "plt.tight_layout()\n",
    "plt.show()"
   ]
  },
  {
   "cell_type": "code",
   "execution_count": 167,
   "metadata": {},
   "outputs": [
    {
     "data": {
      "text/plain": [
       "<matplotlib.axes._subplots.AxesSubplot at 0x1035b330>"
      ]
     },
     "execution_count": 167,
     "metadata": {},
     "output_type": "execute_result"
    },
    {
     "data": {
      "image/png": "[encoded data removed]",
      "text/plain": [
       "<Figure size 432x288 with 1 Axes>"
      ]
     },
     "metadata": {
      "needs_background": "light"
     },
     "output_type": "display_data"
    }
   ],
   "source": [
    "sns.countplot(x='marital',data =creditData)"
   ]
  },
  {
   "cell_type": "code",
   "execution_count": 168,
   "metadata": {},
   "outputs": [
    {
     "data": {
      "text/plain": [
       "<matplotlib.axes._subplots.AxesSubplot at 0x107129d0>"
      ]
     },
     "execution_count": 168,
     "metadata": {},
     "output_type": "execute_result"
    },
    {
     "data": {
      "image/png": "[encoded data removed]",
      "text/plain": [
       "<Figure size 432x288 with 1 Axes>"
      ]
     },
     "metadata": {
      "needs_background": "light"
     },
     "output_type": "display_data"
    }
   ],
   "source": [
    "sns.countplot(x='education',data =creditData)"
   ]
  },
  {
   "cell_type": "code",
   "execution_count": 169,
   "metadata": {},
   "outputs": [
    {
     "data": {
      "text/plain": [
       "<matplotlib.axes._subplots.AxesSubplot at 0x11024c90>"
      ]
     },
     "execution_count": 169,
     "metadata": {},
     "output_type": "execute_result"
    },
    {
     "data": {
      "image/png": "[encoded data removed]",
      "text/plain": [
       "<Figure size 432x288 with 1 Axes>"
      ]
     },
     "metadata": {
      "needs_background": "light"
     },
     "output_type": "display_data"
    }
   ],
   "source": [
    "sns.countplot(x='default',data =creditData)"
   ]
  },
  {
   "cell_type": "code",
   "execution_count": 170,
   "metadata": {},
   "outputs": [
    {
     "data": {
      "text/plain": [
       "<matplotlib.axes._subplots.AxesSubplot at 0x11058270>"
      ]
     },
     "execution_count": 170,
     "metadata": {},
     "output_type": "execute_result"
    },
    {
     "data": {
      "image/png": "[encoded data removed]",
      "text/plain": [
       "<Figure size 432x288 with 1 Axes>"
      ]
     },
     "metadata": {
      "needs_background": "light"
     },
     "output_type": "display_data"
    }
   ],
   "source": [
    "sns.countplot(x='housing',data =creditData)"
   ]
  },
  {
   "cell_type": "code",
   "execution_count": 171,
   "metadata": {},
   "outputs": [
    {
     "data": {
      "text/plain": [
       "<matplotlib.axes._subplots.AxesSubplot at 0x11082f50>"
      ]
     },
     "execution_count": 171,
     "metadata": {},
     "output_type": "execute_result"
    },
    {
     "data": {
      "image/png": "[encoded data removed]",
      "text/plain": [
       "<Figure size 432x288 with 1 Axes>"
      ]
     },
     "metadata": {
      "needs_background": "light"
     },
     "output_type": "display_data"
    }
   ],
   "source": [
    "sns.countplot(x='contact',data =creditData)"
   ]
  },
  {
   "cell_type": "code",
   "execution_count": 172,
   "metadata": {},
   "outputs": [
    {
     "data": {
      "text/plain": [
       "<matplotlib.axes._subplots.AxesSubplot at 0x110bdcb0>"
      ]
     },
     "execution_count": 172,
     "metadata": {},
     "output_type": "execute_result"
    },
    {
     "data": {
      "image/png": "[encoded data removed]",
      "text/plain": [
       "<Figure size 432x288 with 1 Axes>"
      ]
     },
     "metadata": {
      "needs_background": "light"
     },
     "output_type": "display_data"
    }
   ],
   "source": [
    "sns.countplot(x='month',data =creditData)"
   ]
  },
  {
   "cell_type": "code",
   "execution_count": 173,
   "metadata": {},
   "outputs": [
    {
     "data": {
      "text/plain": [
       "<matplotlib.axes._subplots.AxesSubplot at 0xff47f90>"
      ]
     },
     "execution_count": 173,
     "metadata": {},
     "output_type": "execute_result"
    },
    {
     "data": {
      "image/png": "[encoded data removed]",
      "text/plain": [
       "<Figure size 432x288 with 1 Axes>"
      ]
     },
     "metadata": {
      "needs_background": "light"
     },
     "output_type": "display_data"
    }
   ],
   "source": [
    "sns.countplot(x='Target',data =creditData)"
   ]
  },
  {
   "cell_type": "markdown",
   "metadata": {},
   "source": [
    "The Dataset is  unbalanced as the number of entries in the success category is significantly lesser than the number of entries in the other category"
   ]
  },
  {
   "cell_type": "markdown",
   "metadata": {},
   "source": [
    "The significance of the all the dependent variables to the target variable"
   ]
  },
  {
   "cell_type": "code",
   "execution_count": 174,
   "metadata": {},
   "outputs": [
    {
     "data": {
      "text/html": [
       "<div>\n",
       "<style scoped>\n",
       "    .dataframe tbody tr th:only-of-type {\n",
       "        vertical-align: middle;\n",
       "    }\n",
       "\n",
       "    .dataframe tbody tr th {\n",
       "        vertical-align: top;\n",
       "    }\n",
       "\n",
       "    .dataframe thead th {\n",
       "        text-align: right;\n",
       "    }\n",
       "</style>\n",
       "<table border=\"1\" class=\"dataframe\">\n",
       "  <thead>\n",
       "    <tr style=\"text-align: right;\">\n",
       "      <th>Target</th>\n",
       "      <th>no</th>\n",
       "      <th>yes</th>\n",
       "    </tr>\n",
       "    <tr>\n",
       "      <th>job</th>\n",
       "      <th></th>\n",
       "      <th></th>\n",
       "    </tr>\n",
       "  </thead>\n",
       "  <tbody>\n",
       "    <tr>\n",
       "      <td>admin.</td>\n",
       "      <td>0.877973</td>\n",
       "      <td>0.122027</td>\n",
       "    </tr>\n",
       "    <tr>\n",
       "      <td>blue-collar</td>\n",
       "      <td>0.927250</td>\n",
       "      <td>0.072750</td>\n",
       "    </tr>\n",
       "    <tr>\n",
       "      <td>entrepreneur</td>\n",
       "      <td>0.917283</td>\n",
       "      <td>0.082717</td>\n",
       "    </tr>\n",
       "    <tr>\n",
       "      <td>housemaid</td>\n",
       "      <td>0.912097</td>\n",
       "      <td>0.087903</td>\n",
       "    </tr>\n",
       "    <tr>\n",
       "      <td>management</td>\n",
       "      <td>0.862444</td>\n",
       "      <td>0.137556</td>\n",
       "    </tr>\n",
       "    <tr>\n",
       "      <td>retired</td>\n",
       "      <td>0.772085</td>\n",
       "      <td>0.227915</td>\n",
       "    </tr>\n",
       "    <tr>\n",
       "      <td>self-employed</td>\n",
       "      <td>0.881571</td>\n",
       "      <td>0.118429</td>\n",
       "    </tr>\n",
       "    <tr>\n",
       "      <td>services</td>\n",
       "      <td>0.911170</td>\n",
       "      <td>0.088830</td>\n",
       "    </tr>\n",
       "    <tr>\n",
       "      <td>student</td>\n",
       "      <td>0.713220</td>\n",
       "      <td>0.286780</td>\n",
       "    </tr>\n",
       "    <tr>\n",
       "      <td>technician</td>\n",
       "      <td>0.889430</td>\n",
       "      <td>0.110570</td>\n",
       "    </tr>\n",
       "    <tr>\n",
       "      <td>unemployed</td>\n",
       "      <td>0.844973</td>\n",
       "      <td>0.155027</td>\n",
       "    </tr>\n",
       "    <tr>\n",
       "      <td>unknown</td>\n",
       "      <td>0.881944</td>\n",
       "      <td>0.118056</td>\n",
       "    </tr>\n",
       "  </tbody>\n",
       "</table>\n",
       "</div>"
      ],
      "text/plain": [
       "Target               no       yes\n",
       "job                              \n",
       "admin.         0.877973  0.122027\n",
       "blue-collar    0.927250  0.072750\n",
       "entrepreneur   0.917283  0.082717\n",
       "housemaid      0.912097  0.087903\n",
       "management     0.862444  0.137556\n",
       "retired        0.772085  0.227915\n",
       "self-employed  0.881571  0.118429\n",
       "services       0.911170  0.088830\n",
       "student        0.713220  0.286780\n",
       "technician     0.889430  0.110570\n",
       "unemployed     0.844973  0.155027\n",
       "unknown        0.881944  0.118056"
      ]
     },
     "execution_count": 174,
     "metadata": {},
     "output_type": "execute_result"
    }
   ],
   "source": [
    "pd.crosstab(creditData['job'],creditData['Target'],normalize = 'index')"
   ]
  },
  {
   "cell_type": "code",
   "execution_count": 175,
   "metadata": {},
   "outputs": [
    {
     "data": {
      "text/html": [
       "<div>\n",
       "<style scoped>\n",
       "    .dataframe tbody tr th:only-of-type {\n",
       "        vertical-align: middle;\n",
       "    }\n",
       "\n",
       "    .dataframe tbody tr th {\n",
       "        vertical-align: top;\n",
       "    }\n",
       "\n",
       "    .dataframe thead th {\n",
       "        text-align: right;\n",
       "    }\n",
       "</style>\n",
       "<table border=\"1\" class=\"dataframe\">\n",
       "  <thead>\n",
       "    <tr style=\"text-align: right;\">\n",
       "      <th>Target</th>\n",
       "      <th>no</th>\n",
       "      <th>yes</th>\n",
       "      <th>All</th>\n",
       "    </tr>\n",
       "    <tr>\n",
       "      <th>job</th>\n",
       "      <th></th>\n",
       "      <th></th>\n",
       "      <th></th>\n",
       "    </tr>\n",
       "  </thead>\n",
       "  <tbody>\n",
       "    <tr>\n",
       "      <td>admin.</td>\n",
       "      <td>4540</td>\n",
       "      <td>631</td>\n",
       "      <td>5171</td>\n",
       "    </tr>\n",
       "    <tr>\n",
       "      <td>blue-collar</td>\n",
       "      <td>9024</td>\n",
       "      <td>708</td>\n",
       "      <td>9732</td>\n",
       "    </tr>\n",
       "    <tr>\n",
       "      <td>entrepreneur</td>\n",
       "      <td>1364</td>\n",
       "      <td>123</td>\n",
       "      <td>1487</td>\n",
       "    </tr>\n",
       "    <tr>\n",
       "      <td>housemaid</td>\n",
       "      <td>1131</td>\n",
       "      <td>109</td>\n",
       "      <td>1240</td>\n",
       "    </tr>\n",
       "    <tr>\n",
       "      <td>management</td>\n",
       "      <td>8157</td>\n",
       "      <td>1301</td>\n",
       "      <td>9458</td>\n",
       "    </tr>\n",
       "    <tr>\n",
       "      <td>retired</td>\n",
       "      <td>1748</td>\n",
       "      <td>516</td>\n",
       "      <td>2264</td>\n",
       "    </tr>\n",
       "    <tr>\n",
       "      <td>self-employed</td>\n",
       "      <td>1392</td>\n",
       "      <td>187</td>\n",
       "      <td>1579</td>\n",
       "    </tr>\n",
       "    <tr>\n",
       "      <td>services</td>\n",
       "      <td>3785</td>\n",
       "      <td>369</td>\n",
       "      <td>4154</td>\n",
       "    </tr>\n",
       "    <tr>\n",
       "      <td>student</td>\n",
       "      <td>669</td>\n",
       "      <td>269</td>\n",
       "      <td>938</td>\n",
       "    </tr>\n",
       "    <tr>\n",
       "      <td>technician</td>\n",
       "      <td>6757</td>\n",
       "      <td>840</td>\n",
       "      <td>7597</td>\n",
       "    </tr>\n",
       "    <tr>\n",
       "      <td>unemployed</td>\n",
       "      <td>1101</td>\n",
       "      <td>202</td>\n",
       "      <td>1303</td>\n",
       "    </tr>\n",
       "    <tr>\n",
       "      <td>unknown</td>\n",
       "      <td>254</td>\n",
       "      <td>34</td>\n",
       "      <td>288</td>\n",
       "    </tr>\n",
       "    <tr>\n",
       "      <td>All</td>\n",
       "      <td>39922</td>\n",
       "      <td>5289</td>\n",
       "      <td>45211</td>\n",
       "    </tr>\n",
       "  </tbody>\n",
       "</table>\n",
       "</div>"
      ],
      "text/plain": [
       "Target            no   yes    All\n",
       "job                              \n",
       "admin.          4540   631   5171\n",
       "blue-collar     9024   708   9732\n",
       "entrepreneur    1364   123   1487\n",
       "housemaid       1131   109   1240\n",
       "management      8157  1301   9458\n",
       "retired         1748   516   2264\n",
       "self-employed   1392   187   1579\n",
       "services        3785   369   4154\n",
       "student          669   269    938\n",
       "technician      6757   840   7597\n",
       "unemployed      1101   202   1303\n",
       "unknown          254    34    288\n",
       "All            39922  5289  45211"
      ]
     },
     "execution_count": 175,
     "metadata": {},
     "output_type": "execute_result"
    }
   ],
   "source": [
    "pd.crosstab(creditData['job'],creditData['Target'],margins=True)"
   ]
  },
  {
   "cell_type": "markdown",
   "metadata": {},
   "source": [
    "The students and unemployed are the most likely clients to subscribe for the  the term deposit.\n",
    "The type of clients based on job in the increasing order of probablity of subscription for term deposit are (exluding unknown)\n",
    "\n",
    "1.blue-collar\n",
    "\n",
    "2.entrepreneur\n",
    "\n",
    "3.housemaid\n",
    "\n",
    "4.services\n",
    "\n",
    "5.technician\n",
    "\n",
    "6.self-employed\t\n",
    "\n",
    "7.admin.\n",
    "\n",
    "8.management\n",
    "\n",
    "9.unemployed\n",
    "\n",
    "10.retired\n",
    "\n",
    "11.student"
   ]
  },
  {
   "cell_type": "code",
   "execution_count": 176,
   "metadata": {},
   "outputs": [
    {
     "data": {
      "text/html": [
       "<div>\n",
       "<style scoped>\n",
       "    .dataframe tbody tr th:only-of-type {\n",
       "        vertical-align: middle;\n",
       "    }\n",
       "\n",
       "    .dataframe tbody tr th {\n",
       "        vertical-align: top;\n",
       "    }\n",
       "\n",
       "    .dataframe thead th {\n",
       "        text-align: right;\n",
       "    }\n",
       "</style>\n",
       "<table border=\"1\" class=\"dataframe\">\n",
       "  <thead>\n",
       "    <tr style=\"text-align: right;\">\n",
       "      <th>Target</th>\n",
       "      <th>no</th>\n",
       "      <th>yes</th>\n",
       "    </tr>\n",
       "    <tr>\n",
       "      <th>education</th>\n",
       "      <th></th>\n",
       "      <th></th>\n",
       "    </tr>\n",
       "  </thead>\n",
       "  <tbody>\n",
       "    <tr>\n",
       "      <td>primary</td>\n",
       "      <td>0.913735</td>\n",
       "      <td>0.086265</td>\n",
       "    </tr>\n",
       "    <tr>\n",
       "      <td>secondary</td>\n",
       "      <td>0.894406</td>\n",
       "      <td>0.105594</td>\n",
       "    </tr>\n",
       "    <tr>\n",
       "      <td>tertiary</td>\n",
       "      <td>0.849936</td>\n",
       "      <td>0.150064</td>\n",
       "    </tr>\n",
       "    <tr>\n",
       "      <td>unknown</td>\n",
       "      <td>0.864297</td>\n",
       "      <td>0.135703</td>\n",
       "    </tr>\n",
       "  </tbody>\n",
       "</table>\n",
       "</div>"
      ],
      "text/plain": [
       "Target           no       yes\n",
       "education                    \n",
       "primary    0.913735  0.086265\n",
       "secondary  0.894406  0.105594\n",
       "tertiary   0.849936  0.150064\n",
       "unknown    0.864297  0.135703"
      ]
     },
     "execution_count": 176,
     "metadata": {},
     "output_type": "execute_result"
    }
   ],
   "source": [
    "pd.crosstab(creditData['education'],creditData['Target'],normalize = 'index')"
   ]
  },
  {
   "cell_type": "code",
   "execution_count": 177,
   "metadata": {},
   "outputs": [
    {
     "data": {
      "text/html": [
       "<div>\n",
       "<style scoped>\n",
       "    .dataframe tbody tr th:only-of-type {\n",
       "        vertical-align: middle;\n",
       "    }\n",
       "\n",
       "    .dataframe tbody tr th {\n",
       "        vertical-align: top;\n",
       "    }\n",
       "\n",
       "    .dataframe thead th {\n",
       "        text-align: right;\n",
       "    }\n",
       "</style>\n",
       "<table border=\"1\" class=\"dataframe\">\n",
       "  <thead>\n",
       "    <tr style=\"text-align: right;\">\n",
       "      <th>Target</th>\n",
       "      <th>no</th>\n",
       "      <th>yes</th>\n",
       "      <th>All</th>\n",
       "    </tr>\n",
       "    <tr>\n",
       "      <th>education</th>\n",
       "      <th></th>\n",
       "      <th></th>\n",
       "      <th></th>\n",
       "    </tr>\n",
       "  </thead>\n",
       "  <tbody>\n",
       "    <tr>\n",
       "      <td>primary</td>\n",
       "      <td>6260</td>\n",
       "      <td>591</td>\n",
       "      <td>6851</td>\n",
       "    </tr>\n",
       "    <tr>\n",
       "      <td>secondary</td>\n",
       "      <td>20752</td>\n",
       "      <td>2450</td>\n",
       "      <td>23202</td>\n",
       "    </tr>\n",
       "    <tr>\n",
       "      <td>tertiary</td>\n",
       "      <td>11305</td>\n",
       "      <td>1996</td>\n",
       "      <td>13301</td>\n",
       "    </tr>\n",
       "    <tr>\n",
       "      <td>unknown</td>\n",
       "      <td>1605</td>\n",
       "      <td>252</td>\n",
       "      <td>1857</td>\n",
       "    </tr>\n",
       "    <tr>\n",
       "      <td>All</td>\n",
       "      <td>39922</td>\n",
       "      <td>5289</td>\n",
       "      <td>45211</td>\n",
       "    </tr>\n",
       "  </tbody>\n",
       "</table>\n",
       "</div>"
      ],
      "text/plain": [
       "Target        no   yes    All\n",
       "education                    \n",
       "primary     6260   591   6851\n",
       "secondary  20752  2450  23202\n",
       "tertiary   11305  1996  13301\n",
       "unknown     1605   252   1857\n",
       "All        39922  5289  45211"
      ]
     },
     "execution_count": 177,
     "metadata": {},
     "output_type": "execute_result"
    }
   ],
   "source": [
    "pd.crosstab(creditData['education'],creditData['Target'],margins=True)"
   ]
  },
  {
   "cell_type": "markdown",
   "metadata": {},
   "source": [
    "The probability for client with tertiary education to subcribe to the term deposit is greater than that of one with secondary education followed by the one with primary education"
   ]
  },
  {
   "cell_type": "code",
   "execution_count": 178,
   "metadata": {},
   "outputs": [
    {
     "data": {
      "text/html": [
       "<div>\n",
       "<style scoped>\n",
       "    .dataframe tbody tr th:only-of-type {\n",
       "        vertical-align: middle;\n",
       "    }\n",
       "\n",
       "    .dataframe tbody tr th {\n",
       "        vertical-align: top;\n",
       "    }\n",
       "\n",
       "    .dataframe thead th {\n",
       "        text-align: right;\n",
       "    }\n",
       "</style>\n",
       "<table border=\"1\" class=\"dataframe\">\n",
       "  <thead>\n",
       "    <tr style=\"text-align: right;\">\n",
       "      <th>Target</th>\n",
       "      <th>no</th>\n",
       "      <th>yes</th>\n",
       "    </tr>\n",
       "    <tr>\n",
       "      <th>housing</th>\n",
       "      <th></th>\n",
       "      <th></th>\n",
       "    </tr>\n",
       "  </thead>\n",
       "  <tbody>\n",
       "    <tr>\n",
       "      <td>no</td>\n",
       "      <td>0.832976</td>\n",
       "      <td>0.167024</td>\n",
       "    </tr>\n",
       "    <tr>\n",
       "      <td>yes</td>\n",
       "      <td>0.923000</td>\n",
       "      <td>0.077000</td>\n",
       "    </tr>\n",
       "  </tbody>\n",
       "</table>\n",
       "</div>"
      ],
      "text/plain": [
       "Target         no       yes\n",
       "housing                    \n",
       "no       0.832976  0.167024\n",
       "yes      0.923000  0.077000"
      ]
     },
     "execution_count": 178,
     "metadata": {},
     "output_type": "execute_result"
    }
   ],
   "source": [
    "pd.crosstab(creditData['housing'],creditData['Target'],normalize = 'index')"
   ]
  },
  {
   "cell_type": "code",
   "execution_count": 179,
   "metadata": {},
   "outputs": [
    {
     "data": {
      "text/html": [
       "<div>\n",
       "<style scoped>\n",
       "    .dataframe tbody tr th:only-of-type {\n",
       "        vertical-align: middle;\n",
       "    }\n",
       "\n",
       "    .dataframe tbody tr th {\n",
       "        vertical-align: top;\n",
       "    }\n",
       "\n",
       "    .dataframe thead th {\n",
       "        text-align: right;\n",
       "    }\n",
       "</style>\n",
       "<table border=\"1\" class=\"dataframe\">\n",
       "  <thead>\n",
       "    <tr style=\"text-align: right;\">\n",
       "      <th>Target</th>\n",
       "      <th>no</th>\n",
       "      <th>yes</th>\n",
       "      <th>All</th>\n",
       "    </tr>\n",
       "    <tr>\n",
       "      <th>housing</th>\n",
       "      <th></th>\n",
       "      <th></th>\n",
       "      <th></th>\n",
       "    </tr>\n",
       "  </thead>\n",
       "  <tbody>\n",
       "    <tr>\n",
       "      <td>no</td>\n",
       "      <td>16727</td>\n",
       "      <td>3354</td>\n",
       "      <td>20081</td>\n",
       "    </tr>\n",
       "    <tr>\n",
       "      <td>yes</td>\n",
       "      <td>23195</td>\n",
       "      <td>1935</td>\n",
       "      <td>25130</td>\n",
       "    </tr>\n",
       "    <tr>\n",
       "      <td>All</td>\n",
       "      <td>39922</td>\n",
       "      <td>5289</td>\n",
       "      <td>45211</td>\n",
       "    </tr>\n",
       "  </tbody>\n",
       "</table>\n",
       "</div>"
      ],
      "text/plain": [
       "Target      no   yes    All\n",
       "housing                    \n",
       "no       16727  3354  20081\n",
       "yes      23195  1935  25130\n",
       "All      39922  5289  45211"
      ]
     },
     "execution_count": 179,
     "metadata": {},
     "output_type": "execute_result"
    }
   ],
   "source": [
    "pd.crosstab(creditData['housing'],creditData['Target'],margins=True)"
   ]
  },
  {
   "cell_type": "markdown",
   "metadata": {},
   "source": [
    "The clients who do not have a housing loan are more likely to subscribe for the term deposit"
   ]
  },
  {
   "cell_type": "code",
   "execution_count": 180,
   "metadata": {},
   "outputs": [
    {
     "data": {
      "text/html": [
       "<div>\n",
       "<style scoped>\n",
       "    .dataframe tbody tr th:only-of-type {\n",
       "        vertical-align: middle;\n",
       "    }\n",
       "\n",
       "    .dataframe tbody tr th {\n",
       "        vertical-align: top;\n",
       "    }\n",
       "\n",
       "    .dataframe thead th {\n",
       "        text-align: right;\n",
       "    }\n",
       "</style>\n",
       "<table border=\"1\" class=\"dataframe\">\n",
       "  <thead>\n",
       "    <tr style=\"text-align: right;\">\n",
       "      <th>Target</th>\n",
       "      <th>no</th>\n",
       "      <th>yes</th>\n",
       "    </tr>\n",
       "    <tr>\n",
       "      <th>marital</th>\n",
       "      <th></th>\n",
       "      <th></th>\n",
       "    </tr>\n",
       "  </thead>\n",
       "  <tbody>\n",
       "    <tr>\n",
       "      <td>divorced</td>\n",
       "      <td>0.880545</td>\n",
       "      <td>0.119455</td>\n",
       "    </tr>\n",
       "    <tr>\n",
       "      <td>married</td>\n",
       "      <td>0.898765</td>\n",
       "      <td>0.101235</td>\n",
       "    </tr>\n",
       "    <tr>\n",
       "      <td>single</td>\n",
       "      <td>0.850508</td>\n",
       "      <td>0.149492</td>\n",
       "    </tr>\n",
       "  </tbody>\n",
       "</table>\n",
       "</div>"
      ],
      "text/plain": [
       "Target          no       yes\n",
       "marital                     \n",
       "divorced  0.880545  0.119455\n",
       "married   0.898765  0.101235\n",
       "single    0.850508  0.149492"
      ]
     },
     "execution_count": 180,
     "metadata": {},
     "output_type": "execute_result"
    }
   ],
   "source": [
    "pd.crosstab(creditData['marital'],creditData['Target'],normalize = 'index')"
   ]
  },
  {
   "cell_type": "code",
   "execution_count": 181,
   "metadata": {},
   "outputs": [
    {
     "data": {
      "text/html": [
       "<div>\n",
       "<style scoped>\n",
       "    .dataframe tbody tr th:only-of-type {\n",
       "        vertical-align: middle;\n",
       "    }\n",
       "\n",
       "    .dataframe tbody tr th {\n",
       "        vertical-align: top;\n",
       "    }\n",
       "\n",
       "    .dataframe thead th {\n",
       "        text-align: right;\n",
       "    }\n",
       "</style>\n",
       "<table border=\"1\" class=\"dataframe\">\n",
       "  <thead>\n",
       "    <tr style=\"text-align: right;\">\n",
       "      <th>Target</th>\n",
       "      <th>no</th>\n",
       "      <th>yes</th>\n",
       "      <th>All</th>\n",
       "    </tr>\n",
       "    <tr>\n",
       "      <th>marital</th>\n",
       "      <th></th>\n",
       "      <th></th>\n",
       "      <th></th>\n",
       "    </tr>\n",
       "  </thead>\n",
       "  <tbody>\n",
       "    <tr>\n",
       "      <td>divorced</td>\n",
       "      <td>4585</td>\n",
       "      <td>622</td>\n",
       "      <td>5207</td>\n",
       "    </tr>\n",
       "    <tr>\n",
       "      <td>married</td>\n",
       "      <td>24459</td>\n",
       "      <td>2755</td>\n",
       "      <td>27214</td>\n",
       "    </tr>\n",
       "    <tr>\n",
       "      <td>single</td>\n",
       "      <td>10878</td>\n",
       "      <td>1912</td>\n",
       "      <td>12790</td>\n",
       "    </tr>\n",
       "    <tr>\n",
       "      <td>All</td>\n",
       "      <td>39922</td>\n",
       "      <td>5289</td>\n",
       "      <td>45211</td>\n",
       "    </tr>\n",
       "  </tbody>\n",
       "</table>\n",
       "</div>"
      ],
      "text/plain": [
       "Target       no   yes    All\n",
       "marital                     \n",
       "divorced   4585   622   5207\n",
       "married   24459  2755  27214\n",
       "single    10878  1912  12790\n",
       "All       39922  5289  45211"
      ]
     },
     "execution_count": 181,
     "metadata": {},
     "output_type": "execute_result"
    }
   ],
   "source": [
    "pd.crosstab(creditData['marital'],creditData['Target'],margins=True)"
   ]
  },
  {
   "cell_type": "markdown",
   "metadata": {},
   "source": [
    "The clients who are single are most likely to subscribe for the term deposit.\n",
    "Thereafter,people who are divorced are more likely to subscribe to the term deposit."
   ]
  },
  {
   "cell_type": "code",
   "execution_count": 182,
   "metadata": {},
   "outputs": [
    {
     "data": {
      "text/html": [
       "<div>\n",
       "<style scoped>\n",
       "    .dataframe tbody tr th:only-of-type {\n",
       "        vertical-align: middle;\n",
       "    }\n",
       "\n",
       "    .dataframe tbody tr th {\n",
       "        vertical-align: top;\n",
       "    }\n",
       "\n",
       "    .dataframe thead th {\n",
       "        text-align: right;\n",
       "    }\n",
       "</style>\n",
       "<table border=\"1\" class=\"dataframe\">\n",
       "  <thead>\n",
       "    <tr style=\"text-align: right;\">\n",
       "      <th>Target</th>\n",
       "      <th>no</th>\n",
       "      <th>yes</th>\n",
       "    </tr>\n",
       "    <tr>\n",
       "      <th>default</th>\n",
       "      <th></th>\n",
       "      <th></th>\n",
       "    </tr>\n",
       "  </thead>\n",
       "  <tbody>\n",
       "    <tr>\n",
       "      <td>no</td>\n",
       "      <td>0.882039</td>\n",
       "      <td>0.117961</td>\n",
       "    </tr>\n",
       "    <tr>\n",
       "      <td>yes</td>\n",
       "      <td>0.936196</td>\n",
       "      <td>0.063804</td>\n",
       "    </tr>\n",
       "  </tbody>\n",
       "</table>\n",
       "</div>"
      ],
      "text/plain": [
       "Target         no       yes\n",
       "default                    \n",
       "no       0.882039  0.117961\n",
       "yes      0.936196  0.063804"
      ]
     },
     "execution_count": 182,
     "metadata": {},
     "output_type": "execute_result"
    }
   ],
   "source": [
    "pd.crosstab(creditData['default'],creditData['Target'],normalize = 'index')"
   ]
  },
  {
   "cell_type": "code",
   "execution_count": 183,
   "metadata": {},
   "outputs": [
    {
     "data": {
      "text/html": [
       "<div>\n",
       "<style scoped>\n",
       "    .dataframe tbody tr th:only-of-type {\n",
       "        vertical-align: middle;\n",
       "    }\n",
       "\n",
       "    .dataframe tbody tr th {\n",
       "        vertical-align: top;\n",
       "    }\n",
       "\n",
       "    .dataframe thead th {\n",
       "        text-align: right;\n",
       "    }\n",
       "</style>\n",
       "<table border=\"1\" class=\"dataframe\">\n",
       "  <thead>\n",
       "    <tr style=\"text-align: right;\">\n",
       "      <th>Target</th>\n",
       "      <th>no</th>\n",
       "      <th>yes</th>\n",
       "      <th>All</th>\n",
       "    </tr>\n",
       "    <tr>\n",
       "      <th>default</th>\n",
       "      <th></th>\n",
       "      <th></th>\n",
       "      <th></th>\n",
       "    </tr>\n",
       "  </thead>\n",
       "  <tbody>\n",
       "    <tr>\n",
       "      <td>no</td>\n",
       "      <td>39159</td>\n",
       "      <td>5237</td>\n",
       "      <td>44396</td>\n",
       "    </tr>\n",
       "    <tr>\n",
       "      <td>yes</td>\n",
       "      <td>763</td>\n",
       "      <td>52</td>\n",
       "      <td>815</td>\n",
       "    </tr>\n",
       "    <tr>\n",
       "      <td>All</td>\n",
       "      <td>39922</td>\n",
       "      <td>5289</td>\n",
       "      <td>45211</td>\n",
       "    </tr>\n",
       "  </tbody>\n",
       "</table>\n",
       "</div>"
      ],
      "text/plain": [
       "Target      no   yes    All\n",
       "default                    \n",
       "no       39159  5237  44396\n",
       "yes        763    52    815\n",
       "All      39922  5289  45211"
      ]
     },
     "execution_count": 183,
     "metadata": {},
     "output_type": "execute_result"
    }
   ],
   "source": [
    "pd.crosstab(creditData['default'],creditData['Target'],margins = True)"
   ]
  },
  {
   "cell_type": "markdown",
   "metadata": {},
   "source": [
    "The defaulter to credit are less likely to subscribe for the term deposit"
   ]
  },
  {
   "cell_type": "code",
   "execution_count": 184,
   "metadata": {},
   "outputs": [
    {
     "data": {
      "text/html": [
       "<div>\n",
       "<style scoped>\n",
       "    .dataframe tbody tr th:only-of-type {\n",
       "        vertical-align: middle;\n",
       "    }\n",
       "\n",
       "    .dataframe tbody tr th {\n",
       "        vertical-align: top;\n",
       "    }\n",
       "\n",
       "    .dataframe thead th {\n",
       "        text-align: right;\n",
       "    }\n",
       "</style>\n",
       "<table border=\"1\" class=\"dataframe\">\n",
       "  <thead>\n",
       "    <tr style=\"text-align: right;\">\n",
       "      <th>Target</th>\n",
       "      <th>no</th>\n",
       "      <th>yes</th>\n",
       "    </tr>\n",
       "    <tr>\n",
       "      <th>loan</th>\n",
       "      <th></th>\n",
       "      <th></th>\n",
       "    </tr>\n",
       "  </thead>\n",
       "  <tbody>\n",
       "    <tr>\n",
       "      <td>no</td>\n",
       "      <td>0.873443</td>\n",
       "      <td>0.126557</td>\n",
       "    </tr>\n",
       "    <tr>\n",
       "      <td>yes</td>\n",
       "      <td>0.933186</td>\n",
       "      <td>0.066814</td>\n",
       "    </tr>\n",
       "  </tbody>\n",
       "</table>\n",
       "</div>"
      ],
      "text/plain": [
       "Target        no       yes\n",
       "loan                      \n",
       "no      0.873443  0.126557\n",
       "yes     0.933186  0.066814"
      ]
     },
     "execution_count": 184,
     "metadata": {},
     "output_type": "execute_result"
    }
   ],
   "source": [
    "pd.crosstab(creditData['loan'],creditData['Target'],normalize = 'index')"
   ]
  },
  {
   "cell_type": "code",
   "execution_count": 185,
   "metadata": {},
   "outputs": [
    {
     "data": {
      "text/html": [
       "<div>\n",
       "<style scoped>\n",
       "    .dataframe tbody tr th:only-of-type {\n",
       "        vertical-align: middle;\n",
       "    }\n",
       "\n",
       "    .dataframe tbody tr th {\n",
       "        vertical-align: top;\n",
       "    }\n",
       "\n",
       "    .dataframe thead th {\n",
       "        text-align: right;\n",
       "    }\n",
       "</style>\n",
       "<table border=\"1\" class=\"dataframe\">\n",
       "  <thead>\n",
       "    <tr style=\"text-align: right;\">\n",
       "      <th>Target</th>\n",
       "      <th>no</th>\n",
       "      <th>yes</th>\n",
       "      <th>All</th>\n",
       "    </tr>\n",
       "    <tr>\n",
       "      <th>loan</th>\n",
       "      <th></th>\n",
       "      <th></th>\n",
       "      <th></th>\n",
       "    </tr>\n",
       "  </thead>\n",
       "  <tbody>\n",
       "    <tr>\n",
       "      <td>no</td>\n",
       "      <td>33162</td>\n",
       "      <td>4805</td>\n",
       "      <td>37967</td>\n",
       "    </tr>\n",
       "    <tr>\n",
       "      <td>yes</td>\n",
       "      <td>6760</td>\n",
       "      <td>484</td>\n",
       "      <td>7244</td>\n",
       "    </tr>\n",
       "    <tr>\n",
       "      <td>All</td>\n",
       "      <td>39922</td>\n",
       "      <td>5289</td>\n",
       "      <td>45211</td>\n",
       "    </tr>\n",
       "  </tbody>\n",
       "</table>\n",
       "</div>"
      ],
      "text/plain": [
       "Target     no   yes    All\n",
       "loan                      \n",
       "no      33162  4805  37967\n",
       "yes      6760   484   7244\n",
       "All     39922  5289  45211"
      ]
     },
     "execution_count": 185,
     "metadata": {},
     "output_type": "execute_result"
    }
   ],
   "source": [
    "pd.crosstab(creditData['loan'],creditData['Target'],margins = True)"
   ]
  },
  {
   "cell_type": "markdown",
   "metadata": {},
   "source": [
    "The clients without personal loans are more likely to subscribe for the term deposit"
   ]
  },
  {
   "cell_type": "code",
   "execution_count": 186,
   "metadata": {},
   "outputs": [
    {
     "data": {
      "text/html": [
       "<div>\n",
       "<style scoped>\n",
       "    .dataframe tbody tr th:only-of-type {\n",
       "        vertical-align: middle;\n",
       "    }\n",
       "\n",
       "    .dataframe tbody tr th {\n",
       "        vertical-align: top;\n",
       "    }\n",
       "\n",
       "    .dataframe thead th {\n",
       "        text-align: right;\n",
       "    }\n",
       "</style>\n",
       "<table border=\"1\" class=\"dataframe\">\n",
       "  <thead>\n",
       "    <tr style=\"text-align: right;\">\n",
       "      <th>Target</th>\n",
       "      <th>no</th>\n",
       "      <th>yes</th>\n",
       "    </tr>\n",
       "    <tr>\n",
       "      <th>contact</th>\n",
       "      <th></th>\n",
       "      <th></th>\n",
       "    </tr>\n",
       "  </thead>\n",
       "  <tbody>\n",
       "    <tr>\n",
       "      <td>cellular</td>\n",
       "      <td>0.850811</td>\n",
       "      <td>0.149189</td>\n",
       "    </tr>\n",
       "    <tr>\n",
       "      <td>telephone</td>\n",
       "      <td>0.865795</td>\n",
       "      <td>0.134205</td>\n",
       "    </tr>\n",
       "    <tr>\n",
       "      <td>unknown</td>\n",
       "      <td>0.959293</td>\n",
       "      <td>0.040707</td>\n",
       "    </tr>\n",
       "  </tbody>\n",
       "</table>\n",
       "</div>"
      ],
      "text/plain": [
       "Target           no       yes\n",
       "contact                      \n",
       "cellular   0.850811  0.149189\n",
       "telephone  0.865795  0.134205\n",
       "unknown    0.959293  0.040707"
      ]
     },
     "execution_count": 186,
     "metadata": {},
     "output_type": "execute_result"
    }
   ],
   "source": [
    "pd.crosstab(creditData['contact'],creditData['Target'],normalize ='index')"
   ]
  },
  {
   "cell_type": "code",
   "execution_count": 187,
   "metadata": {},
   "outputs": [
    {
     "data": {
      "text/html": [
       "<div>\n",
       "<style scoped>\n",
       "    .dataframe tbody tr th:only-of-type {\n",
       "        vertical-align: middle;\n",
       "    }\n",
       "\n",
       "    .dataframe tbody tr th {\n",
       "        vertical-align: top;\n",
       "    }\n",
       "\n",
       "    .dataframe thead th {\n",
       "        text-align: right;\n",
       "    }\n",
       "</style>\n",
       "<table border=\"1\" class=\"dataframe\">\n",
       "  <thead>\n",
       "    <tr style=\"text-align: right;\">\n",
       "      <th>Target</th>\n",
       "      <th>no</th>\n",
       "      <th>yes</th>\n",
       "      <th>All</th>\n",
       "    </tr>\n",
       "    <tr>\n",
       "      <th>contact</th>\n",
       "      <th></th>\n",
       "      <th></th>\n",
       "      <th></th>\n",
       "    </tr>\n",
       "  </thead>\n",
       "  <tbody>\n",
       "    <tr>\n",
       "      <td>cellular</td>\n",
       "      <td>24916</td>\n",
       "      <td>4369</td>\n",
       "      <td>29285</td>\n",
       "    </tr>\n",
       "    <tr>\n",
       "      <td>telephone</td>\n",
       "      <td>2516</td>\n",
       "      <td>390</td>\n",
       "      <td>2906</td>\n",
       "    </tr>\n",
       "    <tr>\n",
       "      <td>unknown</td>\n",
       "      <td>12490</td>\n",
       "      <td>530</td>\n",
       "      <td>13020</td>\n",
       "    </tr>\n",
       "    <tr>\n",
       "      <td>All</td>\n",
       "      <td>39922</td>\n",
       "      <td>5289</td>\n",
       "      <td>45211</td>\n",
       "    </tr>\n",
       "  </tbody>\n",
       "</table>\n",
       "</div>"
      ],
      "text/plain": [
       "Target        no   yes    All\n",
       "contact                      \n",
       "cellular   24916  4369  29285\n",
       "telephone   2516   390   2906\n",
       "unknown    12490   530  13020\n",
       "All        39922  5289  45211"
      ]
     },
     "execution_count": 187,
     "metadata": {},
     "output_type": "execute_result"
    }
   ],
   "source": [
    "pd.crosstab(creditData['contact'],creditData['Target'],margins = True)"
   ]
  },
  {
   "cell_type": "markdown",
   "metadata": {},
   "source": [
    "This feature is probably irrelavant although from the data it can be seen that the people contacted on their cellular phones are more likely to subscribe to the term deposit but this difference is not significant.The problem with this dependent variable is that this dependent variable has a large number of unknown values.Hence,it is better to drop this column from the data set."
   ]
  },
  {
   "cell_type": "code",
   "execution_count": 188,
   "metadata": {},
   "outputs": [
    {
     "data": {
      "text/html": [
       "<div>\n",
       "<style scoped>\n",
       "    .dataframe tbody tr th:only-of-type {\n",
       "        vertical-align: middle;\n",
       "    }\n",
       "\n",
       "    .dataframe tbody tr th {\n",
       "        vertical-align: top;\n",
       "    }\n",
       "\n",
       "    .dataframe thead th {\n",
       "        text-align: right;\n",
       "    }\n",
       "</style>\n",
       "<table border=\"1\" class=\"dataframe\">\n",
       "  <thead>\n",
       "    <tr style=\"text-align: right;\">\n",
       "      <th></th>\n",
       "      <th>count</th>\n",
       "      <th>mean</th>\n",
       "      <th>std</th>\n",
       "      <th>min</th>\n",
       "      <th>25%</th>\n",
       "      <th>50%</th>\n",
       "      <th>75%</th>\n",
       "      <th>max</th>\n",
       "    </tr>\n",
       "    <tr>\n",
       "      <th>Target</th>\n",
       "      <th></th>\n",
       "      <th></th>\n",
       "      <th></th>\n",
       "      <th></th>\n",
       "      <th></th>\n",
       "      <th></th>\n",
       "      <th></th>\n",
       "      <th></th>\n",
       "    </tr>\n",
       "  </thead>\n",
       "  <tbody>\n",
       "    <tr>\n",
       "      <td>no</td>\n",
       "      <td>39922.0</td>\n",
       "      <td>1303.714969</td>\n",
       "      <td>2974.195473</td>\n",
       "      <td>-8019.0</td>\n",
       "      <td>58.0</td>\n",
       "      <td>417.0</td>\n",
       "      <td>1345.0</td>\n",
       "      <td>102127.0</td>\n",
       "    </tr>\n",
       "    <tr>\n",
       "      <td>yes</td>\n",
       "      <td>5289.0</td>\n",
       "      <td>1804.267915</td>\n",
       "      <td>3501.104777</td>\n",
       "      <td>-3058.0</td>\n",
       "      <td>210.0</td>\n",
       "      <td>733.0</td>\n",
       "      <td>2159.0</td>\n",
       "      <td>81204.0</td>\n",
       "    </tr>\n",
       "  </tbody>\n",
       "</table>\n",
       "</div>"
      ],
      "text/plain": [
       "          count         mean          std     min    25%    50%     75%  \\\n",
       "Target                                                                    \n",
       "no      39922.0  1303.714969  2974.195473 -8019.0   58.0  417.0  1345.0   \n",
       "yes      5289.0  1804.267915  3501.104777 -3058.0  210.0  733.0  2159.0   \n",
       "\n",
       "             max  \n",
       "Target            \n",
       "no      102127.0  \n",
       "yes      81204.0  "
      ]
     },
     "execution_count": 188,
     "metadata": {},
     "output_type": "execute_result"
    }
   ],
   "source": [
    "creditData.groupby('Target').describe()['balance']"
   ]
  },
  {
   "cell_type": "code",
   "execution_count": 189,
   "metadata": {},
   "outputs": [
    {
     "data": {
      "text/html": [
       "<div>\n",
       "<style scoped>\n",
       "    .dataframe tbody tr th:only-of-type {\n",
       "        vertical-align: middle;\n",
       "    }\n",
       "\n",
       "    .dataframe tbody tr th {\n",
       "        vertical-align: top;\n",
       "    }\n",
       "\n",
       "    .dataframe thead th {\n",
       "        text-align: right;\n",
       "    }\n",
       "</style>\n",
       "<table border=\"1\" class=\"dataframe\">\n",
       "  <thead>\n",
       "    <tr style=\"text-align: right;\">\n",
       "      <th></th>\n",
       "      <th>count</th>\n",
       "      <th>mean</th>\n",
       "      <th>std</th>\n",
       "      <th>min</th>\n",
       "      <th>25%</th>\n",
       "      <th>50%</th>\n",
       "      <th>75%</th>\n",
       "      <th>max</th>\n",
       "    </tr>\n",
       "    <tr>\n",
       "      <th>Target</th>\n",
       "      <th></th>\n",
       "      <th></th>\n",
       "      <th></th>\n",
       "      <th></th>\n",
       "      <th></th>\n",
       "      <th></th>\n",
       "      <th></th>\n",
       "      <th></th>\n",
       "    </tr>\n",
       "  </thead>\n",
       "  <tbody>\n",
       "    <tr>\n",
       "      <td>no</td>\n",
       "      <td>39922.0</td>\n",
       "      <td>221.182806</td>\n",
       "      <td>207.383237</td>\n",
       "      <td>0.0</td>\n",
       "      <td>95.0</td>\n",
       "      <td>164.0</td>\n",
       "      <td>279.0</td>\n",
       "      <td>4918.0</td>\n",
       "    </tr>\n",
       "    <tr>\n",
       "      <td>yes</td>\n",
       "      <td>5289.0</td>\n",
       "      <td>537.294574</td>\n",
       "      <td>392.525262</td>\n",
       "      <td>8.0</td>\n",
       "      <td>244.0</td>\n",
       "      <td>426.0</td>\n",
       "      <td>725.0</td>\n",
       "      <td>3881.0</td>\n",
       "    </tr>\n",
       "  </tbody>\n",
       "</table>\n",
       "</div>"
      ],
      "text/plain": [
       "          count        mean         std  min    25%    50%    75%     max\n",
       "Target                                                                   \n",
       "no      39922.0  221.182806  207.383237  0.0   95.0  164.0  279.0  4918.0\n",
       "yes      5289.0  537.294574  392.525262  8.0  244.0  426.0  725.0  3881.0"
      ]
     },
     "execution_count": 189,
     "metadata": {},
     "output_type": "execute_result"
    }
   ],
   "source": [
    "creditData.groupby('Target').describe()['duration']"
   ]
  },
  {
   "cell_type": "code",
   "execution_count": 190,
   "metadata": {},
   "outputs": [
    {
     "data": {
      "text/html": [
       "<div>\n",
       "<style scoped>\n",
       "    .dataframe tbody tr th:only-of-type {\n",
       "        vertical-align: middle;\n",
       "    }\n",
       "\n",
       "    .dataframe tbody tr th {\n",
       "        vertical-align: top;\n",
       "    }\n",
       "\n",
       "    .dataframe thead th {\n",
       "        text-align: right;\n",
       "    }\n",
       "</style>\n",
       "<table border=\"1\" class=\"dataframe\">\n",
       "  <thead>\n",
       "    <tr style=\"text-align: right;\">\n",
       "      <th></th>\n",
       "      <th>count</th>\n",
       "      <th>mean</th>\n",
       "      <th>std</th>\n",
       "      <th>min</th>\n",
       "      <th>25%</th>\n",
       "      <th>50%</th>\n",
       "      <th>75%</th>\n",
       "      <th>max</th>\n",
       "    </tr>\n",
       "    <tr>\n",
       "      <th>Target</th>\n",
       "      <th></th>\n",
       "      <th></th>\n",
       "      <th></th>\n",
       "      <th></th>\n",
       "      <th></th>\n",
       "      <th></th>\n",
       "      <th></th>\n",
       "      <th></th>\n",
       "    </tr>\n",
       "  </thead>\n",
       "  <tbody>\n",
       "    <tr>\n",
       "      <td>no</td>\n",
       "      <td>39922.0</td>\n",
       "      <td>2.846350</td>\n",
       "      <td>3.212767</td>\n",
       "      <td>1.0</td>\n",
       "      <td>1.0</td>\n",
       "      <td>2.0</td>\n",
       "      <td>3.0</td>\n",
       "      <td>63.0</td>\n",
       "    </tr>\n",
       "    <tr>\n",
       "      <td>yes</td>\n",
       "      <td>5289.0</td>\n",
       "      <td>2.141047</td>\n",
       "      <td>1.921826</td>\n",
       "      <td>1.0</td>\n",
       "      <td>1.0</td>\n",
       "      <td>2.0</td>\n",
       "      <td>3.0</td>\n",
       "      <td>32.0</td>\n",
       "    </tr>\n",
       "  </tbody>\n",
       "</table>\n",
       "</div>"
      ],
      "text/plain": [
       "          count      mean       std  min  25%  50%  75%   max\n",
       "Target                                                       \n",
       "no      39922.0  2.846350  3.212767  1.0  1.0  2.0  3.0  63.0\n",
       "yes      5289.0  2.141047  1.921826  1.0  1.0  2.0  3.0  32.0"
      ]
     },
     "execution_count": 190,
     "metadata": {},
     "output_type": "execute_result"
    }
   ],
   "source": [
    "creditData.groupby('Target').describe()['campaign']"
   ]
  },
  {
   "cell_type": "code",
   "execution_count": 191,
   "metadata": {},
   "outputs": [
    {
     "data": {
      "text/html": [
       "<div>\n",
       "<style scoped>\n",
       "    .dataframe tbody tr th:only-of-type {\n",
       "        vertical-align: middle;\n",
       "    }\n",
       "\n",
       "    .dataframe tbody tr th {\n",
       "        vertical-align: top;\n",
       "    }\n",
       "\n",
       "    .dataframe thead th {\n",
       "        text-align: right;\n",
       "    }\n",
       "</style>\n",
       "<table border=\"1\" class=\"dataframe\">\n",
       "  <thead>\n",
       "    <tr style=\"text-align: right;\">\n",
       "      <th></th>\n",
       "      <th>count</th>\n",
       "      <th>mean</th>\n",
       "      <th>std</th>\n",
       "      <th>min</th>\n",
       "      <th>25%</th>\n",
       "      <th>50%</th>\n",
       "      <th>75%</th>\n",
       "      <th>max</th>\n",
       "    </tr>\n",
       "    <tr>\n",
       "      <th>Target</th>\n",
       "      <th></th>\n",
       "      <th></th>\n",
       "      <th></th>\n",
       "      <th></th>\n",
       "      <th></th>\n",
       "      <th></th>\n",
       "      <th></th>\n",
       "      <th></th>\n",
       "    </tr>\n",
       "  </thead>\n",
       "  <tbody>\n",
       "    <tr>\n",
       "      <td>no</td>\n",
       "      <td>39922.0</td>\n",
       "      <td>0.502154</td>\n",
       "      <td>2.256771</td>\n",
       "      <td>0.0</td>\n",
       "      <td>0.0</td>\n",
       "      <td>0.0</td>\n",
       "      <td>0.0</td>\n",
       "      <td>275.0</td>\n",
       "    </tr>\n",
       "    <tr>\n",
       "      <td>yes</td>\n",
       "      <td>5289.0</td>\n",
       "      <td>1.170354</td>\n",
       "      <td>2.553272</td>\n",
       "      <td>0.0</td>\n",
       "      <td>0.0</td>\n",
       "      <td>0.0</td>\n",
       "      <td>1.0</td>\n",
       "      <td>58.0</td>\n",
       "    </tr>\n",
       "  </tbody>\n",
       "</table>\n",
       "</div>"
      ],
      "text/plain": [
       "          count      mean       std  min  25%  50%  75%    max\n",
       "Target                                                        \n",
       "no      39922.0  0.502154  2.256771  0.0  0.0  0.0  0.0  275.0\n",
       "yes      5289.0  1.170354  2.553272  0.0  0.0  0.0  1.0   58.0"
      ]
     },
     "execution_count": 191,
     "metadata": {},
     "output_type": "execute_result"
    }
   ],
   "source": [
    "creditData.groupby('Target').describe()['previous']"
   ]
  },
  {
   "cell_type": "code",
   "execution_count": 192,
   "metadata": {},
   "outputs": [
    {
     "data": {
      "text/html": [
       "<div>\n",
       "<style scoped>\n",
       "    .dataframe tbody tr th:only-of-type {\n",
       "        vertical-align: middle;\n",
       "    }\n",
       "\n",
       "    .dataframe tbody tr th {\n",
       "        vertical-align: top;\n",
       "    }\n",
       "\n",
       "    .dataframe thead th {\n",
       "        text-align: right;\n",
       "    }\n",
       "</style>\n",
       "<table border=\"1\" class=\"dataframe\">\n",
       "  <thead>\n",
       "    <tr style=\"text-align: right;\">\n",
       "      <th></th>\n",
       "      <th>count</th>\n",
       "      <th>mean</th>\n",
       "      <th>std</th>\n",
       "      <th>min</th>\n",
       "      <th>25%</th>\n",
       "      <th>50%</th>\n",
       "      <th>75%</th>\n",
       "      <th>max</th>\n",
       "    </tr>\n",
       "    <tr>\n",
       "      <th>Target</th>\n",
       "      <th></th>\n",
       "      <th></th>\n",
       "      <th></th>\n",
       "      <th></th>\n",
       "      <th></th>\n",
       "      <th></th>\n",
       "      <th></th>\n",
       "      <th></th>\n",
       "    </tr>\n",
       "  </thead>\n",
       "  <tbody>\n",
       "    <tr>\n",
       "      <td>no</td>\n",
       "      <td>39922.0</td>\n",
       "      <td>40.838986</td>\n",
       "      <td>10.172662</td>\n",
       "      <td>18.0</td>\n",
       "      <td>33.0</td>\n",
       "      <td>39.0</td>\n",
       "      <td>48.0</td>\n",
       "      <td>95.0</td>\n",
       "    </tr>\n",
       "    <tr>\n",
       "      <td>yes</td>\n",
       "      <td>5289.0</td>\n",
       "      <td>41.670070</td>\n",
       "      <td>13.497781</td>\n",
       "      <td>18.0</td>\n",
       "      <td>31.0</td>\n",
       "      <td>38.0</td>\n",
       "      <td>50.0</td>\n",
       "      <td>95.0</td>\n",
       "    </tr>\n",
       "  </tbody>\n",
       "</table>\n",
       "</div>"
      ],
      "text/plain": [
       "          count       mean        std   min   25%   50%   75%   max\n",
       "Target                                                             \n",
       "no      39922.0  40.838986  10.172662  18.0  33.0  39.0  48.0  95.0\n",
       "yes      5289.0  41.670070  13.497781  18.0  31.0  38.0  50.0  95.0"
      ]
     },
     "execution_count": 192,
     "metadata": {},
     "output_type": "execute_result"
    }
   ],
   "source": [
    "creditData.groupby('Target').describe()['age']"
   ]
  },
  {
   "cell_type": "markdown",
   "metadata": {},
   "source": [
    "The numerical variables with 5 points analysis grouped by the target variable infer that there is the dependent variables duration and balance have some amount of correlation which have lead to a descisive model.However,we will have to drop the duration column as per the problem text for a realisitic predictive model and further investigation into the dependent variable balance would be require to say more about its influence."
   ]
  },
  {
   "cell_type": "code",
   "execution_count": 193,
   "metadata": {},
   "outputs": [
    {
     "data": {
      "text/html": [
       "<div>\n",
       "<style scoped>\n",
       "    .dataframe tbody tr th:only-of-type {\n",
       "        vertical-align: middle;\n",
       "    }\n",
       "\n",
       "    .dataframe tbody tr th {\n",
       "        vertical-align: top;\n",
       "    }\n",
       "\n",
       "    .dataframe thead th {\n",
       "        text-align: right;\n",
       "    }\n",
       "</style>\n",
       "<table border=\"1\" class=\"dataframe\">\n",
       "  <thead>\n",
       "    <tr style=\"text-align: right;\">\n",
       "      <th>Target</th>\n",
       "      <th>no</th>\n",
       "      <th>yes</th>\n",
       "    </tr>\n",
       "    <tr>\n",
       "      <th>loan</th>\n",
       "      <th></th>\n",
       "      <th></th>\n",
       "    </tr>\n",
       "  </thead>\n",
       "  <tbody>\n",
       "    <tr>\n",
       "      <td>no</td>\n",
       "      <td>0.873443</td>\n",
       "      <td>0.126557</td>\n",
       "    </tr>\n",
       "    <tr>\n",
       "      <td>yes</td>\n",
       "      <td>0.933186</td>\n",
       "      <td>0.066814</td>\n",
       "    </tr>\n",
       "  </tbody>\n",
       "</table>\n",
       "</div>"
      ],
      "text/plain": [
       "Target        no       yes\n",
       "loan                      \n",
       "no      0.873443  0.126557\n",
       "yes     0.933186  0.066814"
      ]
     },
     "execution_count": 193,
     "metadata": {},
     "output_type": "execute_result"
    }
   ],
   "source": [
    "pd.crosstab(creditData['loan'],creditData['Target'],normalize = 'index')"
   ]
  },
  {
   "cell_type": "code",
   "execution_count": 194,
   "metadata": {},
   "outputs": [
    {
     "data": {
      "text/html": [
       "<div>\n",
       "<style scoped>\n",
       "    .dataframe tbody tr th:only-of-type {\n",
       "        vertical-align: middle;\n",
       "    }\n",
       "\n",
       "    .dataframe tbody tr th {\n",
       "        vertical-align: top;\n",
       "    }\n",
       "\n",
       "    .dataframe thead th {\n",
       "        text-align: right;\n",
       "    }\n",
       "</style>\n",
       "<table border=\"1\" class=\"dataframe\">\n",
       "  <thead>\n",
       "    <tr style=\"text-align: right;\">\n",
       "      <th>Target</th>\n",
       "      <th>no</th>\n",
       "      <th>yes</th>\n",
       "      <th>All</th>\n",
       "    </tr>\n",
       "    <tr>\n",
       "      <th>loan</th>\n",
       "      <th></th>\n",
       "      <th></th>\n",
       "      <th></th>\n",
       "    </tr>\n",
       "  </thead>\n",
       "  <tbody>\n",
       "    <tr>\n",
       "      <td>no</td>\n",
       "      <td>33162</td>\n",
       "      <td>4805</td>\n",
       "      <td>37967</td>\n",
       "    </tr>\n",
       "    <tr>\n",
       "      <td>yes</td>\n",
       "      <td>6760</td>\n",
       "      <td>484</td>\n",
       "      <td>7244</td>\n",
       "    </tr>\n",
       "    <tr>\n",
       "      <td>All</td>\n",
       "      <td>39922</td>\n",
       "      <td>5289</td>\n",
       "      <td>45211</td>\n",
       "    </tr>\n",
       "  </tbody>\n",
       "</table>\n",
       "</div>"
      ],
      "text/plain": [
       "Target     no   yes    All\n",
       "loan                      \n",
       "no      33162  4805  37967\n",
       "yes      6760   484   7244\n",
       "All     39922  5289  45211"
      ]
     },
     "execution_count": 194,
     "metadata": {},
     "output_type": "execute_result"
    }
   ],
   "source": [
    "pd.crosstab(creditData['loan'],creditData['Target'],margins=True)"
   ]
  },
  {
   "cell_type": "markdown",
   "metadata": {},
   "source": [
    "The client who have a personal loan are more likely to say no to this campaign."
   ]
  },
  {
   "cell_type": "code",
   "execution_count": 195,
   "metadata": {},
   "outputs": [
    {
     "data": {
      "text/plain": [
       "<matplotlib.axes._subplots.AxesSubplot at 0x1117ef10>"
      ]
     },
     "execution_count": 195,
     "metadata": {},
     "output_type": "execute_result"
    },
    {
     "data": {
      "image/png": "[encoded data removed]",
      "text/plain": [
       "<Figure size 432x288 with 1 Axes>"
      ]
     },
     "metadata": {
      "needs_background": "light"
     },
     "output_type": "display_data"
    }
   ],
   "source": [
    "sns.countplot(x='month', hue= 'Target',data = creditData)"
   ]
  },
  {
   "cell_type": "code",
   "execution_count": 196,
   "metadata": {},
   "outputs": [
    {
     "data": {
      "text/html": [
       "<div>\n",
       "<style scoped>\n",
       "    .dataframe tbody tr th:only-of-type {\n",
       "        vertical-align: middle;\n",
       "    }\n",
       "\n",
       "    .dataframe tbody tr th {\n",
       "        vertical-align: top;\n",
       "    }\n",
       "\n",
       "    .dataframe thead th {\n",
       "        text-align: right;\n",
       "    }\n",
       "</style>\n",
       "<table border=\"1\" class=\"dataframe\">\n",
       "  <thead>\n",
       "    <tr style=\"text-align: right;\">\n",
       "      <th>Target</th>\n",
       "      <th>no</th>\n",
       "      <th>yes</th>\n",
       "    </tr>\n",
       "    <tr>\n",
       "      <th>month</th>\n",
       "      <th></th>\n",
       "      <th></th>\n",
       "    </tr>\n",
       "  </thead>\n",
       "  <tbody>\n",
       "    <tr>\n",
       "      <td>apr</td>\n",
       "      <td>0.803206</td>\n",
       "      <td>0.196794</td>\n",
       "    </tr>\n",
       "    <tr>\n",
       "      <td>aug</td>\n",
       "      <td>0.889867</td>\n",
       "      <td>0.110133</td>\n",
       "    </tr>\n",
       "    <tr>\n",
       "      <td>dec</td>\n",
       "      <td>0.532710</td>\n",
       "      <td>0.467290</td>\n",
       "    </tr>\n",
       "    <tr>\n",
       "      <td>feb</td>\n",
       "      <td>0.833522</td>\n",
       "      <td>0.166478</td>\n",
       "    </tr>\n",
       "    <tr>\n",
       "      <td>jan</td>\n",
       "      <td>0.898788</td>\n",
       "      <td>0.101212</td>\n",
       "    </tr>\n",
       "    <tr>\n",
       "      <td>jul</td>\n",
       "      <td>0.909065</td>\n",
       "      <td>0.090935</td>\n",
       "    </tr>\n",
       "    <tr>\n",
       "      <td>jun</td>\n",
       "      <td>0.897772</td>\n",
       "      <td>0.102228</td>\n",
       "    </tr>\n",
       "    <tr>\n",
       "      <td>mar</td>\n",
       "      <td>0.480084</td>\n",
       "      <td>0.519916</td>\n",
       "    </tr>\n",
       "    <tr>\n",
       "      <td>may</td>\n",
       "      <td>0.932805</td>\n",
       "      <td>0.067195</td>\n",
       "    </tr>\n",
       "    <tr>\n",
       "      <td>nov</td>\n",
       "      <td>0.898489</td>\n",
       "      <td>0.101511</td>\n",
       "    </tr>\n",
       "    <tr>\n",
       "      <td>oct</td>\n",
       "      <td>0.562331</td>\n",
       "      <td>0.437669</td>\n",
       "    </tr>\n",
       "    <tr>\n",
       "      <td>sep</td>\n",
       "      <td>0.535406</td>\n",
       "      <td>0.464594</td>\n",
       "    </tr>\n",
       "  </tbody>\n",
       "</table>\n",
       "</div>"
      ],
      "text/plain": [
       "Target        no       yes\n",
       "month                     \n",
       "apr     0.803206  0.196794\n",
       "aug     0.889867  0.110133\n",
       "dec     0.532710  0.467290\n",
       "feb     0.833522  0.166478\n",
       "jan     0.898788  0.101212\n",
       "jul     0.909065  0.090935\n",
       "jun     0.897772  0.102228\n",
       "mar     0.480084  0.519916\n",
       "may     0.932805  0.067195\n",
       "nov     0.898489  0.101511\n",
       "oct     0.562331  0.437669\n",
       "sep     0.535406  0.464594"
      ]
     },
     "execution_count": 196,
     "metadata": {},
     "output_type": "execute_result"
    }
   ],
   "source": [
    "pd.crosstab(creditData['month'],creditData['Target'],normalize = 'index')"
   ]
  },
  {
   "cell_type": "code",
   "execution_count": 197,
   "metadata": {},
   "outputs": [
    {
     "data": {
      "text/html": [
       "<div>\n",
       "<style scoped>\n",
       "    .dataframe tbody tr th:only-of-type {\n",
       "        vertical-align: middle;\n",
       "    }\n",
       "\n",
       "    .dataframe tbody tr th {\n",
       "        vertical-align: top;\n",
       "    }\n",
       "\n",
       "    .dataframe thead th {\n",
       "        text-align: right;\n",
       "    }\n",
       "</style>\n",
       "<table border=\"1\" class=\"dataframe\">\n",
       "  <thead>\n",
       "    <tr style=\"text-align: right;\">\n",
       "      <th>Target</th>\n",
       "      <th>no</th>\n",
       "      <th>yes</th>\n",
       "      <th>All</th>\n",
       "    </tr>\n",
       "    <tr>\n",
       "      <th>month</th>\n",
       "      <th></th>\n",
       "      <th></th>\n",
       "      <th></th>\n",
       "    </tr>\n",
       "  </thead>\n",
       "  <tbody>\n",
       "    <tr>\n",
       "      <td>apr</td>\n",
       "      <td>2355</td>\n",
       "      <td>577</td>\n",
       "      <td>2932</td>\n",
       "    </tr>\n",
       "    <tr>\n",
       "      <td>aug</td>\n",
       "      <td>5559</td>\n",
       "      <td>688</td>\n",
       "      <td>6247</td>\n",
       "    </tr>\n",
       "    <tr>\n",
       "      <td>dec</td>\n",
       "      <td>114</td>\n",
       "      <td>100</td>\n",
       "      <td>214</td>\n",
       "    </tr>\n",
       "    <tr>\n",
       "      <td>feb</td>\n",
       "      <td>2208</td>\n",
       "      <td>441</td>\n",
       "      <td>2649</td>\n",
       "    </tr>\n",
       "    <tr>\n",
       "      <td>jan</td>\n",
       "      <td>1261</td>\n",
       "      <td>142</td>\n",
       "      <td>1403</td>\n",
       "    </tr>\n",
       "    <tr>\n",
       "      <td>jul</td>\n",
       "      <td>6268</td>\n",
       "      <td>627</td>\n",
       "      <td>6895</td>\n",
       "    </tr>\n",
       "    <tr>\n",
       "      <td>jun</td>\n",
       "      <td>4795</td>\n",
       "      <td>546</td>\n",
       "      <td>5341</td>\n",
       "    </tr>\n",
       "    <tr>\n",
       "      <td>mar</td>\n",
       "      <td>229</td>\n",
       "      <td>248</td>\n",
       "      <td>477</td>\n",
       "    </tr>\n",
       "    <tr>\n",
       "      <td>may</td>\n",
       "      <td>12841</td>\n",
       "      <td>925</td>\n",
       "      <td>13766</td>\n",
       "    </tr>\n",
       "    <tr>\n",
       "      <td>nov</td>\n",
       "      <td>3567</td>\n",
       "      <td>403</td>\n",
       "      <td>3970</td>\n",
       "    </tr>\n",
       "    <tr>\n",
       "      <td>oct</td>\n",
       "      <td>415</td>\n",
       "      <td>323</td>\n",
       "      <td>738</td>\n",
       "    </tr>\n",
       "    <tr>\n",
       "      <td>sep</td>\n",
       "      <td>310</td>\n",
       "      <td>269</td>\n",
       "      <td>579</td>\n",
       "    </tr>\n",
       "    <tr>\n",
       "      <td>All</td>\n",
       "      <td>39922</td>\n",
       "      <td>5289</td>\n",
       "      <td>45211</td>\n",
       "    </tr>\n",
       "  </tbody>\n",
       "</table>\n",
       "</div>"
      ],
      "text/plain": [
       "Target     no   yes    All\n",
       "month                     \n",
       "apr      2355   577   2932\n",
       "aug      5559   688   6247\n",
       "dec       114   100    214\n",
       "feb      2208   441   2649\n",
       "jan      1261   142   1403\n",
       "jul      6268   627   6895\n",
       "jun      4795   546   5341\n",
       "mar       229   248    477\n",
       "may     12841   925  13766\n",
       "nov      3567   403   3970\n",
       "oct       415   323    738\n",
       "sep       310   269    579\n",
       "All     39922  5289  45211"
      ]
     },
     "execution_count": 197,
     "metadata": {},
     "output_type": "execute_result"
    }
   ],
   "source": [
    "pd.crosstab(creditData['month'],creditData['Target'],margins = True)"
   ]
  },
  {
   "cell_type": "markdown",
   "metadata": {},
   "source": [
    "The probability of accepting the term deposit varies with the month of contact.The list of months with the decreasing order of probablity for subscribing to the term deposit is given below:\n",
    "\n",
    "1.March\n",
    "\n",
    "2.December\n",
    "\n",
    "3.September\n",
    "\n",
    "4.October\n",
    "\n",
    "5.April\n",
    "\n",
    "6.February\n",
    "\n",
    "7.August\n",
    "\n",
    "8.January\n",
    "\n",
    "9.November\n",
    "\n",
    "10.January\n",
    "\n",
    "11.July\n",
    "\n",
    "12.May"
   ]
  },
  {
   "cell_type": "code",
   "execution_count": 198,
   "metadata": {},
   "outputs": [
    {
     "data": {
      "text/html": [
       "<div>\n",
       "<style scoped>\n",
       "    .dataframe tbody tr th:only-of-type {\n",
       "        vertical-align: middle;\n",
       "    }\n",
       "\n",
       "    .dataframe tbody tr th {\n",
       "        vertical-align: top;\n",
       "    }\n",
       "\n",
       "    .dataframe thead th {\n",
       "        text-align: right;\n",
       "    }\n",
       "</style>\n",
       "<table border=\"1\" class=\"dataframe\">\n",
       "  <thead>\n",
       "    <tr style=\"text-align: right;\">\n",
       "      <th>Target</th>\n",
       "      <th>no</th>\n",
       "      <th>yes</th>\n",
       "    </tr>\n",
       "    <tr>\n",
       "      <th>poutcome</th>\n",
       "      <th></th>\n",
       "      <th></th>\n",
       "    </tr>\n",
       "  </thead>\n",
       "  <tbody>\n",
       "    <tr>\n",
       "      <td>failure</td>\n",
       "      <td>0.873903</td>\n",
       "      <td>0.126097</td>\n",
       "    </tr>\n",
       "    <tr>\n",
       "      <td>other</td>\n",
       "      <td>0.833152</td>\n",
       "      <td>0.166848</td>\n",
       "    </tr>\n",
       "    <tr>\n",
       "      <td>success</td>\n",
       "      <td>0.352747</td>\n",
       "      <td>0.647253</td>\n",
       "    </tr>\n",
       "    <tr>\n",
       "      <td>unknown</td>\n",
       "      <td>0.908385</td>\n",
       "      <td>0.091615</td>\n",
       "    </tr>\n",
       "  </tbody>\n",
       "</table>\n",
       "</div>"
      ],
      "text/plain": [
       "Target          no       yes\n",
       "poutcome                    \n",
       "failure   0.873903  0.126097\n",
       "other     0.833152  0.166848\n",
       "success   0.352747  0.647253\n",
       "unknown   0.908385  0.091615"
      ]
     },
     "execution_count": 198,
     "metadata": {},
     "output_type": "execute_result"
    }
   ],
   "source": [
    "pd.crosstab(creditData['poutcome'],creditData['Target'],normalize = 'index')"
   ]
  },
  {
   "cell_type": "code",
   "execution_count": 199,
   "metadata": {},
   "outputs": [
    {
     "data": {
      "text/html": [
       "<div>\n",
       "<style scoped>\n",
       "    .dataframe tbody tr th:only-of-type {\n",
       "        vertical-align: middle;\n",
       "    }\n",
       "\n",
       "    .dataframe tbody tr th {\n",
       "        vertical-align: top;\n",
       "    }\n",
       "\n",
       "    .dataframe thead th {\n",
       "        text-align: right;\n",
       "    }\n",
       "</style>\n",
       "<table border=\"1\" class=\"dataframe\">\n",
       "  <thead>\n",
       "    <tr style=\"text-align: right;\">\n",
       "      <th>Target</th>\n",
       "      <th>no</th>\n",
       "      <th>yes</th>\n",
       "      <th>All</th>\n",
       "    </tr>\n",
       "    <tr>\n",
       "      <th>poutcome</th>\n",
       "      <th></th>\n",
       "      <th></th>\n",
       "      <th></th>\n",
       "    </tr>\n",
       "  </thead>\n",
       "  <tbody>\n",
       "    <tr>\n",
       "      <td>failure</td>\n",
       "      <td>4283</td>\n",
       "      <td>618</td>\n",
       "      <td>4901</td>\n",
       "    </tr>\n",
       "    <tr>\n",
       "      <td>other</td>\n",
       "      <td>1533</td>\n",
       "      <td>307</td>\n",
       "      <td>1840</td>\n",
       "    </tr>\n",
       "    <tr>\n",
       "      <td>success</td>\n",
       "      <td>533</td>\n",
       "      <td>978</td>\n",
       "      <td>1511</td>\n",
       "    </tr>\n",
       "    <tr>\n",
       "      <td>unknown</td>\n",
       "      <td>33573</td>\n",
       "      <td>3386</td>\n",
       "      <td>36959</td>\n",
       "    </tr>\n",
       "    <tr>\n",
       "      <td>All</td>\n",
       "      <td>39922</td>\n",
       "      <td>5289</td>\n",
       "      <td>45211</td>\n",
       "    </tr>\n",
       "  </tbody>\n",
       "</table>\n",
       "</div>"
      ],
      "text/plain": [
       "Target       no   yes    All\n",
       "poutcome                    \n",
       "failure    4283   618   4901\n",
       "other      1533   307   1840\n",
       "success     533   978   1511\n",
       "unknown   33573  3386  36959\n",
       "All       39922  5289  45211"
      ]
     },
     "execution_count": 199,
     "metadata": {},
     "output_type": "execute_result"
    }
   ],
   "source": [
    "pd.crosstab(creditData['poutcome'],creditData['Target'],margins = True)"
   ]
  },
  {
   "cell_type": "markdown",
   "metadata": {},
   "source": [
    "The client who had accepted the term deposit for the previous capaign are most likely to accept the same in the current campaign.Here there is a presence of a large number of unknown values,Although we cannot drop this column since it has a very high correlation with the target variable."
   ]
  },
  {
   "cell_type": "code",
   "execution_count": 200,
   "metadata": {},
   "outputs": [
    {
     "data": {
      "text/html": [
       "<div>\n",
       "<style scoped>\n",
       "    .dataframe tbody tr th:only-of-type {\n",
       "        vertical-align: middle;\n",
       "    }\n",
       "\n",
       "    .dataframe tbody tr th {\n",
       "        vertical-align: top;\n",
       "    }\n",
       "\n",
       "    .dataframe thead tr th {\n",
       "        text-align: left;\n",
       "    }\n",
       "\n",
       "    .dataframe thead tr:last-of-type th {\n",
       "        text-align: right;\n",
       "    }\n",
       "</style>\n",
       "<table border=\"1\" class=\"dataframe\">\n",
       "  <thead>\n",
       "    <tr>\n",
       "      <th></th>\n",
       "      <th colspan=\"2\" halign=\"left\">min</th>\n",
       "      <th colspan=\"2\" halign=\"left\">my25</th>\n",
       "      <th colspan=\"2\" halign=\"left\">median</th>\n",
       "      <th colspan=\"2\" halign=\"left\">my75</th>\n",
       "      <th colspan=\"2\" halign=\"left\">max</th>\n",
       "    </tr>\n",
       "    <tr>\n",
       "      <th>Target</th>\n",
       "      <th>no</th>\n",
       "      <th>yes</th>\n",
       "      <th>no</th>\n",
       "      <th>yes</th>\n",
       "      <th>no</th>\n",
       "      <th>yes</th>\n",
       "      <th>no</th>\n",
       "      <th>yes</th>\n",
       "      <th>no</th>\n",
       "      <th>yes</th>\n",
       "    </tr>\n",
       "    <tr>\n",
       "      <th>poutcome</th>\n",
       "      <th></th>\n",
       "      <th></th>\n",
       "      <th></th>\n",
       "      <th></th>\n",
       "      <th></th>\n",
       "      <th></th>\n",
       "      <th></th>\n",
       "      <th></th>\n",
       "      <th></th>\n",
       "      <th></th>\n",
       "    </tr>\n",
       "  </thead>\n",
       "  <tbody>\n",
       "    <tr>\n",
       "      <td>failure</td>\n",
       "      <td>1</td>\n",
       "      <td>1</td>\n",
       "      <td>1</td>\n",
       "      <td>1</td>\n",
       "      <td>2</td>\n",
       "      <td>2</td>\n",
       "      <td>3</td>\n",
       "      <td>4</td>\n",
       "      <td>51</td>\n",
       "      <td>55</td>\n",
       "    </tr>\n",
       "    <tr>\n",
       "      <td>other</td>\n",
       "      <td>1</td>\n",
       "      <td>1</td>\n",
       "      <td>1</td>\n",
       "      <td>1</td>\n",
       "      <td>2</td>\n",
       "      <td>2</td>\n",
       "      <td>4</td>\n",
       "      <td>5</td>\n",
       "      <td>275</td>\n",
       "      <td>58</td>\n",
       "    </tr>\n",
       "    <tr>\n",
       "      <td>success</td>\n",
       "      <td>1</td>\n",
       "      <td>1</td>\n",
       "      <td>1</td>\n",
       "      <td>1</td>\n",
       "      <td>2</td>\n",
       "      <td>2</td>\n",
       "      <td>4</td>\n",
       "      <td>4</td>\n",
       "      <td>28</td>\n",
       "      <td>21</td>\n",
       "    </tr>\n",
       "    <tr>\n",
       "      <td>unknown</td>\n",
       "      <td>0</td>\n",
       "      <td>0</td>\n",
       "      <td>0</td>\n",
       "      <td>0</td>\n",
       "      <td>0</td>\n",
       "      <td>0</td>\n",
       "      <td>0</td>\n",
       "      <td>0</td>\n",
       "      <td>7</td>\n",
       "      <td>2</td>\n",
       "    </tr>\n",
       "  </tbody>\n",
       "</table>\n",
       "</div>"
      ],
      "text/plain": [
       "         min     my25     median     my75      max    \n",
       "Target    no yes   no yes     no yes   no yes   no yes\n",
       "poutcome                                              \n",
       "failure    1   1    1   1      2   2    3   4   51  55\n",
       "other      1   1    1   1      2   2    4   5  275  58\n",
       "success    1   1    1   1      2   2    4   4   28  21\n",
       "unknown    0   0    0   0      0   0    0   0    7   2"
      ]
     },
     "execution_count": 200,
     "metadata": {},
     "output_type": "execute_result"
    }
   ],
   "source": [
    "def my25(g):\n",
    "    return np.percentile(g, 25)\n",
    "\n",
    "def my75(g):\n",
    "    return np.percentile(g, 75)\n",
    "\n",
    "pd.pivot_table(creditData,'previous',index = ['poutcome'],columns = ['Target'],aggfunc = [min,my25,np.median,my75,max])"
   ]
  },
  {
   "cell_type": "markdown",
   "metadata": {},
   "source": [
    "No clear discrimination can be inferred as people upto 75 percentile,the values are almost the same and very close by."
   ]
  },
  {
   "cell_type": "markdown",
   "metadata": {},
   "source": [
    "# My understanding"
   ]
  },
  {
   "cell_type": "markdown",
   "metadata": {},
   "source": [
    "In this problem,we are searching for potential clients that would subscribe to the term deposit from the data given about them.\n",
    "\n",
    "Here,Success is the case when a potential candidate is rightly identified and this is deemed to be positive.\n",
    "\n",
    "Hence,False Negitives(Type 2 Error) are the potential clients the model fails to identify and False Positives are clients that the model incorrectly identifies (Type 1 Error).\n",
    "\n",
    "Here,the False Negitives will lead to losing a potential client while False Positives will only lead to a unwanted call for a client from the bank.Hence,we will have to concentrate on eliminating the False Negitives.Here,we will have concentrate on Recall rather than precision in determining the right model for our problem. "
   ]
  },
  {
   "cell_type": "markdown",
   "metadata": {},
   "source": [
    "# 4. Prepare the data to train a model – check if data types are appropriate, get rid of the missing values etc."
   ]
  },
  {
   "cell_type": "markdown",
   "metadata": {},
   "source": [
    "We will have to drop the duration column as in order to built a predictive realistic model as mentioned the question.\n",
    "\n",
    "This will eliminate the influence of this variable on our target variable."
   ]
  },
  {
   "cell_type": "code",
   "execution_count": 201,
   "metadata": {},
   "outputs": [],
   "source": [
    "creditData.drop('duration',axis =1,inplace = True)"
   ]
  },
  {
   "cell_type": "markdown",
   "metadata": {},
   "source": [
    "The columns poutcome has a lot of unknown values.But the little data within it is highly influencial in helping us arrive at a good model.Hence ,we should not drop this column as the influence of this variable is very high and hence would help in building a good model."
   ]
  },
  {
   "cell_type": "code",
   "execution_count": 202,
   "metadata": {},
   "outputs": [],
   "source": [
    "creditData['poutcome'] = creditData['poutcome'].replace(to_replace = 'unknown' ,value ='N.A.')"
   ]
  },
  {
   "cell_type": "code",
   "execution_count": 203,
   "metadata": {},
   "outputs": [],
   "source": [
    "creditData['contact'] = creditData['contact'].replace(to_replace = 'unknown' ,value ='N.A.')\n",
    "#creditData.drop('contact',axis =1,inplace = True)"
   ]
  },
  {
   "cell_type": "markdown",
   "metadata": {},
   "source": [
    "We need to the datatype of all the categorical variables from object to categorical."
   ]
  },
  {
   "cell_type": "code",
   "execution_count": 204,
   "metadata": {},
   "outputs": [
    {
     "data": {
      "text/html": [
       "<div>\n",
       "<style scoped>\n",
       "    .dataframe tbody tr th:only-of-type {\n",
       "        vertical-align: middle;\n",
       "    }\n",
       "\n",
       "    .dataframe tbody tr th {\n",
       "        vertical-align: top;\n",
       "    }\n",
       "\n",
       "    .dataframe thead th {\n",
       "        text-align: right;\n",
       "    }\n",
       "</style>\n",
       "<table border=\"1\" class=\"dataframe\">\n",
       "  <thead>\n",
       "    <tr style=\"text-align: right;\">\n",
       "      <th></th>\n",
       "      <th>age</th>\n",
       "      <th>job</th>\n",
       "      <th>marital</th>\n",
       "      <th>education</th>\n",
       "      <th>default</th>\n",
       "      <th>balance</th>\n",
       "      <th>housing</th>\n",
       "      <th>loan</th>\n",
       "      <th>day</th>\n",
       "      <th>month</th>\n",
       "      <th>campaign</th>\n",
       "      <th>pdays</th>\n",
       "      <th>previous</th>\n",
       "      <th>poutcome</th>\n",
       "      <th>Target</th>\n",
       "    </tr>\n",
       "  </thead>\n",
       "  <tbody>\n",
       "    <tr>\n",
       "      <td>0</td>\n",
       "      <td>58</td>\n",
       "      <td>management</td>\n",
       "      <td>married</td>\n",
       "      <td>tertiary</td>\n",
       "      <td>no</td>\n",
       "      <td>2143</td>\n",
       "      <td>yes</td>\n",
       "      <td>no</td>\n",
       "      <td>5</td>\n",
       "      <td>may</td>\n",
       "      <td>1</td>\n",
       "      <td>-1</td>\n",
       "      <td>0</td>\n",
       "      <td>N.A.</td>\n",
       "      <td>no</td>\n",
       "    </tr>\n",
       "    <tr>\n",
       "      <td>1</td>\n",
       "      <td>44</td>\n",
       "      <td>technician</td>\n",
       "      <td>single</td>\n",
       "      <td>secondary</td>\n",
       "      <td>no</td>\n",
       "      <td>29</td>\n",
       "      <td>yes</td>\n",
       "      <td>no</td>\n",
       "      <td>5</td>\n",
       "      <td>may</td>\n",
       "      <td>1</td>\n",
       "      <td>-1</td>\n",
       "      <td>0</td>\n",
       "      <td>N.A.</td>\n",
       "      <td>no</td>\n",
       "    </tr>\n",
       "    <tr>\n",
       "      <td>2</td>\n",
       "      <td>33</td>\n",
       "      <td>entrepreneur</td>\n",
       "      <td>married</td>\n",
       "      <td>secondary</td>\n",
       "      <td>no</td>\n",
       "      <td>2</td>\n",
       "      <td>yes</td>\n",
       "      <td>yes</td>\n",
       "      <td>5</td>\n",
       "      <td>may</td>\n",
       "      <td>1</td>\n",
       "      <td>-1</td>\n",
       "      <td>0</td>\n",
       "      <td>N.A.</td>\n",
       "      <td>no</td>\n",
       "    </tr>\n",
       "    <tr>\n",
       "      <td>3</td>\n",
       "      <td>47</td>\n",
       "      <td>blue-collar</td>\n",
       "      <td>married</td>\n",
       "      <td>unknown</td>\n",
       "      <td>no</td>\n",
       "      <td>1506</td>\n",
       "      <td>yes</td>\n",
       "      <td>no</td>\n",
       "      <td>5</td>\n",
       "      <td>may</td>\n",
       "      <td>1</td>\n",
       "      <td>-1</td>\n",
       "      <td>0</td>\n",
       "      <td>N.A.</td>\n",
       "      <td>no</td>\n",
       "    </tr>\n",
       "    <tr>\n",
       "      <td>4</td>\n",
       "      <td>33</td>\n",
       "      <td>unknown</td>\n",
       "      <td>single</td>\n",
       "      <td>unknown</td>\n",
       "      <td>no</td>\n",
       "      <td>1</td>\n",
       "      <td>no</td>\n",
       "      <td>no</td>\n",
       "      <td>5</td>\n",
       "      <td>may</td>\n",
       "      <td>1</td>\n",
       "      <td>-1</td>\n",
       "      <td>0</td>\n",
       "      <td>N.A.</td>\n",
       "      <td>no</td>\n",
       "    </tr>\n",
       "    <tr>\n",
       "      <td>5</td>\n",
       "      <td>35</td>\n",
       "      <td>management</td>\n",
       "      <td>married</td>\n",
       "      <td>tertiary</td>\n",
       "      <td>no</td>\n",
       "      <td>231</td>\n",
       "      <td>yes</td>\n",
       "      <td>no</td>\n",
       "      <td>5</td>\n",
       "      <td>may</td>\n",
       "      <td>1</td>\n",
       "      <td>-1</td>\n",
       "      <td>0</td>\n",
       "      <td>N.A.</td>\n",
       "      <td>no</td>\n",
       "    </tr>\n",
       "    <tr>\n",
       "      <td>6</td>\n",
       "      <td>28</td>\n",
       "      <td>management</td>\n",
       "      <td>single</td>\n",
       "      <td>tertiary</td>\n",
       "      <td>no</td>\n",
       "      <td>447</td>\n",
       "      <td>yes</td>\n",
       "      <td>yes</td>\n",
       "      <td>5</td>\n",
       "      <td>may</td>\n",
       "      <td>1</td>\n",
       "      <td>-1</td>\n",
       "      <td>0</td>\n",
       "      <td>N.A.</td>\n",
       "      <td>no</td>\n",
       "    </tr>\n",
       "    <tr>\n",
       "      <td>7</td>\n",
       "      <td>42</td>\n",
       "      <td>entrepreneur</td>\n",
       "      <td>divorced</td>\n",
       "      <td>tertiary</td>\n",
       "      <td>yes</td>\n",
       "      <td>2</td>\n",
       "      <td>yes</td>\n",
       "      <td>no</td>\n",
       "      <td>5</td>\n",
       "      <td>may</td>\n",
       "      <td>1</td>\n",
       "      <td>-1</td>\n",
       "      <td>0</td>\n",
       "      <td>N.A.</td>\n",
       "      <td>no</td>\n",
       "    </tr>\n",
       "    <tr>\n",
       "      <td>8</td>\n",
       "      <td>58</td>\n",
       "      <td>retired</td>\n",
       "      <td>married</td>\n",
       "      <td>primary</td>\n",
       "      <td>no</td>\n",
       "      <td>121</td>\n",
       "      <td>yes</td>\n",
       "      <td>no</td>\n",
       "      <td>5</td>\n",
       "      <td>may</td>\n",
       "      <td>1</td>\n",
       "      <td>-1</td>\n",
       "      <td>0</td>\n",
       "      <td>N.A.</td>\n",
       "      <td>no</td>\n",
       "    </tr>\n",
       "    <tr>\n",
       "      <td>9</td>\n",
       "      <td>43</td>\n",
       "      <td>technician</td>\n",
       "      <td>single</td>\n",
       "      <td>secondary</td>\n",
       "      <td>no</td>\n",
       "      <td>593</td>\n",
       "      <td>yes</td>\n",
       "      <td>no</td>\n",
       "      <td>5</td>\n",
       "      <td>may</td>\n",
       "      <td>1</td>\n",
       "      <td>-1</td>\n",
       "      <td>0</td>\n",
       "      <td>N.A.</td>\n",
       "      <td>no</td>\n",
       "    </tr>\n",
       "  </tbody>\n",
       "</table>\n",
       "</div>"
      ],
      "text/plain": [
       "   age           job   marital  education default  balance housing loan  day  \\\n",
       "0   58    management   married   tertiary      no     2143     yes   no    5   \n",
       "1   44    technician    single  secondary      no       29     yes   no    5   \n",
       "2   33  entrepreneur   married  secondary      no        2     yes  yes    5   \n",
       "3   47   blue-collar   married    unknown      no     1506     yes   no    5   \n",
       "4   33       unknown    single    unknown      no        1      no   no    5   \n",
       "5   35    management   married   tertiary      no      231     yes   no    5   \n",
       "6   28    management    single   tertiary      no      447     yes  yes    5   \n",
       "7   42  entrepreneur  divorced   tertiary     yes        2     yes   no    5   \n",
       "8   58       retired   married    primary      no      121     yes   no    5   \n",
       "9   43    technician    single  secondary      no      593     yes   no    5   \n",
       "\n",
       "  month  campaign  pdays  previous poutcome Target  \n",
       "0   may         1     -1         0     N.A.     no  \n",
       "1   may         1     -1         0     N.A.     no  \n",
       "2   may         1     -1         0     N.A.     no  \n",
       "3   may         1     -1         0     N.A.     no  \n",
       "4   may         1     -1         0     N.A.     no  \n",
       "5   may         1     -1         0     N.A.     no  \n",
       "6   may         1     -1         0     N.A.     no  \n",
       "7   may         1     -1         0     N.A.     no  \n",
       "8   may         1     -1         0     N.A.     no  \n",
       "9   may         1     -1         0     N.A.     no  "
      ]
     },
     "execution_count": 204,
     "metadata": {},
     "output_type": "execute_result"
    }
   ],
   "source": [
    "for feature in creditData.columns:\n",
    "    if creditData[feature].dtype == 'object':\n",
    "        creditData[feature] = pd.Categorical(creditData[feature])\n",
    "creditData.head(10)"
   ]
  },
  {
   "cell_type": "code",
   "execution_count": 205,
   "metadata": {},
   "outputs": [
    {
     "name": "stdout",
     "output_type": "stream",
     "text": [
      "<class 'pandas.core.frame.DataFrame'>\n",
      "RangeIndex: 45211 entries, 0 to 45210\n",
      "Data columns (total 15 columns):\n",
      "age          45211 non-null int64\n",
      "job          45211 non-null category\n",
      "marital      45211 non-null category\n",
      "education    45211 non-null category\n",
      "default      45211 non-null category\n",
      "balance      45211 non-null int64\n",
      "housing      45211 non-null category\n",
      "loan         45211 non-null category\n",
      "day          45211 non-null int64\n",
      "month        45211 non-null category\n",
      "campaign     45211 non-null int64\n",
      "pdays        45211 non-null int64\n",
      "previous     45211 non-null int64\n",
      "poutcome     45211 non-null category\n",
      "Target       45211 non-null category\n",
      "dtypes: category(9), int64(6)\n",
      "memory usage: 2.5 MB\n"
     ]
    }
   ],
   "source": [
    "creditData.info()"
   ]
  },
  {
   "cell_type": "code",
   "execution_count": 206,
   "metadata": {},
   "outputs": [],
   "source": [
    "creditData.replace('unknown',np.nan,inplace = True)"
   ]
  },
  {
   "cell_type": "markdown",
   "metadata": {},
   "source": [
    "Replacing all unknown values of insignificant columns with NaN in order to remove it using dropna"
   ]
  },
  {
   "cell_type": "code",
   "execution_count": 207,
   "metadata": {},
   "outputs": [
    {
     "data": {
      "text/html": [
       "<div>\n",
       "<style scoped>\n",
       "    .dataframe tbody tr th:only-of-type {\n",
       "        vertical-align: middle;\n",
       "    }\n",
       "\n",
       "    .dataframe tbody tr th {\n",
       "        vertical-align: top;\n",
       "    }\n",
       "\n",
       "    .dataframe thead th {\n",
       "        text-align: right;\n",
       "    }\n",
       "</style>\n",
       "<table border=\"1\" class=\"dataframe\">\n",
       "  <thead>\n",
       "    <tr style=\"text-align: right;\">\n",
       "      <th></th>\n",
       "      <th>age</th>\n",
       "      <th>job</th>\n",
       "      <th>marital</th>\n",
       "      <th>education</th>\n",
       "      <th>default</th>\n",
       "      <th>balance</th>\n",
       "      <th>housing</th>\n",
       "      <th>loan</th>\n",
       "      <th>day</th>\n",
       "      <th>month</th>\n",
       "      <th>campaign</th>\n",
       "      <th>pdays</th>\n",
       "      <th>previous</th>\n",
       "      <th>poutcome</th>\n",
       "      <th>Target</th>\n",
       "    </tr>\n",
       "  </thead>\n",
       "  <tbody>\n",
       "    <tr>\n",
       "      <td>0</td>\n",
       "      <td>58</td>\n",
       "      <td>management</td>\n",
       "      <td>married</td>\n",
       "      <td>tertiary</td>\n",
       "      <td>no</td>\n",
       "      <td>2143</td>\n",
       "      <td>yes</td>\n",
       "      <td>no</td>\n",
       "      <td>5</td>\n",
       "      <td>may</td>\n",
       "      <td>1</td>\n",
       "      <td>-1</td>\n",
       "      <td>0</td>\n",
       "      <td>N.A.</td>\n",
       "      <td>no</td>\n",
       "    </tr>\n",
       "    <tr>\n",
       "      <td>1</td>\n",
       "      <td>44</td>\n",
       "      <td>technician</td>\n",
       "      <td>single</td>\n",
       "      <td>secondary</td>\n",
       "      <td>no</td>\n",
       "      <td>29</td>\n",
       "      <td>yes</td>\n",
       "      <td>no</td>\n",
       "      <td>5</td>\n",
       "      <td>may</td>\n",
       "      <td>1</td>\n",
       "      <td>-1</td>\n",
       "      <td>0</td>\n",
       "      <td>N.A.</td>\n",
       "      <td>no</td>\n",
       "    </tr>\n",
       "    <tr>\n",
       "      <td>2</td>\n",
       "      <td>33</td>\n",
       "      <td>entrepreneur</td>\n",
       "      <td>married</td>\n",
       "      <td>secondary</td>\n",
       "      <td>no</td>\n",
       "      <td>2</td>\n",
       "      <td>yes</td>\n",
       "      <td>yes</td>\n",
       "      <td>5</td>\n",
       "      <td>may</td>\n",
       "      <td>1</td>\n",
       "      <td>-1</td>\n",
       "      <td>0</td>\n",
       "      <td>N.A.</td>\n",
       "      <td>no</td>\n",
       "    </tr>\n",
       "    <tr>\n",
       "      <td>5</td>\n",
       "      <td>35</td>\n",
       "      <td>management</td>\n",
       "      <td>married</td>\n",
       "      <td>tertiary</td>\n",
       "      <td>no</td>\n",
       "      <td>231</td>\n",
       "      <td>yes</td>\n",
       "      <td>no</td>\n",
       "      <td>5</td>\n",
       "      <td>may</td>\n",
       "      <td>1</td>\n",
       "      <td>-1</td>\n",
       "      <td>0</td>\n",
       "      <td>N.A.</td>\n",
       "      <td>no</td>\n",
       "    </tr>\n",
       "    <tr>\n",
       "      <td>6</td>\n",
       "      <td>28</td>\n",
       "      <td>management</td>\n",
       "      <td>single</td>\n",
       "      <td>tertiary</td>\n",
       "      <td>no</td>\n",
       "      <td>447</td>\n",
       "      <td>yes</td>\n",
       "      <td>yes</td>\n",
       "      <td>5</td>\n",
       "      <td>may</td>\n",
       "      <td>1</td>\n",
       "      <td>-1</td>\n",
       "      <td>0</td>\n",
       "      <td>N.A.</td>\n",
       "      <td>no</td>\n",
       "    </tr>\n",
       "  </tbody>\n",
       "</table>\n",
       "</div>"
      ],
      "text/plain": [
       "   age           job  marital  education default  balance housing loan  day  \\\n",
       "0   58    management  married   tertiary      no     2143     yes   no    5   \n",
       "1   44    technician   single  secondary      no       29     yes   no    5   \n",
       "2   33  entrepreneur  married  secondary      no        2     yes  yes    5   \n",
       "5   35    management  married   tertiary      no      231     yes   no    5   \n",
       "6   28    management   single   tertiary      no      447     yes  yes    5   \n",
       "\n",
       "  month  campaign  pdays  previous poutcome Target  \n",
       "0   may         1     -1         0     N.A.     no  \n",
       "1   may         1     -1         0     N.A.     no  \n",
       "2   may         1     -1         0     N.A.     no  \n",
       "5   may         1     -1         0     N.A.     no  \n",
       "6   may         1     -1         0     N.A.     no  "
      ]
     },
     "execution_count": 207,
     "metadata": {},
     "output_type": "execute_result"
    }
   ],
   "source": [
    "creditData.dropna(inplace =True,how ='any')\n",
    "creditData.head()"
   ]
  },
  {
   "cell_type": "code",
   "execution_count": 208,
   "metadata": {},
   "outputs": [
    {
     "data": {
      "text/plain": [
       "(43193, 15)"
      ]
     },
     "execution_count": 208,
     "metadata": {},
     "output_type": "execute_result"
    }
   ],
   "source": [
    "creditData.shape"
   ]
  },
  {
   "cell_type": "code",
   "execution_count": 209,
   "metadata": {},
   "outputs": [],
   "source": [
    "replaceStruct = {\n",
    "                \"job\":     {\"blue-collar\": 1, \"entrepreneur\": 2 ,\"housemaid\": 3 ,\"services\":4,\"technician\":5, \"unknown\": 6,\"self-employed\":7,\"admin.\":8,\"management\":9,\"unemployed\":10,\"retired\":11,\"student\":12},\n",
    "                \"education\": {\"primary\": 1, \"secondary\":2 , \"tertiary\": 3, \"unknown\": -1},\n",
    "                 \"marital\": {\"married\": 1, \"divorced\":2 , \"single\": 3},\n",
    "                \"housing\":     {\"no\": 0, \"yes\": 1 },\n",
    "                 \"default\":     {\"no\": 0, \"yes\": 1 },\n",
    "                \"loan\":     {\"no\": 1, \"yes\": 0 },\n",
    "                 \"month\":     {\"may\": 1, \"jul\": 2 ,\"jan\": 3 ,\"nov\": 4 ,\"jun\": 5,\"aug\":6,\"feb\":7,\"apr\":8,\"oct\":9,\"sep\":10,\"dec\":11,\"mar\":12},\n",
    "                \"Target\":   {\"no\": 0, \"yes\": 1 },\n",
    "                \"poutcome\":   {\"success\": 2, \"other\": 1,\"failure\": 0, \"N.A.\" : -1 },\n",
    "                \"contact\": {\"cellular\":1,\"telephone\":0,\"N.A.\":-1}\n",
    "                    }\n"
   ]
  },
  {
   "cell_type": "code",
   "execution_count": 210,
   "metadata": {},
   "outputs": [
    {
     "data": {
      "text/html": [
       "<div>\n",
       "<style scoped>\n",
       "    .dataframe tbody tr th:only-of-type {\n",
       "        vertical-align: middle;\n",
       "    }\n",
       "\n",
       "    .dataframe tbody tr th {\n",
       "        vertical-align: top;\n",
       "    }\n",
       "\n",
       "    .dataframe thead th {\n",
       "        text-align: right;\n",
       "    }\n",
       "</style>\n",
       "<table border=\"1\" class=\"dataframe\">\n",
       "  <thead>\n",
       "    <tr style=\"text-align: right;\">\n",
       "      <th></th>\n",
       "      <th>age</th>\n",
       "      <th>job</th>\n",
       "      <th>marital</th>\n",
       "      <th>education</th>\n",
       "      <th>default</th>\n",
       "      <th>balance</th>\n",
       "      <th>housing</th>\n",
       "      <th>loan</th>\n",
       "      <th>day</th>\n",
       "      <th>month</th>\n",
       "      <th>campaign</th>\n",
       "      <th>pdays</th>\n",
       "      <th>previous</th>\n",
       "      <th>poutcome</th>\n",
       "      <th>Target</th>\n",
       "    </tr>\n",
       "  </thead>\n",
       "  <tbody>\n",
       "    <tr>\n",
       "      <td>0</td>\n",
       "      <td>58</td>\n",
       "      <td>9</td>\n",
       "      <td>1</td>\n",
       "      <td>3</td>\n",
       "      <td>0</td>\n",
       "      <td>2143</td>\n",
       "      <td>1</td>\n",
       "      <td>1</td>\n",
       "      <td>5</td>\n",
       "      <td>1</td>\n",
       "      <td>1</td>\n",
       "      <td>-1</td>\n",
       "      <td>0</td>\n",
       "      <td>-1</td>\n",
       "      <td>0</td>\n",
       "    </tr>\n",
       "    <tr>\n",
       "      <td>1</td>\n",
       "      <td>44</td>\n",
       "      <td>5</td>\n",
       "      <td>3</td>\n",
       "      <td>2</td>\n",
       "      <td>0</td>\n",
       "      <td>29</td>\n",
       "      <td>1</td>\n",
       "      <td>1</td>\n",
       "      <td>5</td>\n",
       "      <td>1</td>\n",
       "      <td>1</td>\n",
       "      <td>-1</td>\n",
       "      <td>0</td>\n",
       "      <td>-1</td>\n",
       "      <td>0</td>\n",
       "    </tr>\n",
       "    <tr>\n",
       "      <td>2</td>\n",
       "      <td>33</td>\n",
       "      <td>2</td>\n",
       "      <td>1</td>\n",
       "      <td>2</td>\n",
       "      <td>0</td>\n",
       "      <td>2</td>\n",
       "      <td>1</td>\n",
       "      <td>0</td>\n",
       "      <td>5</td>\n",
       "      <td>1</td>\n",
       "      <td>1</td>\n",
       "      <td>-1</td>\n",
       "      <td>0</td>\n",
       "      <td>-1</td>\n",
       "      <td>0</td>\n",
       "    </tr>\n",
       "    <tr>\n",
       "      <td>5</td>\n",
       "      <td>35</td>\n",
       "      <td>9</td>\n",
       "      <td>1</td>\n",
       "      <td>3</td>\n",
       "      <td>0</td>\n",
       "      <td>231</td>\n",
       "      <td>1</td>\n",
       "      <td>1</td>\n",
       "      <td>5</td>\n",
       "      <td>1</td>\n",
       "      <td>1</td>\n",
       "      <td>-1</td>\n",
       "      <td>0</td>\n",
       "      <td>-1</td>\n",
       "      <td>0</td>\n",
       "    </tr>\n",
       "    <tr>\n",
       "      <td>6</td>\n",
       "      <td>28</td>\n",
       "      <td>9</td>\n",
       "      <td>3</td>\n",
       "      <td>3</td>\n",
       "      <td>0</td>\n",
       "      <td>447</td>\n",
       "      <td>1</td>\n",
       "      <td>0</td>\n",
       "      <td>5</td>\n",
       "      <td>1</td>\n",
       "      <td>1</td>\n",
       "      <td>-1</td>\n",
       "      <td>0</td>\n",
       "      <td>-1</td>\n",
       "      <td>0</td>\n",
       "    </tr>\n",
       "  </tbody>\n",
       "</table>\n",
       "</div>"
      ],
      "text/plain": [
       "   age  job  marital education  default  balance  housing  loan  day  month  \\\n",
       "0   58    9        1         3        0     2143        1     1    5      1   \n",
       "1   44    5        3         2        0       29        1     1    5      1   \n",
       "2   33    2        1         2        0        2        1     0    5      1   \n",
       "5   35    9        1         3        0      231        1     1    5      1   \n",
       "6   28    9        3         3        0      447        1     0    5      1   \n",
       "\n",
       "   campaign  pdays  previous  poutcome  Target  \n",
       "0         1     -1         0        -1       0  \n",
       "1         1     -1         0        -1       0  \n",
       "2         1     -1         0        -1       0  \n",
       "5         1     -1         0        -1       0  \n",
       "6         1     -1         0        -1       0  "
      ]
     },
     "execution_count": 210,
     "metadata": {},
     "output_type": "execute_result"
    }
   ],
   "source": [
    "creditData = creditData.replace(replaceStruct)\n",
    "\n",
    "creditData.head()"
   ]
  },
  {
   "cell_type": "markdown",
   "metadata": {},
   "source": [
    "The standard scalar is applied for the numerical variables and not the categorical variables as random forest generates errors when the same is applied for categorical variables.\n",
    "\n",
    "Hence,we will have to Standardise the numericals variables now to do Descision Tree and then use standardisation and apply KNN thereafter in order to get good accuracies for KNN"
   ]
  },
  {
   "cell_type": "code",
   "execution_count": 211,
   "metadata": {},
   "outputs": [
    {
     "data": {
      "text/html": [
       "<div>\n",
       "<style scoped>\n",
       "    .dataframe tbody tr th:only-of-type {\n",
       "        vertical-align: middle;\n",
       "    }\n",
       "\n",
       "    .dataframe tbody tr th {\n",
       "        vertical-align: top;\n",
       "    }\n",
       "\n",
       "    .dataframe thead th {\n",
       "        text-align: right;\n",
       "    }\n",
       "</style>\n",
       "<table border=\"1\" class=\"dataframe\">\n",
       "  <thead>\n",
       "    <tr style=\"text-align: right;\">\n",
       "      <th></th>\n",
       "      <th>age</th>\n",
       "      <th>job</th>\n",
       "      <th>marital</th>\n",
       "      <th>education</th>\n",
       "      <th>default</th>\n",
       "      <th>balance</th>\n",
       "      <th>housing</th>\n",
       "      <th>loan</th>\n",
       "      <th>day</th>\n",
       "      <th>month</th>\n",
       "      <th>campaign</th>\n",
       "      <th>pdays</th>\n",
       "      <th>previous</th>\n",
       "      <th>poutcome</th>\n",
       "      <th>Target</th>\n",
       "    </tr>\n",
       "  </thead>\n",
       "  <tbody>\n",
       "    <tr>\n",
       "      <td>0</td>\n",
       "      <td>1.639561</td>\n",
       "      <td>9</td>\n",
       "      <td>1</td>\n",
       "      <td>3</td>\n",
       "      <td>0</td>\n",
       "      <td>0.259354</td>\n",
       "      <td>1</td>\n",
       "      <td>1</td>\n",
       "      <td>5</td>\n",
       "      <td>1</td>\n",
       "      <td>1</td>\n",
       "      <td>-1</td>\n",
       "      <td>0</td>\n",
       "      <td>-1</td>\n",
       "      <td>0</td>\n",
       "    </tr>\n",
       "    <tr>\n",
       "      <td>1</td>\n",
       "      <td>0.307816</td>\n",
       "      <td>5</td>\n",
       "      <td>3</td>\n",
       "      <td>2</td>\n",
       "      <td>0</td>\n",
       "      <td>-0.435568</td>\n",
       "      <td>1</td>\n",
       "      <td>1</td>\n",
       "      <td>5</td>\n",
       "      <td>1</td>\n",
       "      <td>1</td>\n",
       "      <td>-1</td>\n",
       "      <td>0</td>\n",
       "      <td>-1</td>\n",
       "      <td>0</td>\n",
       "    </tr>\n",
       "    <tr>\n",
       "      <td>2</td>\n",
       "      <td>-0.738556</td>\n",
       "      <td>2</td>\n",
       "      <td>1</td>\n",
       "      <td>2</td>\n",
       "      <td>0</td>\n",
       "      <td>-0.444443</td>\n",
       "      <td>1</td>\n",
       "      <td>0</td>\n",
       "      <td>5</td>\n",
       "      <td>1</td>\n",
       "      <td>1</td>\n",
       "      <td>-1</td>\n",
       "      <td>0</td>\n",
       "      <td>-1</td>\n",
       "      <td>0</td>\n",
       "    </tr>\n",
       "    <tr>\n",
       "      <td>5</td>\n",
       "      <td>-0.548306</td>\n",
       "      <td>9</td>\n",
       "      <td>1</td>\n",
       "      <td>3</td>\n",
       "      <td>0</td>\n",
       "      <td>-0.369166</td>\n",
       "      <td>1</td>\n",
       "      <td>1</td>\n",
       "      <td>5</td>\n",
       "      <td>1</td>\n",
       "      <td>1</td>\n",
       "      <td>-1</td>\n",
       "      <td>0</td>\n",
       "      <td>-1</td>\n",
       "      <td>0</td>\n",
       "    </tr>\n",
       "    <tr>\n",
       "      <td>6</td>\n",
       "      <td>-1.214179</td>\n",
       "      <td>9</td>\n",
       "      <td>3</td>\n",
       "      <td>3</td>\n",
       "      <td>0</td>\n",
       "      <td>-0.298161</td>\n",
       "      <td>1</td>\n",
       "      <td>0</td>\n",
       "      <td>5</td>\n",
       "      <td>1</td>\n",
       "      <td>1</td>\n",
       "      <td>-1</td>\n",
       "      <td>0</td>\n",
       "      <td>-1</td>\n",
       "      <td>0</td>\n",
       "    </tr>\n",
       "  </tbody>\n",
       "</table>\n",
       "</div>"
      ],
      "text/plain": [
       "        age  job  marital education  default   balance  housing  loan  day  \\\n",
       "0  1.639561    9        1         3        0  0.259354        1     1    5   \n",
       "1  0.307816    5        3         2        0 -0.435568        1     1    5   \n",
       "2 -0.738556    2        1         2        0 -0.444443        1     0    5   \n",
       "5 -0.548306    9        1         3        0 -0.369166        1     1    5   \n",
       "6 -1.214179    9        3         3        0 -0.298161        1     0    5   \n",
       "\n",
       "   month  campaign  pdays  previous  poutcome  Target  \n",
       "0      1         1     -1         0        -1       0  \n",
       "1      1         1     -1         0        -1       0  \n",
       "2      1         1     -1         0        -1       0  \n",
       "5      1         1     -1         0        -1       0  \n",
       "6      1         1     -1         0        -1       0  "
      ]
     },
     "execution_count": 211,
     "metadata": {},
     "output_type": "execute_result"
    }
   ],
   "source": [
    "from sklearn.preprocessing import StandardScaler\n",
    "creditData[['age', 'balance']] = StandardScaler().fit_transform(creditData[['age', 'balance']])\n",
    "creditData.head()"
   ]
  },
  {
   "cell_type": "code",
   "execution_count": 212,
   "metadata": {},
   "outputs": [],
   "source": [
    "x = creditData.drop(\"Target\",axis =1)\n",
    "y = creditData.pop(\"Target\")"
   ]
  },
  {
   "cell_type": "code",
   "execution_count": 213,
   "metadata": {},
   "outputs": [],
   "source": [
    "x_train, x_test, y_train, y_test = train_test_split(x, y, test_size= 0.3,random_state = 1)"
   ]
  },
  {
   "cell_type": "markdown",
   "metadata": {},
   "source": [
    "# 5.Train a few standard classification algorithms, note and comment on their performances across different classification metrics."
   ]
  },
  {
   "cell_type": "markdown",
   "metadata": {},
   "source": [
    "# 6. Build the ensemble models and compare the results with the base models. Note: Random forest can be used only with Decision trees."
   ]
  },
  {
   "cell_type": "code",
   "execution_count": 214,
   "metadata": {},
   "outputs": [
    {
     "name": "stdout",
     "output_type": "stream",
     "text": [
      "\n",
      "\n",
      "For Max. depth of Tree =  1\n",
      "Model Accuracy on Test Data : 0.8953542213304523\n",
      "Model Recall on Test Data : 0.18974700399467376\n",
      "\n",
      "\n",
      "For Max. depth of Tree =  2\n",
      "Model Accuracy on Test Data : 0.8934249112517364\n",
      "Model Recall on Test Data : 0.13382157123834887\n",
      "\n",
      "\n",
      "For Max. depth of Tree =  3\n",
      "Model Accuracy on Test Data : 0.8949683593147091\n",
      "Model Recall on Test Data : 0.2103861517976032\n",
      "\n",
      "\n",
      "For Max. depth of Tree =  4\n",
      "Model Accuracy on Test Data : 0.8945824972989659\n",
      "Model Recall on Test Data : 0.1970705725699068\n",
      "\n",
      "\n",
      "For Max. depth of Tree =  5\n",
      "Model Accuracy on Test Data : 0.8950455317178577\n",
      "Model Recall on Test Data : 0.16378162450066577\n",
      "\n",
      "\n",
      "For Max. depth of Tree =  6\n",
      "Model Accuracy on Test Data : 0.89435098008952\n",
      "Model Recall on Test Data : 0.21171770972037285\n",
      "\n",
      "\n",
      "For Max. depth of Tree =  7\n",
      "Model Accuracy on Test Data : 0.8940422904769254\n",
      "Model Recall on Test Data : 0.19241011984021306\n",
      "\n",
      "\n",
      "For Max. depth of Tree =  8\n",
      "Model Accuracy on Test Data : 0.8929618768328446\n",
      "Model Recall on Test Data : 0.2210386151797603\n",
      "\n",
      "\n",
      "For Max. depth of Tree =  9\n",
      "Model Accuracy on Test Data : 0.893502083654885\n",
      "Model Recall on Test Data : 0.2197070572569907\n"
     ]
    }
   ],
   "source": [
    "for i in range(1,10,1):\n",
    "    dTree = DecisionTreeClassifier(criterion = 'entropy' ,max_depth = i, random_state = 1)\n",
    "    dTree.fit(x_train,y_train)\n",
    "    y_predict = dTree.predict(x_test)\n",
    "    print('\\n')\n",
    "    print('For Max. depth of Tree = ',i)\n",
    "    print('Model Accuracy on Test Data :',dTree.score(x_test,y_test))\n",
    "    print('Model Recall on Test Data :',metrics.recall_score(y_test , y_predict))"
   ]
  },
  {
   "cell_type": "markdown",
   "metadata": {},
   "source": [
    "As we said earlier the along with accuracy,the Recall would also be a significant factor in deciding the better model in order to accomplish our task.Hence,we will have to select Max. depth of Tree = 6 for obtainig optimum results."
   ]
  },
  {
   "cell_type": "code",
   "execution_count": 215,
   "metadata": {},
   "outputs": [
    {
     "name": "stdout",
     "output_type": "stream",
     "text": [
      "Model Accuracy on Test Data : 0.89435098008952\n",
      "Model Recall on Test Data : 0.21171770972037285\n"
     ]
    }
   ],
   "source": [
    "dTree = DecisionTreeClassifier(criterion = 'entropy' ,max_depth = 6, random_state = 1)\n",
    "dTree.fit(x_train,y_train)\n",
    "y_predict = dTree.predict(x_test)\n",
    "print('Model Accuracy on Test Data :',dTree.score(x_test,y_test))\n",
    "print('Model Recall on Test Data :',metrics.recall_score(y_test , y_predict))"
   ]
  },
  {
   "cell_type": "code",
   "execution_count": 216,
   "metadata": {},
   "outputs": [
    {
     "data": {
      "text/html": [
       "<div>\n",
       "<style scoped>\n",
       "    .dataframe tbody tr th:only-of-type {\n",
       "        vertical-align: middle;\n",
       "    }\n",
       "\n",
       "    .dataframe tbody tr th {\n",
       "        vertical-align: top;\n",
       "    }\n",
       "\n",
       "    .dataframe thead th {\n",
       "        text-align: right;\n",
       "    }\n",
       "</style>\n",
       "<table border=\"1\" class=\"dataframe\">\n",
       "  <thead>\n",
       "    <tr style=\"text-align: right;\">\n",
       "      <th></th>\n",
       "      <th>No</th>\n",
       "      <th>Yes</th>\n",
       "    </tr>\n",
       "  </thead>\n",
       "  <tbody>\n",
       "    <tr>\n",
       "      <td>Predict No</td>\n",
       "      <td>11271</td>\n",
       "      <td>1184</td>\n",
       "    </tr>\n",
       "    <tr>\n",
       "      <td>Predict Yes</td>\n",
       "      <td>185</td>\n",
       "      <td>318</td>\n",
       "    </tr>\n",
       "  </tbody>\n",
       "</table>\n",
       "</div>"
      ],
      "text/plain": [
       "                No   Yes\n",
       "Predict No   11271  1184\n",
       "Predict Yes    185   318"
      ]
     },
     "execution_count": 216,
     "metadata": {},
     "output_type": "execute_result"
    }
   ],
   "source": [
    "cm=metrics.confusion_matrix(y_test, y_predict, labels=[0, 1])\n",
    "\n",
    "df_cm = pd.DataFrame(cm, index = [i for i in [\"No\",\"Yes\"]],\n",
    "                  columns = [i for i in [\"Predict No\",\"Predict Yes\"]])\n",
    "df_cm.T"
   ]
  },
  {
   "cell_type": "markdown",
   "metadata": {},
   "source": [
    "It can be seen that the Descision Tree has correctly classified 326 clients correctly and 193 client wrong.We will see how the accuracies of other models and ensemble models perform for comparison between the models"
   ]
  },
  {
   "cell_type": "code",
   "execution_count": 217,
   "metadata": {},
   "outputs": [
    {
     "name": "stdout",
     "output_type": "stream",
     "text": [
      "Model Accuracy on Test Data : 0.89435098008952\n",
      "Model Recall on Test Data : 0.21171770972037285\n",
      "Model Precision on Test Data: 0.6322067594433399\n",
      "Model f1 score on Test Data: 0.31720698254364094\n"
     ]
    }
   ],
   "source": [
    "from sklearn import metrics\n",
    "\n",
    "print('Model Accuracy on Test Data :',metrics.accuracy_score(y_test , y_predict))\n",
    "\n",
    "print('Model Recall on Test Data :',metrics.recall_score(y_test , y_predict))\n",
    "\n",
    "print('Model Precision on Test Data:',metrics.precision_score(y_test , y_predict))\n",
    "\n",
    "print('Model f1 score on Test Data:',metrics.f1_score(y_test , y_predict))"
   ]
  },
  {
   "cell_type": "code",
   "execution_count": 218,
   "metadata": {},
   "outputs": [
    {
     "name": "stdout",
     "output_type": "stream",
     "text": [
      "                Imp\n",
      "age        0.108247\n",
      "job        0.001662\n",
      "marital    0.017156\n",
      "education  0.003610\n",
      "default    0.000000\n",
      "balance    0.005151\n",
      "housing    0.057779\n",
      "loan       0.000000\n",
      "day        0.012366\n",
      "month      0.297211\n",
      "campaign   0.007783\n",
      "pdays      0.050824\n",
      "previous   0.004218\n",
      "poutcome   0.433993\n"
     ]
    }
   ],
   "source": [
    "print (pd.DataFrame(dTree.feature_importances_, columns = [\"Imp\"], index = x_train.columns))"
   ]
  },
  {
   "cell_type": "markdown",
   "metadata": {},
   "source": [
    "# Bagging Classifier"
   ]
  },
  {
   "cell_type": "code",
   "execution_count": 219,
   "metadata": {},
   "outputs": [
    {
     "name": "stdout",
     "output_type": "stream",
     "text": [
      "\n",
      "\n",
      "Number of estimators = 10\n",
      "Model Accuracy on Test Data : 0.8961259453619386\n",
      "Model Recall on Test Data : 0.1744340878828229\n",
      "\n",
      "\n",
      "Number of estimators = 15\n",
      "Model Accuracy on Test Data : 0.8962802901682358\n",
      "Model Recall on Test Data : 0.1810918774966711\n",
      "\n",
      "\n",
      "Number of estimators = 20\n",
      "Model Accuracy on Test Data : 0.8968204969902763\n",
      "Model Recall on Test Data : 0.18575233022636484\n",
      "\n",
      "\n",
      "Number of estimators = 25\n",
      "Model Accuracy on Test Data : 0.8970520141997221\n",
      "Model Recall on Test Data : 0.18841544607190414\n",
      "\n",
      "\n",
      "Number of estimators = 30\n",
      "Model Accuracy on Test Data : 0.8969748417965735\n",
      "Model Recall on Test Data : 0.19241011984021306\n",
      "\n",
      "\n",
      "Number of estimators = 35\n",
      "Model Accuracy on Test Data : 0.8969748417965735\n",
      "Model Recall on Test Data : 0.18908122503328895\n",
      "\n",
      "\n",
      "Number of estimators = 40\n",
      "Model Accuracy on Test Data : 0.8970520141997221\n",
      "Model Recall on Test Data : 0.19174434087882822\n",
      "\n",
      "\n",
      "Number of estimators = 45\n",
      "Model Accuracy on Test Data : 0.8968204969902763\n",
      "Model Recall on Test Data : 0.18974700399467376\n",
      "\n",
      "\n",
      "Number of estimators = 50\n",
      "Model Accuracy on Test Data : 0.8971291866028708\n",
      "Model Recall on Test Data : 0.1904127829560586\n",
      "\n",
      "\n",
      "Number of estimators = 55\n",
      "Model Accuracy on Test Data : 0.8972835314091681\n",
      "Model Recall on Test Data : 0.19307589880159787\n",
      "\n",
      "\n",
      "Number of estimators = 60\n",
      "Model Accuracy on Test Data : 0.8968976693934249\n",
      "Model Recall on Test Data : 0.18974700399467376\n",
      "\n",
      "\n",
      "Number of estimators = 65\n",
      "Model Accuracy on Test Data : 0.896666152183979\n",
      "Model Recall on Test Data : 0.18908122503328895\n",
      "\n",
      "\n",
      "Number of estimators = 70\n",
      "Model Accuracy on Test Data : 0.8968976693934249\n",
      "Model Recall on Test Data : 0.18841544607190414\n",
      "\n",
      "\n",
      "Number of estimators = 75\n",
      "Model Accuracy on Test Data : 0.8965889797808304\n",
      "Model Recall on Test Data : 0.18908122503328895\n"
     ]
    }
   ],
   "source": [
    "from sklearn.ensemble import BaggingClassifier\n",
    "for i in range(10,80,5):\n",
    "    bgcl = BaggingClassifier(base_estimator=dTree, n_estimators=i,random_state=1)\n",
    "\n",
    "    bgcl = bgcl.fit(x_train, y_train)\n",
    "\n",
    "    y_predict = bgcl.predict(x_test)\n",
    "    print('\\n')\n",
    "    print('Number of estimators =',i)\n",
    "    print('Model Accuracy on Test Data :',bgcl.score(x_test,y_test))\n",
    "    print('Model Recall on Test Data :',metrics.recall_score(y_test , y_predict))\n"
   ]
  },
  {
   "cell_type": "markdown",
   "metadata": {},
   "source": [
    "The Bagging Classifier with Descision Tree as the Classifier seems to be performing the best when the number of estimators is between 25 and 35.Hence,we will further investigate into the same in order to obtain optimum accuracies"
   ]
  },
  {
   "cell_type": "code",
   "execution_count": 220,
   "metadata": {},
   "outputs": [
    {
     "name": "stdout",
     "output_type": "stream",
     "text": [
      "\n",
      "\n",
      "Number of estimators = 25\n",
      "Model Accuracy on Test Data : 0.8970520141997221\n",
      "Model Recall on Test Data : 0.18841544607190414\n",
      "\n",
      "\n",
      "Number of estimators = 26\n",
      "Model Accuracy on Test Data : 0.8969748417965735\n",
      "Model Recall on Test Data : 0.1877496671105193\n",
      "\n",
      "\n",
      "Number of estimators = 27\n",
      "Model Accuracy on Test Data : 0.8967433245871277\n",
      "Model Recall on Test Data : 0.1877496671105193\n",
      "\n",
      "\n",
      "Number of estimators = 28\n",
      "Model Accuracy on Test Data : 0.8968976693934249\n",
      "Model Recall on Test Data : 0.18974700399467376\n",
      "\n",
      "\n",
      "Number of estimators = 29\n",
      "Model Accuracy on Test Data : 0.8968976693934249\n",
      "Model Recall on Test Data : 0.1904127829560586\n",
      "\n",
      "\n",
      "Number of estimators = 30\n",
      "Model Accuracy on Test Data : 0.8969748417965735\n",
      "Model Recall on Test Data : 0.19241011984021306\n",
      "\n",
      "\n",
      "Number of estimators = 31\n",
      "Model Accuracy on Test Data : 0.8967433245871277\n",
      "Model Recall on Test Data : 0.18974700399467376\n",
      "\n",
      "\n",
      "Number of estimators = 32\n",
      "Model Accuracy on Test Data : 0.8964346349745331\n",
      "Model Recall on Test Data : 0.18908122503328895\n",
      "\n",
      "\n",
      "Number of estimators = 33\n",
      "Model Accuracy on Test Data : 0.8969748417965735\n",
      "Model Recall on Test Data : 0.18908122503328895\n",
      "\n",
      "\n",
      "Number of estimators = 34\n",
      "Model Accuracy on Test Data : 0.8969748417965735\n",
      "Model Recall on Test Data : 0.19241011984021306\n"
     ]
    }
   ],
   "source": [
    "from sklearn.ensemble import BaggingClassifier\n",
    "for i in range(25,35,1):\n",
    "    bgcl = BaggingClassifier(base_estimator=dTree, n_estimators=i,random_state=1)\n",
    "\n",
    "    bgcl = bgcl.fit(x_train, y_train)\n",
    "\n",
    "    y_predict = bgcl.predict(x_test)\n",
    "    print('\\n')\n",
    "    print('Number of estimators =',i)\n",
    "    print('Model Accuracy on Test Data :',bgcl.score(x_test,y_test))\n",
    "    print('Model Recall on Test Data :',metrics.recall_score(y_test , y_predict))"
   ]
  },
  {
   "cell_type": "markdown",
   "metadata": {},
   "source": [
    "The optimum result in accuracy and recall is obtained when the number of estimators = 30."
   ]
  },
  {
   "cell_type": "code",
   "execution_count": 221,
   "metadata": {},
   "outputs": [
    {
     "name": "stdout",
     "output_type": "stream",
     "text": [
      "Model Accuracy on Test Data : 0.8969748417965735\n",
      "Model Recall on Test Data : 0.19241011984021306\n"
     ]
    }
   ],
   "source": [
    "bgcl = BaggingClassifier(base_estimator=dTree, n_estimators=30,random_state=1)\n",
    "    \n",
    "\n",
    "bgcl = bgcl.fit(x_train, y_train)\n",
    "\n",
    "y_predict = bgcl.predict(x_test)\n",
    "\n",
    "print('Model Accuracy on Test Data :',bgcl.score(x_test,y_test))\n",
    "print('Model Recall on Test Data :',metrics.recall_score(y_test , y_predict))"
   ]
  },
  {
   "cell_type": "code",
   "execution_count": 222,
   "metadata": {},
   "outputs": [
    {
     "data": {
      "text/html": [
       "<div>\n",
       "<style scoped>\n",
       "    .dataframe tbody tr th:only-of-type {\n",
       "        vertical-align: middle;\n",
       "    }\n",
       "\n",
       "    .dataframe tbody tr th {\n",
       "        vertical-align: top;\n",
       "    }\n",
       "\n",
       "    .dataframe thead th {\n",
       "        text-align: right;\n",
       "    }\n",
       "</style>\n",
       "<table border=\"1\" class=\"dataframe\">\n",
       "  <thead>\n",
       "    <tr style=\"text-align: right;\">\n",
       "      <th></th>\n",
       "      <th>No</th>\n",
       "      <th>Yes</th>\n",
       "    </tr>\n",
       "  </thead>\n",
       "  <tbody>\n",
       "    <tr>\n",
       "      <td>Predict No</td>\n",
       "      <td>11334</td>\n",
       "      <td>1213</td>\n",
       "    </tr>\n",
       "    <tr>\n",
       "      <td>Predict Yes</td>\n",
       "      <td>122</td>\n",
       "      <td>289</td>\n",
       "    </tr>\n",
       "  </tbody>\n",
       "</table>\n",
       "</div>"
      ],
      "text/plain": [
       "                No   Yes\n",
       "Predict No   11334  1213\n",
       "Predict Yes    122   289"
      ]
     },
     "execution_count": 222,
     "metadata": {},
     "output_type": "execute_result"
    }
   ],
   "source": [
    "cm=metrics.confusion_matrix(y_test, y_predict,labels=[0, 1])\n",
    "\n",
    "df_cm = pd.DataFrame(cm, index = [i for i in [\"No\",\"Yes\"]],\n",
    "                  columns = [i for i in [\"Predict No\",\"Predict Yes\"]])\n",
    "\n",
    "df_cm.T"
   ]
  },
  {
   "cell_type": "markdown",
   "metadata": {},
   "source": [
    "It can  be seen that out of the classified client,301 clients are correctly classified and 117 clients are wrongly clssified.Thus using a bagging classifier along with a Descision Tree a the base classifier.We have seen that it performs worse than the base classfier.It may be so that in some cases the base classifier will perform better compared to the bagging classifier.It probably depends on the dataset and kind of classifier.Further investigation into the same can lead to better outcomes."
   ]
  },
  {
   "cell_type": "code",
   "execution_count": 223,
   "metadata": {},
   "outputs": [
    {
     "name": "stdout",
     "output_type": "stream",
     "text": [
      "Model Accuracy on Test Data : 0.8969748417965735\n",
      "Model Recall on Test Data : 0.19241011984021306\n",
      "Model Precision on Test Data: 0.7031630170316302\n",
      "Model f1 score on Test Data: 0.30214323052796654\n"
     ]
    }
   ],
   "source": [
    "from sklearn import metrics\n",
    "\n",
    "print('Model Accuracy on Test Data :',metrics.accuracy_score(y_test , y_predict))\n",
    "\n",
    "print('Model Recall on Test Data :',metrics.recall_score(y_test , y_predict))\n",
    "\n",
    "print('Model Precision on Test Data:',metrics.precision_score(y_test , y_predict))\n",
    "\n",
    "print('Model f1 score on Test Data:',metrics.f1_score(y_test , y_predict))"
   ]
  },
  {
   "cell_type": "markdown",
   "metadata": {},
   "source": [
    "# Random Forest Classifier"
   ]
  },
  {
   "cell_type": "code",
   "execution_count": 224,
   "metadata": {},
   "outputs": [
    {
     "name": "stdout",
     "output_type": "stream",
     "text": [
      "\n",
      "\n",
      "For Number of estimators =  10\n",
      "Model Accuracy on Test Data : 0.8900293255131965\n",
      "Model Recall on Test Data : 0.2003994673768309\n",
      "\n",
      "\n",
      "For Number of estimators =  15\n",
      "Model Accuracy on Test Data : 0.8897206359006019\n",
      "Model Recall on Test Data : 0.22902796271637815\n",
      "\n",
      "\n",
      "For Number of estimators =  20\n",
      "Model Accuracy on Test Data : 0.8918814631887637\n",
      "Model Recall on Test Data : 0.2103861517976032\n",
      "\n",
      "\n",
      "For Number of estimators =  25\n",
      "Model Accuracy on Test Data : 0.8925760148171014\n",
      "Model Recall on Test Data : 0.2270306258322237\n",
      "\n",
      "\n",
      "For Number of estimators =  30\n",
      "Model Accuracy on Test Data : 0.8940422904769254\n",
      "Model Recall on Test Data : 0.21904127829560585\n",
      "\n",
      "\n",
      "For Number of estimators =  35\n",
      "Model Accuracy on Test Data : 0.8940422904769254\n",
      "Model Recall on Test Data : 0.23501997336884153\n",
      "\n",
      "\n",
      "For Number of estimators =  40\n",
      "Model Accuracy on Test Data : 0.894119462880074\n",
      "Model Recall on Test Data : 0.2237017310252996\n",
      "\n",
      "\n",
      "For Number of estimators =  45\n",
      "Model Accuracy on Test Data : 0.8931162216391418\n",
      "Model Recall on Test Data : 0.229693741677763\n",
      "\n",
      "\n",
      "For Number of estimators =  50\n",
      "Model Accuracy on Test Data : 0.8942738076863713\n",
      "Model Recall on Test Data : 0.2270306258322237\n"
     ]
    }
   ],
   "source": [
    "from sklearn.ensemble import RandomForestClassifier\n",
    "from sklearn import metrics\n",
    "\n",
    "for i in range(10,55,5):\n",
    "    rfcl = RandomForestClassifier(n_estimators = i,criterion='entropy', random_state=1,max_features='sqrt')\n",
    "    rfcl = rfcl.fit(x_train, y_train)\n",
    "    print(\"\\n\")\n",
    "    print(\"For Number of estimators = \",i)\n",
    "    y_predict = rfcl.predict(x_test)\n",
    "    print('Model Accuracy on Test Data :',rfcl.score(x_test, y_test))\n",
    "    print('Model Recall on Test Data :',metrics.recall_score(y_test , y_predict))"
   ]
  },
  {
   "cell_type": "code",
   "execution_count": 225,
   "metadata": {},
   "outputs": [
    {
     "name": "stdout",
     "output_type": "stream",
     "text": [
      "\n",
      "\n",
      "For Number of estimators =  10\n",
      "Model Accuracy on Test Data : 0.8908782219478315\n",
      "Model Recall on Test Data : 0.19241011984021306\n",
      "\n",
      "\n",
      "For Number of estimators =  15\n",
      "Model Accuracy on Test Data : 0.8922673252045069\n",
      "Model Recall on Test Data : 0.237017310252996\n",
      "\n",
      "\n",
      "For Number of estimators =  20\n",
      "Model Accuracy on Test Data : 0.8941966352832227\n",
      "Model Recall on Test Data : 0.2210386151797603\n",
      "\n",
      "\n",
      "For Number of estimators =  25\n",
      "Model Accuracy on Test Data : 0.8928075320265473\n",
      "Model Recall on Test Data : 0.24101198402130491\n",
      "\n",
      "\n",
      "For Number of estimators =  30\n",
      "Model Accuracy on Test Data : 0.8931933940422905\n",
      "Model Recall on Test Data : 0.2210386151797603\n",
      "\n",
      "\n",
      "For Number of estimators =  35\n",
      "Model Accuracy on Test Data : 0.8944281524926686\n",
      "Model Recall on Test Data : 0.23768308921438083\n",
      "\n",
      "\n",
      "For Number of estimators =  40\n",
      "Model Accuracy on Test Data : 0.8938879456706282\n",
      "Model Recall on Test Data : 0.22769640479360853\n",
      "\n",
      "\n",
      "For Number of estimators =  45\n",
      "Model Accuracy on Test Data : 0.894119462880074\n",
      "Model Recall on Test Data : 0.237017310252996\n",
      "\n",
      "\n",
      "For Number of estimators =  50\n",
      "Model Accuracy on Test Data : 0.89435098008952\n",
      "Model Recall on Test Data : 0.2310252996005326\n"
     ]
    }
   ],
   "source": [
    "for i in range(10,55,5):\n",
    "    rfcl = RandomForestClassifier(n_estimators = i,criterion='gini', random_state=1,max_features='sqrt')\n",
    "    rfcl = rfcl.fit(x_train, y_train)\n",
    "    print(\"\\n\")\n",
    "    print(\"For Number of estimators = \",i)\n",
    "    y_predict = rfcl.predict(x_test)\n",
    "    print('Model Accuracy on Test Data :',rfcl.score(x_test, y_test))\n",
    "    print('Model Recall on Test Data :',metrics.recall_score(y_test , y_predict))"
   ]
  },
  {
   "cell_type": "markdown",
   "metadata": {},
   "source": [
    "It can be seen that higher accuracies are obtained with the entropy criterion rather than the gini criterion"
   ]
  },
  {
   "cell_type": "markdown",
   "metadata": {},
   "source": [
    "It can be seen that keeping max_features = 'srqt',as this is a classification problem it can be observed that the peak accuracy in train data occurs around 10 to 25 with entropy criterion.We will have to analyse this range more for obtaining better accuracies"
   ]
  },
  {
   "cell_type": "code",
   "execution_count": 226,
   "metadata": {},
   "outputs": [
    {
     "name": "stdout",
     "output_type": "stream",
     "text": [
      "\n",
      "\n",
      "For Number of estimators =  10\n",
      "Model Accuracy on Test Data : 0.8900293255131965\n",
      "Model Recall on Test Data : 0.2003994673768309\n",
      "\n",
      "\n",
      "For Number of estimators =  11\n",
      "Model Accuracy on Test Data : 0.8881771878376292\n",
      "Model Recall on Test Data : 0.23568575233022637\n",
      "\n",
      "\n",
      "For Number of estimators =  12\n",
      "Model Accuracy on Test Data : 0.8906467047383856\n",
      "Model Recall on Test Data : 0.20306258322237017\n",
      "\n",
      "\n",
      "For Number of estimators =  13\n",
      "Model Accuracy on Test Data : 0.888871739465967\n",
      "Model Recall on Test Data : 0.23635153129161118\n",
      "\n",
      "\n",
      "For Number of estimators =  14\n",
      "Model Accuracy on Test Data : 0.8906467047383856\n",
      "Model Recall on Test Data : 0.2010652463382157\n",
      "\n",
      "\n",
      "For Number of estimators =  15\n",
      "Model Accuracy on Test Data : 0.8897206359006019\n",
      "Model Recall on Test Data : 0.22902796271637815\n",
      "\n",
      "\n",
      "For Number of estimators =  16\n",
      "Model Accuracy on Test Data : 0.8919586355919124\n",
      "Model Recall on Test Data : 0.20239680426098536\n",
      "\n",
      "\n",
      "For Number of estimators =  17\n",
      "Model Accuracy on Test Data : 0.8911097391572773\n",
      "Model Recall on Test Data : 0.229693741677763\n",
      "\n",
      "\n",
      "For Number of estimators =  18\n",
      "Model Accuracy on Test Data : 0.8918042907856151\n",
      "Model Recall on Test Data : 0.20639147802929428\n",
      "\n",
      "\n",
      "For Number of estimators =  19\n",
      "Model Accuracy on Test Data : 0.8914956011730205\n",
      "Model Recall on Test Data : 0.2310252996005326\n",
      "\n",
      "\n",
      "For Number of estimators =  20\n",
      "Model Accuracy on Test Data : 0.8918814631887637\n",
      "Model Recall on Test Data : 0.2103861517976032\n",
      "\n",
      "\n",
      "For Number of estimators =  21\n",
      "Model Accuracy on Test Data : 0.8914956011730205\n",
      "Model Recall on Test Data : 0.22836218375499334\n",
      "\n",
      "\n",
      "For Number of estimators =  22\n",
      "Model Accuracy on Test Data : 0.8922673252045069\n",
      "Model Recall on Test Data : 0.20772303595206393\n",
      "\n",
      "\n",
      "For Number of estimators =  23\n",
      "Model Accuracy on Test Data : 0.8908010495446829\n",
      "Model Recall on Test Data : 0.2197070572569907\n",
      "\n",
      "\n",
      "For Number of estimators =  24\n",
      "Model Accuracy on Test Data : 0.8927303596233986\n",
      "Model Recall on Test Data : 0.211051930758988\n",
      "\n",
      "\n",
      "For Number of estimators =  25\n",
      "Model Accuracy on Test Data : 0.8925760148171014\n",
      "Model Recall on Test Data : 0.2270306258322237\n"
     ]
    }
   ],
   "source": [
    "for i in range(10,26):\n",
    "    rfcl = RandomForestClassifier(n_estimators = i,criterion='entropy', random_state=1,max_features='sqrt')\n",
    "    rfcl = rfcl.fit(x_train, y_train)\n",
    "    print(\"\\n\")\n",
    "    print(\"For Number of estimators = \",i)\n",
    "    y_predict = rfcl.predict(x_test)\n",
    "    print('Model Accuracy on Test Data :',rfcl.score(x_test, y_test))\n",
    "    print('Model Recall on Test Data :',metrics.recall_score(y_test , y_predict))"
   ]
  },
  {
   "cell_type": "code",
   "execution_count": 227,
   "metadata": {},
   "outputs": [
    {
     "name": "stdout",
     "output_type": "stream",
     "text": [
      "Model Accuracy on Train Data : 0.9964279808169341\n",
      "Model Accuracy on Test Data : 0.8914956011730205\n"
     ]
    }
   ],
   "source": [
    "rfcl = RandomForestClassifier(n_estimators = 21,criterion='entropy', random_state=1,max_features='sqrt')\n",
    "rfcl = rfcl.fit(x_train, y_train)\n",
    "print('Model Accuracy on Train Data :',rfcl.score(x_train, y_train))\n",
    "y_predict = rfcl.predict(x_test)\n",
    "print('Model Accuracy on Test Data :',rfcl.score(x_test, y_test))\n"
   ]
  },
  {
   "cell_type": "code",
   "execution_count": 228,
   "metadata": {},
   "outputs": [
    {
     "data": {
      "text/html": [
       "<div>\n",
       "<style scoped>\n",
       "    .dataframe tbody tr th:only-of-type {\n",
       "        vertical-align: middle;\n",
       "    }\n",
       "\n",
       "    .dataframe tbody tr th {\n",
       "        vertical-align: top;\n",
       "    }\n",
       "\n",
       "    .dataframe thead th {\n",
       "        text-align: right;\n",
       "    }\n",
       "</style>\n",
       "<table border=\"1\" class=\"dataframe\">\n",
       "  <thead>\n",
       "    <tr style=\"text-align: right;\">\n",
       "      <th></th>\n",
       "      <th>No</th>\n",
       "      <th>Yes</th>\n",
       "    </tr>\n",
       "  </thead>\n",
       "  <tbody>\n",
       "    <tr>\n",
       "      <td>Predict No</td>\n",
       "      <td>11209</td>\n",
       "      <td>1159</td>\n",
       "    </tr>\n",
       "    <tr>\n",
       "      <td>Predict Yes</td>\n",
       "      <td>247</td>\n",
       "      <td>343</td>\n",
       "    </tr>\n",
       "  </tbody>\n",
       "</table>\n",
       "</div>"
      ],
      "text/plain": [
       "                No   Yes\n",
       "Predict No   11209  1159\n",
       "Predict Yes    247   343"
      ]
     },
     "execution_count": 228,
     "metadata": {},
     "output_type": "execute_result"
    }
   ],
   "source": [
    "cm=metrics.confusion_matrix(y_test, y_predict,labels=[0, 1])\n",
    "\n",
    "df_cm = pd.DataFrame(cm, index = [i for i in [\"No\",\"Yes\"]],\n",
    "                  columns = [i for i in [\"Predict No\",\"Predict Yes\"]])\n",
    "df_cm.T"
   ]
  },
  {
   "cell_type": "markdown",
   "metadata": {},
   "source": [
    "Out of the clients that the model classifies to subscribe for the term deposit,346 were correctly subscribed and 246 were wrongly subscribed.It correctly predicts a larger number of clients compared to the descision tree in process wrongly classifying a greater number of client.However,taking into account the slight increase in number of wrongly classified clients.I would rate it as a better model than the descision tree"
   ]
  },
  {
   "cell_type": "code",
   "execution_count": 229,
   "metadata": {},
   "outputs": [
    {
     "name": "stdout",
     "output_type": "stream",
     "text": [
      "Model Accuracy on Test Data : 0.8914956011730205\n",
      "Model Recall on Test Data : 0.22836218375499334\n",
      "Model Precision on Test Data: 0.5813559322033899\n",
      "Model f1 score on Test Data: 0.32791586998087957\n"
     ]
    }
   ],
   "source": [
    "from sklearn import metrics\n",
    "\n",
    "print('Model Accuracy on Test Data :',metrics.accuracy_score(y_test , y_predict))\n",
    "\n",
    "print('Model Recall on Test Data :',metrics.recall_score(y_test , y_predict))\n",
    "\n",
    "print('Model Precision on Test Data:',metrics.precision_score(y_test , y_predict))\n",
    "\n",
    "print('Model f1 score on Test Data:',metrics.f1_score(y_test , y_predict))"
   ]
  },
  {
   "cell_type": "markdown",
   "metadata": {},
   "source": [
    "# Gradient Boosting"
   ]
  },
  {
   "cell_type": "code",
   "execution_count": 230,
   "metadata": {},
   "outputs": [
    {
     "name": "stdout",
     "output_type": "stream",
     "text": [
      "\n",
      "\n",
      "i= 10\n",
      "Model Accuracy on Test Data: 0.89095539435098\n",
      "Model Recall on Test Data: 0.08921438082556592\n",
      "\n",
      "\n",
      "i= 15\n",
      "Model Accuracy on Test Data: 0.8955085661367495\n",
      "Model Recall on Test Data: 0.14713715046604528\n",
      "\n",
      "\n",
      "i= 20\n",
      "Model Accuracy on Test Data: 0.8951227041210064\n",
      "Model Recall on Test Data: 0.16844207723035953\n",
      "\n",
      "\n",
      "i= 25\n",
      "Model Accuracy on Test Data: 0.8948140145084118\n",
      "Model Recall on Test Data: 0.1810918774966711\n",
      "\n",
      "\n",
      "i= 30\n",
      "Model Accuracy on Test Data: 0.8948140145084118\n",
      "Model Recall on Test Data: 0.18641810918774968\n",
      "\n",
      "\n",
      "i= 35\n",
      "Model Accuracy on Test Data: 0.89435098008952\n",
      "Model Recall on Test Data: 0.19307589880159787\n",
      "\n",
      "\n",
      "i= 40\n",
      "Model Accuracy on Test Data: 0.8934249112517364\n",
      "Model Recall on Test Data: 0.19440745672436752\n",
      "\n",
      "\n",
      "i= 45\n",
      "Model Accuracy on Test Data: 0.8932705664454391\n",
      "Model Recall on Test Data: 0.1977363515312916\n",
      "\n",
      "\n",
      "i= 50\n",
      "Model Accuracy on Test Data: 0.8938879456706282\n",
      "Model Recall on Test Data: 0.20772303595206393\n",
      "\n",
      "\n",
      "i= 55\n",
      "Model Accuracy on Test Data: 0.894119462880074\n",
      "Model Recall on Test Data: 0.21238348868175766\n",
      "\n",
      "\n",
      "i= 60\n",
      "Model Accuracy on Test Data: 0.894119462880074\n",
      "Model Recall on Test Data: 0.21571238348868177\n",
      "\n",
      "\n",
      "i= 65\n",
      "Model Accuracy on Test Data: 0.8942738076863713\n",
      "Model Recall on Test Data: 0.21637816245006658\n",
      "\n",
      "\n",
      "i= 70\n",
      "Model Accuracy on Test Data: 0.8941966352832227\n",
      "Model Recall on Test Data: 0.21837549933422104\n",
      "\n",
      "\n",
      "i= 75\n",
      "Model Accuracy on Test Data: 0.894119462880074\n",
      "Model Recall on Test Data: 0.21904127829560585\n"
     ]
    }
   ],
   "source": [
    "from sklearn.ensemble import GradientBoostingClassifier\n",
    "for i in range(10,80,5):\n",
    "    gbcl = GradientBoostingClassifier(n_estimators = i,random_state=1)\n",
    "    gbcl = gbcl.fit(x_train, y_train)\n",
    "    y_predict = gbcl.predict(x_test)\n",
    "    print(\"\\n\")\n",
    "    print('i=',i)\n",
    "    print('Model Accuracy on Test Data:',gbcl.score(x_test, y_test))\n",
    "    print('Model Recall on Test Data:',metrics.recall_score(y_test , y_predict))"
   ]
  },
  {
   "cell_type": "markdown",
   "metadata": {},
   "source": [
    "Best Model Accuracy along with Recall was obtained around 50 to 65"
   ]
  },
  {
   "cell_type": "code",
   "execution_count": 231,
   "metadata": {},
   "outputs": [
    {
     "name": "stdout",
     "output_type": "stream",
     "text": [
      "\n",
      "\n",
      "i= 50\n",
      "Model Accuracy on Test Data: 0.8938879456706282\n",
      "Model Recall on Test Data: 0.20772303595206393\n",
      "\n",
      "\n",
      "i= 51\n",
      "Model Accuracy on Test Data: 0.8938107732674796\n",
      "Model Recall on Test Data: 0.20772303595206393\n",
      "\n",
      "\n",
      "i= 52\n",
      "Model Accuracy on Test Data: 0.8940422904769254\n",
      "Model Recall on Test Data: 0.2103861517976032\n",
      "\n",
      "\n",
      "i= 53\n",
      "Model Accuracy on Test Data: 0.8941966352832227\n",
      "Model Recall on Test Data: 0.211051930758988\n",
      "\n",
      "\n",
      "i= 54\n",
      "Model Accuracy on Test Data: 0.8940422904769254\n",
      "Model Recall on Test Data: 0.211051930758988\n",
      "\n",
      "\n",
      "i= 55\n",
      "Model Accuracy on Test Data: 0.894119462880074\n",
      "Model Recall on Test Data: 0.21238348868175766\n",
      "\n",
      "\n",
      "i= 56\n",
      "Model Accuracy on Test Data: 0.8942738076863713\n",
      "Model Recall on Test Data: 0.21571238348868177\n",
      "\n",
      "\n",
      "i= 57\n",
      "Model Accuracy on Test Data: 0.8941966352832227\n",
      "Model Recall on Test Data: 0.21504660452729693\n",
      "\n",
      "\n",
      "i= 58\n",
      "Model Accuracy on Test Data: 0.8942738076863713\n",
      "Model Recall on Test Data: 0.21504660452729693\n",
      "\n",
      "\n",
      "i= 59\n",
      "Model Accuracy on Test Data: 0.8942738076863713\n",
      "Model Recall on Test Data: 0.21637816245006658\n",
      "\n",
      "\n",
      "i= 60\n",
      "Model Accuracy on Test Data: 0.894119462880074\n",
      "Model Recall on Test Data: 0.21571238348868177\n",
      "\n",
      "\n",
      "i= 61\n",
      "Model Accuracy on Test Data: 0.89435098008952\n",
      "Model Recall on Test Data: 0.21571238348868177\n",
      "\n",
      "\n",
      "i= 62\n",
      "Model Accuracy on Test Data: 0.89435098008952\n",
      "Model Recall on Test Data: 0.21571238348868177\n",
      "\n",
      "\n",
      "i= 63\n",
      "Model Accuracy on Test Data: 0.8940422904769254\n",
      "Model Recall on Test Data: 0.21504660452729693\n",
      "\n",
      "\n",
      "i= 64\n",
      "Model Accuracy on Test Data: 0.8939651180737768\n",
      "Model Recall on Test Data: 0.21637816245006658\n"
     ]
    }
   ],
   "source": [
    "for i in range(50,65,1):\n",
    "    gbcl = GradientBoostingClassifier(n_estimators = i,random_state=1)\n",
    "    gbcl = gbcl.fit(x_train, y_train)\n",
    "    y_predict = gbcl.predict(x_test)\n",
    "    print(\"\\n\")\n",
    "    print('i=',i)\n",
    "    print('Model Accuracy on Test Data:',gbcl.score(x_test, y_test))\n",
    "    print('Model Recall on Test Data:',metrics.recall_score(y_test , y_predict))"
   ]
  },
  {
   "cell_type": "markdown",
   "metadata": {},
   "source": [
    "Maximum Model Accuracy along with recall was obtained with number of estimator =54"
   ]
  },
  {
   "cell_type": "code",
   "execution_count": 232,
   "metadata": {},
   "outputs": [
    {
     "name": "stdout",
     "output_type": "stream",
     "text": [
      "Model Accuracy on Test Data: 0.8940422904769254\n"
     ]
    }
   ],
   "source": [
    "gbcl = GradientBoostingClassifier(n_estimators = 54,random_state=1)\n",
    "gbcl = gbcl.fit(x_train, y_train)\n",
    "y_predict_gbcl = gbcl.predict(x_test)\n",
    "print('Model Accuracy on Test Data:',gbcl.score(x_test, y_test))"
   ]
  },
  {
   "cell_type": "code",
   "execution_count": 233,
   "metadata": {},
   "outputs": [
    {
     "data": {
      "text/html": [
       "<div>\n",
       "<style scoped>\n",
       "    .dataframe tbody tr th:only-of-type {\n",
       "        vertical-align: middle;\n",
       "    }\n",
       "\n",
       "    .dataframe tbody tr th {\n",
       "        vertical-align: top;\n",
       "    }\n",
       "\n",
       "    .dataframe thead th {\n",
       "        text-align: right;\n",
       "    }\n",
       "</style>\n",
       "<table border=\"1\" class=\"dataframe\">\n",
       "  <thead>\n",
       "    <tr style=\"text-align: right;\">\n",
       "      <th></th>\n",
       "      <th>No</th>\n",
       "      <th>Yes</th>\n",
       "    </tr>\n",
       "  </thead>\n",
       "  <tbody>\n",
       "    <tr>\n",
       "      <td>Predict No</td>\n",
       "      <td>11259</td>\n",
       "      <td>1177</td>\n",
       "    </tr>\n",
       "    <tr>\n",
       "      <td>Predict Yes</td>\n",
       "      <td>197</td>\n",
       "      <td>325</td>\n",
       "    </tr>\n",
       "  </tbody>\n",
       "</table>\n",
       "</div>"
      ],
      "text/plain": [
       "                No   Yes\n",
       "Predict No   11259  1177\n",
       "Predict Yes    197   325"
      ]
     },
     "execution_count": 233,
     "metadata": {},
     "output_type": "execute_result"
    }
   ],
   "source": [
    "\n",
    "cm=metrics.confusion_matrix(y_test, y_predict,labels=[0, 1])\n",
    "\n",
    "df_cm = pd.DataFrame(cm, index = [i for i in [\"No\",\"Yes\"]],\n",
    "                  columns = [i for i in [\"Predict No\",\"Predict Yes\"]])\n",
    "\n",
    "df_cm.T"
   ]
  },
  {
   "cell_type": "markdown",
   "metadata": {},
   "source": [
    "Out of the clients that were classified to subscribe for the term deposit,323 client were correctly classified and 188  clients were wrongly classified.This model being an ensemble method failed to outperform the descision tree model.Hence,this ensemble method is not enough effective for this dataset."
   ]
  },
  {
   "cell_type": "code",
   "execution_count": 234,
   "metadata": {},
   "outputs": [
    {
     "name": "stdout",
     "output_type": "stream",
     "text": [
      "Model Accuracy on Test Data : 0.8939651180737768\n",
      "Model Recall on Test Data : 0.21637816245006658\n",
      "Model Precision on Test Data: 0.6226053639846744\n",
      "Model f1 score on Test Data: 0.3211462450592885\n"
     ]
    }
   ],
   "source": [
    "from sklearn import metrics\n",
    "\n",
    "print('Model Accuracy on Test Data :',metrics.accuracy_score(y_test , y_predict))\n",
    "\n",
    "print('Model Recall on Test Data :',metrics.recall_score(y_test , y_predict))\n",
    "\n",
    "print('Model Precision on Test Data:',metrics.precision_score(y_test , y_predict))\n",
    "\n",
    "print('Model f1 score on Test Data:',metrics.f1_score(y_test , y_predict))"
   ]
  },
  {
   "cell_type": "markdown",
   "metadata": {},
   "source": [
    "# AdaBoost Classifier with Default Estimator"
   ]
  },
  {
   "cell_type": "code",
   "execution_count": 235,
   "metadata": {},
   "outputs": [
    {
     "name": "stdout",
     "output_type": "stream",
     "text": [
      "\n",
      "\n",
      "i= 5\n",
      "Model Accuracy on Test Data : 0.8949683593147091\n",
      "Model Recall on Test Data : 0.1804260985352863\n",
      "\n",
      "\n",
      "i= 7\n",
      "Model Accuracy on Test Data : 0.8948911869115604\n",
      "Model Recall on Test Data : 0.17976031957390146\n",
      "\n",
      "\n",
      "i= 9\n",
      "Model Accuracy on Test Data : 0.89435098008952\n",
      "Model Recall on Test Data : 0.18908122503328895\n",
      "\n",
      "\n",
      "i= 11\n",
      "Model Accuracy on Test Data : 0.8925760148171014\n",
      "Model Recall on Test Data : 0.16378162450066577\n",
      "\n",
      "\n",
      "i= 13\n",
      "Model Accuracy on Test Data : 0.8910325667541287\n",
      "Model Recall on Test Data : 0.17576564580559254\n",
      "\n",
      "\n",
      "i= 15\n",
      "Model Accuracy on Test Data : 0.8908010495446829\n",
      "Model Recall on Test Data : 0.18375499334221038\n",
      "\n",
      "\n",
      "i= 17\n",
      "Model Accuracy on Test Data : 0.8927303596233986\n",
      "Model Recall on Test Data : 0.18242343541944075\n",
      "\n",
      "\n",
      "i= 19\n",
      "Model Accuracy on Test Data : 0.8912640839635746\n",
      "Model Recall on Test Data : 0.18175765645805592\n",
      "\n",
      "\n",
      "i= 21\n",
      "Model Accuracy on Test Data : 0.8916499459793178\n",
      "Model Recall on Test Data : 0.1810918774966711\n",
      "\n",
      "\n",
      "i= 23\n",
      "Model Accuracy on Test Data : 0.8919586355919124\n",
      "Model Recall on Test Data : 0.18308921438082557\n",
      "\n",
      "\n",
      "i= 25\n",
      "Model Accuracy on Test Data : 0.8919586355919124\n",
      "Model Recall on Test Data : 0.18508655126498003\n",
      "\n",
      "\n",
      "i= 27\n",
      "Model Accuracy on Test Data : 0.8921901528013583\n",
      "Model Recall on Test Data : 0.17376830892143807\n",
      "\n",
      "\n",
      "i= 29\n",
      "Model Accuracy on Test Data : 0.8925760148171014\n",
      "Model Recall on Test Data : 0.17643142476697737\n",
      "\n",
      "\n",
      "i= 31\n",
      "Model Accuracy on Test Data : 0.8924988424139527\n",
      "Model Recall on Test Data : 0.177762982689747\n",
      "\n",
      "\n",
      "i= 33\n",
      "Model Accuracy on Test Data : 0.8928075320265473\n",
      "Model Recall on Test Data : 0.17976031957390146\n",
      "\n",
      "\n",
      "i= 35\n",
      "Model Accuracy on Test Data : 0.8928847044296959\n",
      "Model Recall on Test Data : 0.18175765645805592\n",
      "\n",
      "\n",
      "i= 37\n",
      "Model Accuracy on Test Data : 0.8928847044296959\n",
      "Model Recall on Test Data : 0.18375499334221038\n",
      "\n",
      "\n",
      "i= 39\n",
      "Model Accuracy on Test Data : 0.8928847044296959\n",
      "Model Recall on Test Data : 0.18375499334221038\n",
      "\n",
      "\n",
      "i= 41\n",
      "Model Accuracy on Test Data : 0.8924988424139527\n",
      "Model Recall on Test Data : 0.18641810918774968\n",
      "\n",
      "\n",
      "i= 43\n",
      "Model Accuracy on Test Data : 0.8918042907856151\n",
      "Model Recall on Test Data : 0.18508655126498003\n",
      "\n",
      "\n",
      "i= 45\n",
      "Model Accuracy on Test Data : 0.8924988424139527\n",
      "Model Recall on Test Data : 0.18175765645805592\n",
      "\n",
      "\n",
      "i= 47\n",
      "Model Accuracy on Test Data : 0.8927303596233986\n",
      "Model Recall on Test Data : 0.18175765645805592\n",
      "\n",
      "\n",
      "i= 49\n",
      "Model Accuracy on Test Data : 0.8928075320265473\n",
      "Model Recall on Test Data : 0.18375499334221038\n"
     ]
    }
   ],
   "source": [
    "from sklearn.ensemble import AdaBoostClassifier\n",
    "for i in range(5,50,2):\n",
    "    abcl = AdaBoostClassifier(n_estimators=i, random_state=1)\n",
    "    abcl = abcl.fit(x_train, y_train)\n",
    "    y_predict = abcl.predict(x_test)\n",
    "    print(\"\\n\")\n",
    "    print('i=',i)\n",
    "    print('Model Accuracy on Test Data :',abcl.score(x_test , y_test))\n",
    "    print('Model Recall on Test Data :',metrics.recall_score(y_test , y_predict))"
   ]
  },
  {
   "cell_type": "code",
   "execution_count": 236,
   "metadata": {},
   "outputs": [
    {
     "name": "stdout",
     "output_type": "stream",
     "text": [
      "Model Accuracy on Test Data : 0.8949683593147091\n",
      "Model Recall on Test Data : 0.1804260985352863\n"
     ]
    }
   ],
   "source": [
    "abcl = AdaBoostClassifier(n_estimators=5, random_state=1)\n",
    "abcl = abcl.fit(x_train, y_train)\n",
    "y_predict = abcl.predict(x_test)\n",
    "\n",
    "print('Model Accuracy on Test Data :',abcl.score(x_test , y_test))\n",
    "print('Model Recall on Test Data :',metrics.recall_score(y_test , y_predict))"
   ]
  },
  {
   "cell_type": "code",
   "execution_count": 237,
   "metadata": {},
   "outputs": [
    {
     "data": {
      "text/html": [
       "<div>\n",
       "<style scoped>\n",
       "    .dataframe tbody tr th:only-of-type {\n",
       "        vertical-align: middle;\n",
       "    }\n",
       "\n",
       "    .dataframe tbody tr th {\n",
       "        vertical-align: top;\n",
       "    }\n",
       "\n",
       "    .dataframe thead th {\n",
       "        text-align: right;\n",
       "    }\n",
       "</style>\n",
       "<table border=\"1\" class=\"dataframe\">\n",
       "  <thead>\n",
       "    <tr style=\"text-align: right;\">\n",
       "      <th></th>\n",
       "      <th>No</th>\n",
       "      <th>Yes</th>\n",
       "    </tr>\n",
       "  </thead>\n",
       "  <tbody>\n",
       "    <tr>\n",
       "      <td>Predict No</td>\n",
       "      <td>11326</td>\n",
       "      <td>1231</td>\n",
       "    </tr>\n",
       "    <tr>\n",
       "      <td>Predict Yes</td>\n",
       "      <td>130</td>\n",
       "      <td>271</td>\n",
       "    </tr>\n",
       "  </tbody>\n",
       "</table>\n",
       "</div>"
      ],
      "text/plain": [
       "                No   Yes\n",
       "Predict No   11326  1231\n",
       "Predict Yes    130   271"
      ]
     },
     "execution_count": 237,
     "metadata": {},
     "output_type": "execute_result"
    }
   ],
   "source": [
    "cm=metrics.confusion_matrix(y_test, y_predict,labels=[0, 1])\n",
    "\n",
    "df_cm = pd.DataFrame(cm, index = [i for i in [\"No\",\"Yes\"]],\n",
    "                  columns = [i for i in [\"Predict No\",\"Predict Yes\"]])\n",
    "\n",
    "df_cm.T"
   ]
  },
  {
   "cell_type": "markdown",
   "metadata": {},
   "source": [
    "It underpeforms in comparison to other models in this particular dataset."
   ]
  },
  {
   "cell_type": "code",
   "execution_count": 238,
   "metadata": {},
   "outputs": [
    {
     "name": "stdout",
     "output_type": "stream",
     "text": [
      "Model Accuracy on Test Data : 0.8949683593147091\n",
      "Model Recall on Test Data : 0.1804260985352863\n",
      "Model Precision on Test Data: 0.6758104738154613\n",
      "Model f1 score on Test Data: 0.28481345244351025\n"
     ]
    }
   ],
   "source": [
    "from sklearn import metrics\n",
    "\n",
    "print('Model Accuracy on Test Data :',metrics.accuracy_score(y_test , y_predict))\n",
    "\n",
    "print('Model Recall on Test Data :',metrics.recall_score(y_test , y_predict))\n",
    "\n",
    "print('Model Precision on Test Data:',metrics.precision_score(y_test , y_predict))\n",
    "\n",
    "print('Model f1 score on Test Data:',metrics.f1_score(y_test , y_predict))"
   ]
  },
  {
   "cell_type": "code",
   "execution_count": 239,
   "metadata": {},
   "outputs": [],
   "source": [
    "#standardization of data\n",
    "from sklearn import preprocessing\n",
    "from sklearn.preprocessing import StandardScaler\n",
    "\n",
    "x_train = pd.DataFrame(StandardScaler().fit_transform(x_train))\n",
    "x_test = pd.DataFrame(StandardScaler().fit_transform(x_test))"
   ]
  },
  {
   "cell_type": "markdown",
   "metadata": {},
   "source": [
    "# KNN"
   ]
  },
  {
   "cell_type": "code",
   "execution_count": 240,
   "metadata": {},
   "outputs": [
    {
     "name": "stdout",
     "output_type": "stream",
     "text": [
      "\n",
      "\n",
      "n_neighbors= 3\n",
      "Model Accuracy on Test Data: 0.8799197407007254\n",
      "Model Recall on Test Data : 0.24300932090545938\n",
      "\n",
      "\n",
      "n_neighbors= 5\n",
      "Model Accuracy on Test Data: 0.8878684982250348\n",
      "Model Recall on Test Data : 0.21438082556591212\n",
      "\n",
      "\n",
      "n_neighbors= 7\n",
      "Model Accuracy on Test Data: 0.8910325667541287\n",
      "Model Recall on Test Data : 0.20639147802929428\n",
      "\n",
      "\n",
      "n_neighbors= 9\n",
      "Model Accuracy on Test Data: 0.8921901528013583\n",
      "Model Recall on Test Data : 0.2003994673768309\n",
      "\n",
      "\n",
      "n_neighbors= 11\n",
      "Model Accuracy on Test Data: 0.8921129803982096\n",
      "Model Recall on Test Data : 0.18442077230359522\n"
     ]
    }
   ],
   "source": [
    "# loading library\n",
    "from sklearn.neighbors import KNeighborsClassifier\n",
    "from sklearn.metrics import accuracy_score\n",
    "from sklearn.metrics import recall_score\n",
    "for i in range(3,13,2):\n",
    "    # instantiate learning model (k = i)\n",
    "    knn = KNeighborsClassifier(n_neighbors = i)\n",
    "\n",
    "    # fitting the model\n",
    "    knn.fit(x_train, y_train)\n",
    "\n",
    "    # predict the response\n",
    "    y_pred = knn.predict(x_test)\n",
    "    \n",
    "    # evaluate accuracy\n",
    "    print('\\n')\n",
    "    print('n_neighbors=',i)\n",
    "    print('Model Accuracy on Test Data:',accuracy_score(y_test, y_pred))\n",
    "    print('Model Recall on Test Data :',metrics.recall_score(y_test , y_pred))\n",
    "    "
   ]
  },
  {
   "cell_type": "markdown",
   "metadata": {},
   "source": [
    "The presence of a large number of data points undermines the efficacy of KNN to used as model for this set of data points.However,KNN performs reasonably well in recall at nearest neighbors n = 3 with a lesser amount of accuracy."
   ]
  },
  {
   "cell_type": "code",
   "execution_count": 241,
   "metadata": {},
   "outputs": [
    {
     "name": "stdout",
     "output_type": "stream",
     "text": [
      "Model Accuracy on Test Data: 0.8799197407007254\n",
      "Model Recall on Test Data : 0.24300932090545938\n"
     ]
    }
   ],
   "source": [
    "knn = KNeighborsClassifier(n_neighbors = 3)\n",
    "\n",
    "# fitting the model\n",
    "knn.fit(x_train, y_train)\n",
    "\n",
    "# predict the response\n",
    "y_pred = knn.predict(x_test)\n",
    "    \n",
    "# evaluate accuracy\n",
    "print('Model Accuracy on Test Data:',accuracy_score(y_test, y_pred))\n",
    "print('Model Recall on Test Data :',metrics.recall_score(y_test , y_pred))"
   ]
  },
  {
   "cell_type": "code",
   "execution_count": 242,
   "metadata": {},
   "outputs": [
    {
     "data": {
      "text/html": [
       "<div>\n",
       "<style scoped>\n",
       "    .dataframe tbody tr th:only-of-type {\n",
       "        vertical-align: middle;\n",
       "    }\n",
       "\n",
       "    .dataframe tbody tr th {\n",
       "        vertical-align: top;\n",
       "    }\n",
       "\n",
       "    .dataframe thead th {\n",
       "        text-align: right;\n",
       "    }\n",
       "</style>\n",
       "<table border=\"1\" class=\"dataframe\">\n",
       "  <thead>\n",
       "    <tr style=\"text-align: right;\">\n",
       "      <th></th>\n",
       "      <th>No</th>\n",
       "      <th>Yes</th>\n",
       "    </tr>\n",
       "  </thead>\n",
       "  <tbody>\n",
       "    <tr>\n",
       "      <td>Predict No</td>\n",
       "      <td>11037</td>\n",
       "      <td>1137</td>\n",
       "    </tr>\n",
       "    <tr>\n",
       "      <td>Predict Yes</td>\n",
       "      <td>419</td>\n",
       "      <td>365</td>\n",
       "    </tr>\n",
       "  </tbody>\n",
       "</table>\n",
       "</div>"
      ],
      "text/plain": [
       "                No   Yes\n",
       "Predict No   11037  1137\n",
       "Predict Yes    419   365"
      ]
     },
     "execution_count": 242,
     "metadata": {},
     "output_type": "execute_result"
    }
   ],
   "source": [
    "cm=metrics.confusion_matrix(y_test, y_pred,labels=[0, 1])\n",
    "\n",
    "df_cm = pd.DataFrame(cm, index = [i for i in [\"No\",\"Yes\"]],\n",
    "                  columns = [i for i in [\"Predict No\",\"Predict Yes\"]])\n",
    "\n",
    "df_cm.T"
   ]
  },
  {
   "cell_type": "markdown",
   "metadata": {},
   "source": [
    "Out of the clients that were predict to subscribe to the term deposit,374  clients were correctly classified while 419 clients were wrongly classified.It would be good if we could increase the efficacy of the system by the use of a bagging classifier."
   ]
  },
  {
   "cell_type": "code",
   "execution_count": 243,
   "metadata": {},
   "outputs": [
    {
     "name": "stdout",
     "output_type": "stream",
     "text": [
      "Model Accuracy on Test Data : 0.8799197407007254\n",
      "Model Recall on Test Data : 0.24300932090545938\n",
      "Model Precision on Test Data: 0.4655612244897959\n",
      "Model f1 score on Test Data: 0.3193350831146106\n"
     ]
    }
   ],
   "source": [
    "from sklearn import metrics\n",
    "\n",
    "print('Model Accuracy on Test Data :',metrics.accuracy_score(y_test , y_pred))\n",
    "\n",
    "print('Model Recall on Test Data :',metrics.recall_score(y_test , y_pred))\n",
    "\n",
    "print('Model Precision on Test Data:',metrics.precision_score(y_test , y_pred))\n",
    "\n",
    "print('Model f1 score on Test Data:',metrics.f1_score(y_test , y_pred))"
   ]
  },
  {
   "cell_type": "markdown",
   "metadata": {},
   "source": [
    "# Bagging Classifier with KNN"
   ]
  },
  {
   "cell_type": "code",
   "execution_count": 1,
   "metadata": {},
   "outputs": [
    {
     "ename": "NameError",
     "evalue": "name 'knn' is not defined",
     "output_type": "error",
     "traceback": [
      "\u001b[1;31m---------------------------------------------------------------------------\u001b[0m",
      "\u001b[1;31mNameError\u001b[0m                                 Traceback (most recent call last)",
      "\u001b[1;32m<ipython-input-1-6ea543cb2200>\u001b[0m in \u001b[0;36m<module>\u001b[1;34m\u001b[0m\n\u001b[0;32m      1\u001b[0m \u001b[1;32mfrom\u001b[0m \u001b[0msklearn\u001b[0m\u001b[1;33m.\u001b[0m\u001b[0mensemble\u001b[0m \u001b[1;32mimport\u001b[0m \u001b[0mBaggingClassifier\u001b[0m\u001b[1;33m\u001b[0m\u001b[1;33m\u001b[0m\u001b[0m\n\u001b[0;32m      2\u001b[0m \u001b[1;32mfor\u001b[0m \u001b[0mi\u001b[0m \u001b[1;32min\u001b[0m \u001b[0mrange\u001b[0m\u001b[1;33m(\u001b[0m\u001b[1;36m1\u001b[0m\u001b[1;33m,\u001b[0m\u001b[1;36m10\u001b[0m\u001b[1;33m)\u001b[0m\u001b[1;33m:\u001b[0m\u001b[1;33m\u001b[0m\u001b[1;33m\u001b[0m\u001b[0m\n\u001b[1;32m----> 3\u001b[1;33m     \u001b[0mbgcl\u001b[0m \u001b[1;33m=\u001b[0m \u001b[0mBaggingClassifier\u001b[0m\u001b[1;33m(\u001b[0m\u001b[0mbase_estimator\u001b[0m\u001b[1;33m=\u001b[0m\u001b[0mknn\u001b[0m\u001b[1;33m,\u001b[0m \u001b[0mn_estimators\u001b[0m\u001b[1;33m=\u001b[0m\u001b[0mi\u001b[0m\u001b[1;33m,\u001b[0m\u001b[0mrandom_state\u001b[0m\u001b[1;33m=\u001b[0m\u001b[1;36m1\u001b[0m\u001b[1;33m)\u001b[0m\u001b[1;33m\u001b[0m\u001b[1;33m\u001b[0m\u001b[0m\n\u001b[0m\u001b[0;32m      4\u001b[0m \u001b[1;33m\u001b[0m\u001b[0m\n\u001b[0;32m      5\u001b[0m     \u001b[0mbgcl\u001b[0m \u001b[1;33m=\u001b[0m \u001b[0mbgcl\u001b[0m\u001b[1;33m.\u001b[0m\u001b[0mfit\u001b[0m\u001b[1;33m(\u001b[0m\u001b[0mx_train\u001b[0m\u001b[1;33m,\u001b[0m \u001b[0my_train\u001b[0m\u001b[1;33m)\u001b[0m\u001b[1;33m\u001b[0m\u001b[1;33m\u001b[0m\u001b[0m\n",
      "\u001b[1;31mNameError\u001b[0m: name 'knn' is not defined"
     ]
    }
   ],
   "source": [
    "from sklearn.ensemble import BaggingClassifier\n",
    "for i in range(1,10):\n",
    "    bgcl = BaggingClassifier(base_estimator=knn, n_estimators=i,random_state=1)\n",
    "\n",
    "    bgcl = bgcl.fit(x_train, y_train)\n",
    "\n",
    "    y_predict = bgcl.predict(x_test)\n",
    "    print('\\n')\n",
    "    print('Number of estimators =',i)\n",
    "    print('Model Accuracy on Test Data :',bgcl.score(x_test,y_test))\n",
    "    print('Model Recall on Test Data :',metrics.recall_score(y_test , y_predict))"
   ]
  },
  {
   "cell_type": "code",
   "execution_count": null,
   "metadata": {},
   "outputs": [],
   "source": [
    "bgcl = BaggingClassifier(base_estimator=knn, n_estimators=7,random_state=1)\n",
    "\n",
    "bgcl = bgcl.fit(x_train, y_train)\n",
    "\n",
    "y_predict = bgcl.predict(x_test)\n",
    "print('Model Accuracy on Test Data :',bgcl.score(x_test,y_test))\n",
    "print('Model Recall on Test Data :',metrics.recall_score(y_test , y_predict))"
   ]
  },
  {
   "cell_type": "code",
   "execution_count": null,
   "metadata": {},
   "outputs": [],
   "source": [
    "\n",
    "cm=metrics.confusion_matrix(y_test, y_predict,labels=[0, 1])\n",
    "\n",
    "df_cm = pd.DataFrame(cm, index = [i for i in [\"No\",\"Yes\"]],\n",
    "                  columns = [i for i in [\"Predict No\",\"Predict Yes\"]])\n",
    "\n",
    "df_cm.T"
   ]
  },
  {
   "cell_type": "markdown",
   "metadata": {},
   "source": [
    "It was observed that KNN in Bagging Classifier with consumes a significant amount of resources with not enough results.\n",
    "Out of the client classified to subscribe to the term deposit,362 clients are correctly classified and 431 clients are wrongly classified.There is decrease in performance compared to the KNN Classfier."
   ]
  },
  {
   "cell_type": "code",
   "execution_count": null,
   "metadata": {},
   "outputs": [],
   "source": [
    "from sklearn import metrics\n",
    "\n",
    "print('Model Accuracy on Test Data :',metrics.accuracy_score(y_test , y_predict))\n",
    "\n",
    "print('Model Recall on Test Data :',metrics.recall_score(y_test , y_predict))\n",
    "\n",
    "print('Model Precision on Test Data:',metrics.precision_score(y_test , y_predict))\n",
    "\n",
    "print('Model f1 score on Test Data:',metrics.f1_score(y_test , y_predict))"
   ]
  },
  {
   "cell_type": "markdown",
   "metadata": {},
   "source": [
    "# Naive Bayes"
   ]
  },
  {
   "cell_type": "code",
   "execution_count": null,
   "metadata": {},
   "outputs": [],
   "source": [
    "from sklearn.naive_bayes import GaussianNB\n",
    "\n",
    "naive_model = GaussianNB()\n",
    "\n",
    "naive_model.fit(x_train, y_train.ravel())"
   ]
  },
  {
   "cell_type": "code",
   "execution_count": null,
   "metadata": {},
   "outputs": [],
   "source": [
    "naive_test_predict = naive_model.predict(x_test)\n",
    "\n",
    "from sklearn import metrics\n",
    "\n",
    "print('Model Accuracy on Test Data :',metrics.accuracy_score(y_test , naive_test_predict))\n",
    "\n",
    "print('Model Recall on Test Data :',metrics.recall_score(y_test , naive_test_predict))\n",
    "\n",
    "print('Model Precision on Test Data:',metrics.precision_score(y_test , naive_test_predict))\n",
    "\n",
    "print('Model f1 score on Test Data:',metrics.f1_score(y_test , naive_test_predict))"
   ]
  },
  {
   "cell_type": "code",
   "execution_count": null,
   "metadata": {},
   "outputs": [],
   "source": [
    "cm=metrics.confusion_matrix(y_test, y_predict,labels=[0, 1])\n",
    "\n",
    "df_cm = pd.DataFrame(cm, index = [i for i in [\"No\",\"Yes\"]],\n",
    "                  columns = [i for i in [\"Predict No\",\"Predict Yes\"]])\n",
    "\n",
    "df_cm.T"
   ]
  },
  {
   "cell_type": "markdown",
   "metadata": {},
   "source": [
    "The accuracy with naive bayes classifier performs the worst at accuracy compared to the other model.However,it performs the best at recall which a characterisitic required for our problem.The further analysis of the comparing the confusion matrix of this model in order to understand how it suits our case."
   ]
  },
  {
   "cell_type": "markdown",
   "metadata": {},
   "source": [
    "# Bagging Classifier with Naive Bayes"
   ]
  },
  {
   "cell_type": "code",
   "execution_count": null,
   "metadata": {},
   "outputs": [],
   "source": [
    "from sklearn.ensemble import BaggingClassifier\n",
    "for i in range(1,10):\n",
    "    bgcl = BaggingClassifier(base_estimator=naive_model, n_estimators=i,random_state=1)\n",
    "\n",
    "    bgcl = bgcl.fit(x_train, y_train)\n",
    "\n",
    "    y_predict = bgcl.predict(x_test)\n",
    "    print('\\n')\n",
    "    print('Number of estimators =',i)\n",
    "    print('Model Accuracy on Test Data :',bgcl.score(x_test,y_test))\n",
    "    print('Model Recall on Test Data :',metrics.recall_score(y_test , y_predict))\n"
   ]
  },
  {
   "cell_type": "markdown",
   "metadata": {},
   "source": [
    "The accuracy with naive bayes classifier tend to decrease a clear explanation can only be given by analysing the confusion matrix"
   ]
  },
  {
   "cell_type": "code",
   "execution_count": null,
   "metadata": {},
   "outputs": [],
   "source": [
    "bgcl = BaggingClassifier(base_estimator=naive_model, n_estimators=1,random_state=1)\n",
    "\n",
    "bgcl = bgcl.fit(x_train, y_train)\n",
    "\n",
    "y_predict = bgcl.predict(x_test)\n",
    "print('\\n')\n",
    "print('Model Accuracy on Test Data :',bgcl.score(x_test,y_test))\n",
    "print('Model Recall on Test Data :',metrics.recall_score(y_test , y_predict))"
   ]
  },
  {
   "cell_type": "code",
   "execution_count": null,
   "metadata": {},
   "outputs": [],
   "source": [
    "cm=metrics.confusion_matrix(y_test, y_predict,labels=[0, 1])\n",
    "\n",
    "df_cm = pd.DataFrame(cm, index = [i for i in [\"No\",\"Yes\"]],\n",
    "                  columns = [i for i in [\"Predict No\",\"Predict Yes\"]])\n",
    "\n",
    "df_cm.T"
   ]
  },
  {
   "cell_type": "code",
   "execution_count": null,
   "metadata": {},
   "outputs": [],
   "source": [
    "bgcl = BaggingClassifier(base_estimator=naive_model, n_estimators=2,random_state=1)\n",
    "\n",
    "bgcl = bgcl.fit(x_train, y_train)\n",
    "\n",
    "y_predict = bgcl.predict(x_test)\n",
    "print('\\n')\n",
    "print('Model Accuracy on Test Data :',bgcl.score(x_test,y_test))\n",
    "print('Model Recall on Test Data :',metrics.recall_score(y_test , y_predict))"
   ]
  },
  {
   "cell_type": "code",
   "execution_count": null,
   "metadata": {},
   "outputs": [],
   "source": [
    "cm=metrics.confusion_matrix(y_test, y_predict,labels=[0, 1])\n",
    "\n",
    "df_cm = pd.DataFrame(cm, index = [i for i in [\"No\",\"Yes\"]],\n",
    "                  columns = [i for i in [\"Predict No\",\"Predict Yes\"]])\n",
    "\n",
    "df_cm.T"
   ]
  },
  {
   "cell_type": "markdown",
   "metadata": {},
   "source": [
    "Out of the amount of clients that the model has predict it has correctly classified 666 clients correctly and 1475 clients wrongly.Here we see that there is significant increase in the correctly classfied client and wrongly hence a descision regarding the same can be taken somebody who can clearly understand the process in order to select the correct model keeping into mind the profit to be gained from the correctly classified clients to the human resource to be existinguished as well as irritation to the client caused for the wrongly classified clients as a whole.\n",
    "\n",
    "This also can help us in deciding whether number of estimators = 1 or number of estimator =2 is to be used for the bagging classfier.\n",
    "\n",
    "It can also be seen that there is significant increase in performance compared to the naive bayes classifier."
   ]
  },
  {
   "cell_type": "markdown",
   "metadata": {},
   "source": [
    "# Adaboost Classifier with Naive Bayes"
   ]
  },
  {
   "cell_type": "code",
   "execution_count": null,
   "metadata": {},
   "outputs": [],
   "source": [
    "from sklearn.ensemble import AdaBoostClassifier\n",
    "for i in range(5,50,2):\n",
    "    abcl = AdaBoostClassifier(base_estimator = naive_model,n_estimators=i, random_state=1)\n",
    "    abcl = abcl.fit(x_train, y_train)\n",
    "    y_predict = abcl.predict(x_test)\n",
    "    print(\"\\n\")\n",
    "    print('i=',i)\n",
    "    print('Model Accuracy on Test Data :',abcl.score(x_test , y_test))\n",
    "    print('Model Recall on Test Data :',metrics.recall_score(y_test , y_predict))"
   ]
  },
  {
   "cell_type": "code",
   "execution_count": null,
   "metadata": {},
   "outputs": [],
   "source": [
    "abcl = AdaBoostClassifier(base_estimator = naive_model,n_estimators=11, random_state=1)\n",
    "abcl = abcl.fit(x_train, y_train)\n",
    "y_predict = abcl.predict(x_test)\n",
    " \n",
    "print('Model Accuracy on Test Data :',abcl.score(x_test , y_test))\n",
    "print('Model Recall on Test Data :',metrics.recall_score(y_test , y_predict))"
   ]
  },
  {
   "cell_type": "code",
   "execution_count": null,
   "metadata": {},
   "outputs": [],
   "source": [
    "cm=metrics.confusion_matrix(y_test, y_predict,labels=[0, 1])\n",
    "\n",
    "df_cm = pd.DataFrame(cm, index = [i for i in [\"No\",\"Yes\"]],\n",
    "                  columns = [i for i in [\"Predict No\",\"Predict Yes\"]])\n",
    "\n",
    "df_cm.T"
   ]
  },
  {
   "cell_type": "markdown",
   "metadata": {},
   "source": [
    "The Adaboost Classifier with Naive Bayes does not perform as significantly as the Bagging Classifier with Naive Bayes and the number of wrong classified client also increase with a significant decrease in the correctly classified clients"
   ]
  },
  {
   "cell_type": "markdown",
   "metadata": {},
   "source": [
    "# Logistic Regression"
   ]
  },
  {
   "cell_type": "code",
   "execution_count": null,
   "metadata": {},
   "outputs": [],
   "source": [
    "from sklearn.linear_model import LogisticRegression\n",
    "\n",
    "cols = x_train.columns\n",
    "lr = LogisticRegression(solver='liblinear')\n",
    "lr.fit(x_train, y_train)\n",
    "\n",
    "y_predict = lr.predict(x_test)\n",
    "\n",
    "coef_df = pd.DataFrame(lr.coef_,columns =cols)\n",
    "coef_df['intercept'] = lr.intercept_\n",
    "\n",
    "coef_df"
   ]
  },
  {
   "cell_type": "code",
   "execution_count": null,
   "metadata": {},
   "outputs": [],
   "source": [
    "print('Model Precision on Test Data:',lr.score(x_test, y_test))\n",
    "print('Model Recall on Test Data:',metrics.recall_score(y_test , y_predict))"
   ]
  },
  {
   "cell_type": "code",
   "execution_count": null,
   "metadata": {},
   "outputs": [],
   "source": [
    "cm=metrics.confusion_matrix(y_test, y_predict,labels=[0, 1])\n",
    "\n",
    "df_cm = pd.DataFrame(cm, index = [i for i in [\"No\",\"Yes\"]],\n",
    "                  columns = [i for i in [\"Predict No\",\"Predict Yes\"]])\n",
    "\n",
    "df_cm.T"
   ]
  },
  {
   "cell_type": "markdown",
   "metadata": {},
   "source": [
    "The logistic regression classifier underperforms in comparison to the other classifiers for this data set."
   ]
  },
  {
   "cell_type": "markdown",
   "metadata": {},
   "source": [
    "# 7.Compare performances of all the models"
   ]
  },
  {
   "cell_type": "markdown",
   "metadata": {},
   "source": [
    "As per my understanding that was earlier explained,the recall would be a more important parameter to compare the modelin order to suit our needs as we can estimate that the profit of gaining a client to subscribe is much greater than the cost of human resource extinguished in contacting a wrongly classified client.This may not be the case in some developed countries.But i presume that this is surely the case in many of the developing countries.\n",
    "\n",
    "Taking this Bagging Classifier with naive bayes classifier is the best classifier to be used as correctly classifies a significantly with a comparitively greater number of misclassified clients.However,as I specified if the cost of losing of a potential client is more than 3 times the cost of calling a wrongly classified client.It is profitable to go with this model.\n",
    "\n",
    "The Random Forest Classifier also perform good compared to the classifiers with descision tree with a lower number of misclassified client compared to the correctly classified client.But as I said taking into account the profit of losing a potential client and cost of contacting a wrongly classified client,the former outweighs the later making the Random Forest Classifier inferior to the Bagging Classifier with Naive Bayes."
   ]
  },
  {
   "cell_type": "code",
   "execution_count": null,
   "metadata": {},
   "outputs": [],
   "source": []
  }
 ],
 "metadata": {
  "kernelspec": {
   "display_name": "Python 3",
   "language": "python",
   "name": "python3"
  },
  "language_info": {
   "codemirror_mode": {
    "name": "ipython",
    "version": 3
   },
   "file_extension": ".py",
   "mimetype": "text/x-python",
   "name": "python",
   "nbconvert_exporter": "python",
   "pygments_lexer": "ipython3",
   "version": "3.7.4"
  }
 },
 "nbformat": 4,
 "nbformat_minor": 2
}
